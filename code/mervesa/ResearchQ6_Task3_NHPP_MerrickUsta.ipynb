{
 "cells": [
  {
   "cell_type": "code",
   "execution_count": 79,
   "id": "8bfcd72d",
   "metadata": {},
   "outputs": [],
   "source": [
    "#Pandas display options\n",
    "pd.options.display.max_rows = 999"
   ]
  },
  {
   "cell_type": "code",
   "execution_count": 80,
   "id": "2783cf60",
   "metadata": {},
   "outputs": [],
   "source": [
    "#Use gdown to download the NHPD data\n",
    "#!pip install gdown"
   ]
  },
  {
   "cell_type": "code",
   "execution_count": 81,
   "id": "d18da9bf",
   "metadata": {},
   "outputs": [
    {
     "name": "stderr",
     "output_type": "stream",
     "text": [
      "Downloading...\n",
      "From: https://drive.google.com/u/0/uc?id=19EMDNi6AT4pecx_iWltZv0GxLYqv4Eof&export=download\n",
      "To: /Users/m0u00pf/sep21-housing-insecurity/code/mervesa/data/active_and_inconclusive_communities.xlsx\n",
      "44.4MB [00:01, 39.3MB/s]\n"
     ]
    },
    {
     "data": {
      "text/plain": [
       "'./data/active_and_inconclusive_communities.xlsx'"
      ]
     },
     "execution_count": 81,
     "metadata": {},
     "output_type": "execute_result"
    }
   ],
   "source": [
    "#Download the NHPD data into the ./data/ folder\n",
    "import gdown\n",
    "\n",
    "url = 'https://drive.google.com/u/0/uc?id=19EMDNi6AT4pecx_iWltZv0GxLYqv4Eof&export=download'\n",
    "output = './data/active_and_inconclusive_communities.xlsx'\n",
    "gdown.download(url, output, quiet=False)\n"
   ]
  },
  {
   "cell_type": "code",
   "execution_count": 109,
   "id": "cbabe69a",
   "metadata": {},
   "outputs": [],
   "source": [
    "#Read the downloaded file\n",
    "import pandas as pd\n",
    "nhpd_data=pd.read_excel('./data/active_and_inconclusive_communities.xlsx')"
   ]
  },
  {
   "cell_type": "code",
   "execution_count": 110,
   "id": "62601d06",
   "metadata": {},
   "outputs": [
    {
     "data": {
      "text/plain": [
       "(82287, 252)"
      ]
     },
     "execution_count": 110,
     "metadata": {},
     "output_type": "execute_result"
    }
   ],
   "source": [
    "nhpd_data.shape"
   ]
  },
  {
   "cell_type": "code",
   "execution_count": 111,
   "id": "b600cbfa",
   "metadata": {},
   "outputs": [],
   "source": [
    "#Eliminate any columns that have more than 97% nulls\n",
    "null_columns=(nhpd_data.isnull().sum()/len(nhpd_data))[nhpd_data.isnull().sum()/len(nhpd_data)>0.97].index"
   ]
  },
  {
   "cell_type": "code",
   "execution_count": 112,
   "id": "9964cb05",
   "metadata": {},
   "outputs": [],
   "source": [
    "nhpd_data.drop(null_columns,axis=1,inplace=True)"
   ]
  },
  {
   "cell_type": "code",
   "execution_count": 113,
   "id": "b663f675",
   "metadata": {},
   "outputs": [],
   "source": [
    "#Incorporate Anabel and Sam's analysis of full and/or informative columns\n",
    "sam_colstokeep=['NHPDPropertyID',\n",
    "'PropertyName',\n",
    "'PropertyAddress',\n",
    "'CBSACode',\n",
    "'CountyCode',\n",
    "'CensusTract',\n",
    "'City',\n",
    "'County',\n",
    "'State',\n",
    "'Latitude',\n",
    "'Longitude',\n",
    "'ActiveSubsidies',\n",
    "'TotalInconclusiveSubsidies',\n",
    "'TotalInactiveSubsidies',\n",
    "'TotalUnits',\n",
    "'EarliestEndDate',\n",
    "'LatestEndDate',\n",
    "'StudioOneBedroomUnits',\n",
    "'TwoBedroomUnits',\n",
    "'ThreePlusBedroomUnits',\n",
    "'FairMarketRent_2BR',\n",
    "'EarliestConstructionDate',\n",
    "'LatestConstructionDate',\n",
    "'NumberActiveSection8',\n",
    "'NumberInconclusiveSection8',\n",
    "'NumberInactiveSection8',\n",
    "'NumberActiveSection202',\n",
    "'NumberActiveHUDInsured',\n",
    "'NumberInconclusiveHUDInsured',\n",
    "'NumberInactiveHud',\n",
    "'NumberActiveLihtc',\n",
    "'NumberInconclusiveLihtc',\n",
    "'NumberInactiveLihtc',\n",
    "'NumberActiveSection515',\n",
    "'NumberInactiveSection515',\n",
    "'NumberActiveHome',\n",
    "'NumberInactiveHome',\n",
    "'NumberActivePublicHousing',\n",
    "'NumberInactivePublicHousing',\n",
    "'NumberActiveState',\n",
    "'NumberInactiveState',\n",
    "'NumberActivePBV',\n",
    "'NumberActiveMR',\n",
    "'OldNHPDPropertyID']\n",
    "anabel_colstokeep=['ActiveSubsidies',\n",
    "'TotalInconclusiveSubsidies',\n",
    "'TotalInactiveSubsidies',\n",
    "'TotalUnits',\n",
    "'Owner',\n",
    "'OwnerType',\n",
    "'ManagerName',\n",
    "'ManagerType',\n",
    "'ReacScore1',\n",
    "'ReacScore2',\n",
    "'ReacScore3',\n",
    "'StudioOneBedroomUnits',\n",
    "'TwoBedroomUnits',\n",
    "'ThreePlusBedroomUnits',\n",
    "'PercentofELIHouseholds',\n",
    "'TargetTenantType',\n",
    "'FairMarketRent_2BR',\n",
    "'OccupancyRate',\n",
    "'AverageMonthsOfTenancy']\n",
    "colstokeep=list(set(sam_colstokeep+anabel_colstokeep))\n",
    "nhpd_data=nhpd_data[colstokeep]"
   ]
  },
  {
   "cell_type": "code",
   "execution_count": 114,
   "id": "8e14014d",
   "metadata": {},
   "outputs": [
    {
     "data": {
      "text/plain": [
       "(82287, 55)"
      ]
     },
     "execution_count": 114,
     "metadata": {},
     "output_type": "execute_result"
    }
   ],
   "source": [
    "nhpd_data.shape"
   ]
  },
  {
   "cell_type": "code",
   "execution_count": 115,
   "id": "eab6af14",
   "metadata": {},
   "outputs": [
    {
     "name": "stderr",
     "output_type": "stream",
     "text": [
      "Downloading...\n",
      "From: https://drive.google.com/uc?id=1abt4fLPO__KxBLz9SXue5VKeZN3cUcCF&export=download\n",
      "To: /Users/m0u00pf/sep21-housing-insecurity/code/mervesa/data/hills_loss.csv\n",
      "100%|██████████| 207k/207k [00:00<00:00, 4.51MB/s]\n",
      "Downloading...\n",
      "From: https://drive.google.com/uc?id=1gLojTGS6HQ1s60gmIxFCq2xObB1634BU&export=download\n",
      "To: /Users/m0u00pf/sep21-housing-insecurity/code/mervesa/data/miami_loss.csv\n",
      "100%|██████████| 321k/321k [00:00<00:00, 7.35MB/s]\n",
      "Downloading...\n",
      "From: https://drive.google.com/uc?id=15ee2QrH8a_yuIfptGwAsVF-tWGTEYXCy&export=download\n",
      "To: /Users/m0u00pf/sep21-housing-insecurity/code/mervesa/data/orange_loss.csv\n",
      "100%|██████████| 143k/143k [00:00<00:00, 3.88MB/s]\n"
     ]
    },
    {
     "data": {
      "text/plain": [
       "'./data/orange_loss.csv'"
      ]
     },
     "execution_count": 115,
     "metadata": {},
     "output_type": "execute_result"
    }
   ],
   "source": [
    "#Read housing loss data\n",
    "#Hillsborough\n",
    "url = 'https://drive.google.com/uc?id=1abt4fLPO__KxBLz9SXue5VKeZN3cUcCF&export=download'\n",
    "output = './data/hills_loss.csv'\n",
    "gdown.download(url, output, quiet=False)\n",
    "#Miami-Dade\n",
    "url = 'https://drive.google.com/uc?id=1gLojTGS6HQ1s60gmIxFCq2xObB1634BU&export=download'\n",
    "output = './data/miami_loss.csv'\n",
    "gdown.download(url, output, quiet=False)\n",
    "#Orange\n",
    "url = 'https://drive.google.com/uc?id=15ee2QrH8a_yuIfptGwAsVF-tWGTEYXCy&export=download'\n",
    "output = './data/orange_loss.csv'\n",
    "gdown.download(url, output, quiet=False)"
   ]
  },
  {
   "cell_type": "code",
   "execution_count": 116,
   "id": "4c91abd6",
   "metadata": {},
   "outputs": [],
   "source": [
    "housing_loss=pd.concat([pd.read_csv('./data/hills_loss.csv'),\n",
    "                       pd.read_csv('./data/miami_loss.csv'),\n",
    "                       pd.read_csv('./data/orange_loss.csv')])"
   ]
  },
  {
   "cell_type": "code",
   "execution_count": 117,
   "id": "38f1e012",
   "metadata": {},
   "outputs": [],
   "source": [
    "#Get census tracts, compare with those in NHPD data\n",
    "housing_loss.rename(columns={'census_tract_GEOID':'CensusTract'},inplace=True)"
   ]
  },
  {
   "cell_type": "code",
   "execution_count": 118,
   "id": "6c3a9422",
   "metadata": {},
   "outputs": [],
   "source": [
    "nhpd_data=nhpd_data.merge(housing_loss,how=\"inner\",on=['CensusTract'])"
   ]
  },
  {
   "cell_type": "code",
   "execution_count": 119,
   "id": "d5aaabe0",
   "metadata": {},
   "outputs": [
    {
     "data": {
      "text/plain": [
       "Index(['NumberInconclusiveHUDInsured', 'EarliestConstructionDate',\n",
       "       'TotalUnits', 'NumberInactiveLihtc', 'EarliestEndDate',\n",
       "       'NumberActiveHUDInsured', 'NumberInactiveHud', 'ManagerName',\n",
       "       'NumberActiveState', 'CountyCode',\n",
       "       ...\n",
       "       'lien-foreclosure-rate-2019', 'avg-eviction-rate',\n",
       "       'ratio-to-mean-foreclosure-rate', 'ratio-to-mean-eviction-rate',\n",
       "       'avg-housing-loss-rate', 'evictions-pct-total-housing-loss',\n",
       "       'housing-loss-index', 'county_GEOID', 'county', 'state'],\n",
       "      dtype='object', length=127)"
      ]
     },
     "execution_count": 119,
     "metadata": {},
     "output_type": "execute_result"
    }
   ],
   "source": [
    "nhpd_data.columns"
   ]
  },
  {
   "cell_type": "code",
   "execution_count": 120,
   "id": "ea6d48d9",
   "metadata": {},
   "outputs": [
    {
     "name": "stderr",
     "output_type": "stream",
     "text": [
      "/Users/m0u00pf/anaconda3/lib/python3.8/site-packages/pandas/core/indexing.py:1637: SettingWithCopyWarning: \n",
      "A value is trying to be set on a copy of a slice from a DataFrame\n",
      "\n",
      "See the caveats in the documentation: https://pandas.pydata.org/pandas-docs/stable/user_guide/indexing.html#returning-a-view-versus-a-copy\n",
      "  self._setitem_single_block(indexer, value, name)\n",
      "<ipython-input-120-d6e77642df68>:16: FutureWarning: The default value of regex will change from True to False in a future version.\n",
      "  data['TargetTenantType'] = data['TargetTenantType'].str.replace(\"Indv. families - not eld/ handicap\", \"Family\")\n"
     ]
    }
   ],
   "source": [
    "# Thanks to Laura Prichard - Homogenizing column formats\n",
    "data = nhpd_data.copy()\n",
    "data['PropertyName'] = data['PropertyName'].str.upper()\n",
    "data['PropertyAddress'] = data['PropertyAddress'].str.title()\n",
    "data['City'] = data['City'].str.title()\n",
    "data['County'] = data['County'].str.title()\n",
    "data['Owner'] = data['Owner'].str.upper()\n",
    "data['ManagerName'] = data['ManagerName'].str.upper()\n",
    "\n",
    "# Replace state name for Guam\n",
    "data['State'].loc[data['State']=='WP'] = 'GU'\n",
    "\n",
    "# Target Tenant Type cleaning\n",
    "data['TargetTenantType'] = data['TargetTenantType'].str.replace(\"Eldery or Disabled\", \"Elderly or Disabled\")\n",
    "data['TargetTenantType'] = data['TargetTenantType'].str.replace(\"Mixed;Link\", \"Mixed\")\n",
    "data['TargetTenantType'] = data['TargetTenantType'].str.replace(\"Indv. families - not eld/ handicap\", \"Family\")\n",
    "data['TargetTenantType'] = data['TargetTenantType'].str.replace(\"Senior\", \"Elderly\")\n",
    "data['TargetTenantType'] = data['TargetTenantType'].str.replace(\"Family & Elderly\", \"Mixed\")\n",
    "data['TargetTenantType'] = data['TargetTenantType'].str.replace(\"Homeless Veterans\", \"Veterans\")\n",
    "data['TargetTenantType'] = data['TargetTenantType'].str.replace(\"Mixed Income\", \"Mixed\")\n",
    "data['TargetTenantType'] = data['TargetTenantType'].str.replace(\"OTHER\", \"Mixed\")\n",
    "data['TargetTenantType'] = data['TargetTenantType'].str.replace(\"Affordable\", \"Low Income\")\n",
    "data['TargetTenantType'] = data['TargetTenantType'].str.title()"
   ]
  },
  {
   "cell_type": "code",
   "execution_count": 122,
   "id": "515f2337",
   "metadata": {},
   "outputs": [],
   "source": [
    "data.to_excel('nhpd_with_housingloss.xlsx')"
   ]
  },
  {
   "cell_type": "code",
   "execution_count": null,
   "id": "9c1c14af",
   "metadata": {},
   "outputs": [],
   "source": []
  }
 ],
 "metadata": {
  "kernelspec": {
   "display_name": "Python 3",
   "language": "python",
   "name": "python3"
  },
  "language_info": {
   "codemirror_mode": {
    "name": "ipython",
    "version": 3
   },
   "file_extension": ".py",
   "mimetype": "text/x-python",
   "name": "python",
   "nbconvert_exporter": "python",
   "pygments_lexer": "ipython3",
   "version": "3.8.8"
  }
 },
 "nbformat": 4,
 "nbformat_minor": 5
}
