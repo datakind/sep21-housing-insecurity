{
 "cells": [
  {
   "cell_type": "markdown",
   "id": "569f92aa",
   "metadata": {},
   "source": [
    "## Update the ACS data dictionaries"
   ]
  },
  {
   "cell_type": "code",
   "execution_count": 1,
   "id": "247680cf",
   "metadata": {},
   "outputs": [],
   "source": [
    "import json\n",
    "from urllib.request import urlopen, Request\n",
    "import pandas as pd\n",
    "from tqdm import tqdm"
   ]
  },
  {
   "cell_type": "code",
   "execution_count": 2,
   "id": "182731e3",
   "metadata": {},
   "outputs": [],
   "source": [
    "# Retrieve ACS disctionary files from the new URLS (provided by Emily)\n",
    "request_14 = Request('https://api.census.gov/data/2014/acs/acs5/subject/variables.json')\n",
    "request_19 = Request('https://api.census.gov/data/2019/acs/acs5/subject/variables.json')\n",
    "response_14 = urlopen(request_14)\n",
    "response_19 = urlopen(request_19)\n",
    "elevations_14 = response_14.read()\n",
    "elevations_19 = response_19.read()\n",
    "acs_14_raw = json.loads(elevations_14)\n",
    "acs_19_raw = json.loads(elevations_19)"
   ]
  },
  {
   "cell_type": "code",
   "execution_count": 4,
   "id": "477192b4",
   "metadata": {},
   "outputs": [],
   "source": [
    "# Reorganize results of json (returned in the prev step) in a pandas df\n",
    "# ---Explore a vectorized alternative for the following function----\n",
    "\n",
    "def reorganize_acs_dic(dic):\n",
    "    dic_1 = pd.json_normalize(dic['variables'], max_level = 0)\n",
    "    dic_cols = ['variable_code', 'label', 'concept', 'predicateType', 'group', 'limit', 'attributes', 'predicateOnly']\n",
    "    dic_2 = pd.DataFrame(columns = dic_cols)\n",
    "    l = dic_1.shape[1]\n",
    "    i = 0\n",
    "    for c in dic_1.columns:\n",
    "        i+=1\n",
    "        dic_3 = pd.json_normalize(dic_1.loc[0, c])\n",
    "        dic_3['variable_code'] = c\n",
    "        dic_2 = dic_2.append(dic_3, ignore_index = True)\n",
    "        print('Processing {}%'.format((i*100)/l), end = '\\r')\n",
    "    return dic_2"
   ]
  },
  {
   "cell_type": "code",
   "execution_count": 5,
   "id": "027d9276",
   "metadata": {},
   "outputs": [
    {
     "name": "stdout",
     "output_type": "stream",
     "text": [
      "Processing 100.0%21297678839%%%%\r"
     ]
    }
   ],
   "source": [
    "acs_14_processed = reorganize_acs_dic(acs_14_raw)"
   ]
  },
  {
   "cell_type": "code",
   "execution_count": 6,
   "id": "2c8f35d4",
   "metadata": {},
   "outputs": [
    {
     "name": "stdout",
     "output_type": "stream",
     "text": [
      "Processing 100.0%68396151188%%%%\r"
     ]
    }
   ],
   "source": [
    "acs_19_processed = reorganize_acs_dic(acs_19_raw)"
   ]
  },
  {
   "cell_type": "code",
   "execution_count": 7,
   "id": "bb0c21c6",
   "metadata": {},
   "outputs": [
    {
     "data": {
      "text/html": [
       "<div>\n",
       "<style scoped>\n",
       "    .dataframe tbody tr th:only-of-type {\n",
       "        vertical-align: middle;\n",
       "    }\n",
       "\n",
       "    .dataframe tbody tr th {\n",
       "        vertical-align: top;\n",
       "    }\n",
       "\n",
       "    .dataframe thead th {\n",
       "        text-align: right;\n",
       "    }\n",
       "</style>\n",
       "<table border=\"1\" class=\"dataframe\">\n",
       "  <thead>\n",
       "    <tr style=\"text-align: right;\">\n",
       "      <th></th>\n",
       "      <th>variable_code</th>\n",
       "      <th>label</th>\n",
       "      <th>concept</th>\n",
       "      <th>predicateType</th>\n",
       "      <th>group</th>\n",
       "      <th>limit</th>\n",
       "      <th>attributes</th>\n",
       "      <th>predicateOnly</th>\n",
       "      <th>required</th>\n",
       "      <th>values.item.R1</th>\n",
       "      <th>...</th>\n",
       "      <th>values.item.H1</th>\n",
       "      <th>values.item.H2</th>\n",
       "      <th>values.item.J0</th>\n",
       "      <th>values.item.L0</th>\n",
       "      <th>values.item.M0</th>\n",
       "      <th>values.item.M1</th>\n",
       "      <th>values.item.M3</th>\n",
       "      <th>values.item.M5</th>\n",
       "      <th>values.item.M6</th>\n",
       "      <th>values.item.P0</th>\n",
       "    </tr>\n",
       "  </thead>\n",
       "  <tbody>\n",
       "    <tr>\n",
       "      <th>0</th>\n",
       "      <td>for</td>\n",
       "      <td>Census API FIPS 'for' clause</td>\n",
       "      <td>Census API Geography Specification</td>\n",
       "      <td>fips-for</td>\n",
       "      <td>N/A</td>\n",
       "      <td>0</td>\n",
       "      <td>NaN</td>\n",
       "      <td>True</td>\n",
       "      <td>NaN</td>\n",
       "      <td>NaN</td>\n",
       "      <td>...</td>\n",
       "      <td>NaN</td>\n",
       "      <td>NaN</td>\n",
       "      <td>NaN</td>\n",
       "      <td>NaN</td>\n",
       "      <td>NaN</td>\n",
       "      <td>NaN</td>\n",
       "      <td>NaN</td>\n",
       "      <td>NaN</td>\n",
       "      <td>NaN</td>\n",
       "      <td>NaN</td>\n",
       "    </tr>\n",
       "    <tr>\n",
       "      <th>1</th>\n",
       "      <td>in</td>\n",
       "      <td>Census API FIPS 'in' clause</td>\n",
       "      <td>Census API Geography Specification</td>\n",
       "      <td>fips-in</td>\n",
       "      <td>N/A</td>\n",
       "      <td>0</td>\n",
       "      <td>NaN</td>\n",
       "      <td>True</td>\n",
       "      <td>NaN</td>\n",
       "      <td>NaN</td>\n",
       "      <td>...</td>\n",
       "      <td>NaN</td>\n",
       "      <td>NaN</td>\n",
       "      <td>NaN</td>\n",
       "      <td>NaN</td>\n",
       "      <td>NaN</td>\n",
       "      <td>NaN</td>\n",
       "      <td>NaN</td>\n",
       "      <td>NaN</td>\n",
       "      <td>NaN</td>\n",
       "      <td>NaN</td>\n",
       "    </tr>\n",
       "    <tr>\n",
       "      <th>2</th>\n",
       "      <td>ucgid</td>\n",
       "      <td>Uniform Census Geography Identifier clause</td>\n",
       "      <td>Census API Geography Specification</td>\n",
       "      <td>ucgid</td>\n",
       "      <td>N/A</td>\n",
       "      <td>0</td>\n",
       "      <td>NaN</td>\n",
       "      <td>True</td>\n",
       "      <td>NaN</td>\n",
       "      <td>NaN</td>\n",
       "      <td>...</td>\n",
       "      <td>NaN</td>\n",
       "      <td>NaN</td>\n",
       "      <td>NaN</td>\n",
       "      <td>NaN</td>\n",
       "      <td>NaN</td>\n",
       "      <td>NaN</td>\n",
       "      <td>NaN</td>\n",
       "      <td>NaN</td>\n",
       "      <td>NaN</td>\n",
       "      <td>NaN</td>\n",
       "    </tr>\n",
       "    <tr>\n",
       "      <th>3</th>\n",
       "      <td>S0804_C04_068E</td>\n",
       "      <td>Public transportation (excluding taxicab)!!Est...</td>\n",
       "      <td>MEANS OF TRANSPORTATION TO WORK BY SELECTED CH...</td>\n",
       "      <td>float</td>\n",
       "      <td>S0804</td>\n",
       "      <td>0</td>\n",
       "      <td>S0804_C04_068EA,S0804_C04_068M,S0804_C04_068MA</td>\n",
       "      <td>NaN</td>\n",
       "      <td>NaN</td>\n",
       "      <td>NaN</td>\n",
       "      <td>...</td>\n",
       "      <td>NaN</td>\n",
       "      <td>NaN</td>\n",
       "      <td>NaN</td>\n",
       "      <td>NaN</td>\n",
       "      <td>NaN</td>\n",
       "      <td>NaN</td>\n",
       "      <td>NaN</td>\n",
       "      <td>NaN</td>\n",
       "      <td>NaN</td>\n",
       "      <td>NaN</td>\n",
       "    </tr>\n",
       "    <tr>\n",
       "      <th>4</th>\n",
       "      <td>S0503_C02_078E</td>\n",
       "      <td>Foreign born; Born in Europe!!Estimate!!INDUST...</td>\n",
       "      <td>SELECTED CHARACTERISTICS OF THE FOREIGN-BORN P...</td>\n",
       "      <td>float</td>\n",
       "      <td>S0503</td>\n",
       "      <td>0</td>\n",
       "      <td>S0503_C02_078EA,S0503_C02_078M,S0503_C02_078MA</td>\n",
       "      <td>NaN</td>\n",
       "      <td>NaN</td>\n",
       "      <td>NaN</td>\n",
       "      <td>...</td>\n",
       "      <td>NaN</td>\n",
       "      <td>NaN</td>\n",
       "      <td>NaN</td>\n",
       "      <td>NaN</td>\n",
       "      <td>NaN</td>\n",
       "      <td>NaN</td>\n",
       "      <td>NaN</td>\n",
       "      <td>NaN</td>\n",
       "      <td>NaN</td>\n",
       "      <td>NaN</td>\n",
       "    </tr>\n",
       "  </tbody>\n",
       "</table>\n",
       "<p>5 rows × 196 columns</p>\n",
       "</div>"
      ],
      "text/plain": [
       "    variable_code                                              label  \\\n",
       "0             for                       Census API FIPS 'for' clause   \n",
       "1              in                        Census API FIPS 'in' clause   \n",
       "2           ucgid         Uniform Census Geography Identifier clause   \n",
       "3  S0804_C04_068E  Public transportation (excluding taxicab)!!Est...   \n",
       "4  S0503_C02_078E  Foreign born; Born in Europe!!Estimate!!INDUST...   \n",
       "\n",
       "                                             concept predicateType  group  \\\n",
       "0                 Census API Geography Specification      fips-for    N/A   \n",
       "1                 Census API Geography Specification       fips-in    N/A   \n",
       "2                 Census API Geography Specification         ucgid    N/A   \n",
       "3  MEANS OF TRANSPORTATION TO WORK BY SELECTED CH...         float  S0804   \n",
       "4  SELECTED CHARACTERISTICS OF THE FOREIGN-BORN P...         float  S0503   \n",
       "\n",
       "  limit                                      attributes predicateOnly  \\\n",
       "0     0                                             NaN          True   \n",
       "1     0                                             NaN          True   \n",
       "2     0                                             NaN          True   \n",
       "3     0  S0804_C04_068EA,S0804_C04_068M,S0804_C04_068MA           NaN   \n",
       "4     0  S0503_C02_078EA,S0503_C02_078M,S0503_C02_078MA           NaN   \n",
       "\n",
       "  required values.item.R1  ... values.item.H1 values.item.H2 values.item.J0  \\\n",
       "0      NaN            NaN  ...            NaN            NaN            NaN   \n",
       "1      NaN            NaN  ...            NaN            NaN            NaN   \n",
       "2      NaN            NaN  ...            NaN            NaN            NaN   \n",
       "3      NaN            NaN  ...            NaN            NaN            NaN   \n",
       "4      NaN            NaN  ...            NaN            NaN            NaN   \n",
       "\n",
       "  values.item.L0 values.item.M0 values.item.M1 values.item.M3 values.item.M5  \\\n",
       "0            NaN            NaN            NaN            NaN            NaN   \n",
       "1            NaN            NaN            NaN            NaN            NaN   \n",
       "2            NaN            NaN            NaN            NaN            NaN   \n",
       "3            NaN            NaN            NaN            NaN            NaN   \n",
       "4            NaN            NaN            NaN            NaN            NaN   \n",
       "\n",
       "  values.item.M6 values.item.P0  \n",
       "0            NaN            NaN  \n",
       "1            NaN            NaN  \n",
       "2            NaN            NaN  \n",
       "3            NaN            NaN  \n",
       "4            NaN            NaN  \n",
       "\n",
       "[5 rows x 196 columns]"
      ]
     },
     "execution_count": 7,
     "metadata": {},
     "output_type": "execute_result"
    }
   ],
   "source": [
    "acs_14_processed.head(5)"
   ]
  },
  {
   "cell_type": "code",
   "execution_count": 8,
   "id": "d62467b3",
   "metadata": {},
   "outputs": [
    {
     "ename": "NameError",
     "evalue": "name 'acs_14_processed_1' is not defined",
     "output_type": "error",
     "traceback": [
      "\u001b[0;31m---------------------------------------------------------------------------\u001b[0m",
      "\u001b[0;31mNameError\u001b[0m                                 Traceback (most recent call last)",
      "\u001b[0;32m<ipython-input-8-3b79a413b006>\u001b[0m in \u001b[0;36m<module>\u001b[0;34m\u001b[0m\n\u001b[0;32m----> 1\u001b[0;31m \u001b[0macs_14_processed_1\u001b[0m\u001b[0;34m.\u001b[0m\u001b[0mloc\u001b[0m\u001b[0;34m[\u001b[0m\u001b[0;34m~\u001b[0m\u001b[0macs_14_processed_1\u001b[0m\u001b[0;34m[\u001b[0m\u001b[0;34m'values.item.R1'\u001b[0m\u001b[0;34m]\u001b[0m\u001b[0;34m.\u001b[0m\u001b[0misna\u001b[0m\u001b[0;34m(\u001b[0m\u001b[0;34m)\u001b[0m\u001b[0;34m]\u001b[0m\u001b[0;34m\u001b[0m\u001b[0;34m\u001b[0m\u001b[0m\n\u001b[0m",
      "\u001b[0;31mNameError\u001b[0m: name 'acs_14_processed_1' is not defined"
     ]
    }
   ],
   "source": [
    "acs_14_processed_1.loc[~acs_14_processed_1['values.item.R1'].isna()]"
   ]
  },
  {
   "cell_type": "code",
   "execution_count": null,
   "id": "0f91241a",
   "metadata": {},
   "outputs": [],
   "source": [
    "# Data cleaning : 2014 ACS Dictionary\n",
    "acs_14_processed_1 = (\n",
    "    acs_14_processed\n",
    "    .loc[3:, :]                                          # Drop first 3 rows\n",
    "    .loc[acs_14_processed['variable_code'] != 'GEOCOMP'] # Drop GEOCOMP variable code\n",
    "    .dropna(axis = 1, how = 'all')                       # Drop columns with all null entries \n",
    "    .drop('limit', axis = 1, errors = 'ignore')          # Limit column only contains 0s\n",
    "    .reset_index(drop = True)\n",
    ")\n",
    "\n",
    "acs_14_processed_1['label'] = acs_14_processed_1['label'].str.upper() # Change labels to upper case\n",
    "\n",
    "acs_14_processed_1.head(5)"
   ]
  },
  {
   "cell_type": "code",
   "execution_count": null,
   "id": "8c33ba8c",
   "metadata": {},
   "outputs": [],
   "source": [
    "acs_19_processed.head(5)"
   ]
  },
  {
   "cell_type": "code",
   "execution_count": null,
   "id": "c6d2fabd",
   "metadata": {},
   "outputs": [],
   "source": [
    "# Data cleaning : 2019 ACS Dictionary\n",
    "acs_19_processed_1 = (\n",
    "    acs_19_processed\n",
    "    .loc[3:, :]                                          # Drop first 3 rows\n",
    "    .loc[acs_19_processed['variable_code'] != 'GEOCOMP'] # Drop GEOCOMP variable code\n",
    "    .dropna(axis = 1, how = 'all')                       # Drop columns with all null entries \n",
    "    .drop('limit', axis = 1, errors = 'ignore')          # Limit column only contains 0s\n",
    "    .reset_index(drop = True)\n",
    ")\n",
    "\n",
    "acs_19_processed_1['label'] = acs_19_processed_1['label'].str.upper() # Change labels to upper case\n",
    "\n",
    "acs_19_processed_1.head(5)"
   ]
  },
  {
   "cell_type": "code",
   "execution_count": null,
   "id": "56208bd1",
   "metadata": {},
   "outputs": [],
   "source": [
    "acs_14_processed_1.describe()"
   ]
  },
  {
   "cell_type": "code",
   "execution_count": null,
   "id": "955bb924",
   "metadata": {},
   "outputs": [],
   "source": [
    "acs_19_processed_1.describe()"
   ]
  },
  {
   "cell_type": "code",
   "execution_count": null,
   "id": "a8b84634",
   "metadata": {},
   "outputs": [],
   "source": [
    "acs_14_processed_1.to_csv('data/acs_dictionary_2014_updated.csv')\n",
    "acs_19_processed_1.to_csv('data/acs_dictionary_2019_updated.csv')"
   ]
  }
 ],
 "metadata": {
  "kernelspec": {
   "display_name": "Python 3",
   "language": "python",
   "name": "python3"
  },
  "language_info": {
   "codemirror_mode": {
    "name": "ipython",
    "version": 3
   },
   "file_extension": ".py",
   "mimetype": "text/x-python",
   "name": "python",
   "nbconvert_exporter": "python",
   "pygments_lexer": "ipython3",
   "version": "3.8.8"
  }
 },
 "nbformat": 4,
 "nbformat_minor": 5
}
