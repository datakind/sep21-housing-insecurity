{
 "cells": [
  {
   "cell_type": "markdown",
   "metadata": {},
   "source": [
    "### DataDive September 2021\n",
    "### Housing Insecurity project\n",
    "\n",
    "Notebook for Data Exploration of ACS data\n",
    "\n",
    "Analyze variable codes and create mapping from 2014 to 2019 data"
   ]
  },
  {
   "cell_type": "code",
   "execution_count": null,
   "metadata": {},
   "outputs": [],
   "source": []
  },
  {
   "cell_type": "code",
   "execution_count": 1,
   "metadata": {},
   "outputs": [],
   "source": [
    "import numpy as np\n",
    "import pandas as pd\n",
    "import matplotlib.pyplot as plt\n",
    "import sys, os\n",
    "import seaborn as sns\n",
    "import geopandas as gpd"
   ]
  },
  {
   "cell_type": "code",
   "execution_count": 2,
   "metadata": {},
   "outputs": [
    {
     "name": "stdout",
     "output_type": "stream",
     "text": [
      "['acs5_variable_dict_2014_2019.csv', 'acs5_variable_dict_2014_2019.xlsx', 'analysis', 'hillsborough_acs5-2014_census(1).xlsx', 'hillsborough_acs5-2014_census.csv', 'hillsborough_acs5-2014_census.xlsx', 'hillsborough_acs5-2019_census.csv', 'kept_2014_dict_labels.csv', 'label_mismatch.csv', 'miami_dade_acs5-2014_census.csv', 'miami_dade_acs5-2019_census.csv', 'new_2019_dict_labels.csv', 'orange_acs5-2014_census.csv', 'orange_acs5-2019_census.csv', 'variables.json']\n"
     ]
    }
   ],
   "source": [
    "data_dir = './data/housing_insecurity/ACS/'\n",
    "print(os.listdir(data_dir))"
   ]
  },
  {
   "cell_type": "code",
   "execution_count": 3,
   "metadata": {},
   "outputs": [],
   "source": [
    "output_dir = './output/'"
   ]
  },
  {
   "cell_type": "markdown",
   "metadata": {},
   "source": [
    "#### Load data"
   ]
  },
  {
   "cell_type": "code",
   "execution_count": 4,
   "metadata": {},
   "outputs": [
    {
     "data": {
      "text/plain": [
       "(8264, 8)"
      ]
     },
     "execution_count": 4,
     "metadata": {},
     "output_type": "execute_result"
    }
   ],
   "source": [
    "data_file = data_dir + 'acs5_variable_dict_2014_2019.csv'\n",
    "acs_dict = pd.read_csv(data_file)\n",
    "acs_dict.shape"
   ]
  },
  {
   "cell_type": "code",
   "execution_count": 5,
   "metadata": {},
   "outputs": [
    {
     "data": {
      "text/html": [
       "<div>\n",
       "<style scoped>\n",
       "    .dataframe tbody tr th:only-of-type {\n",
       "        vertical-align: middle;\n",
       "    }\n",
       "\n",
       "    .dataframe tbody tr th {\n",
       "        vertical-align: top;\n",
       "    }\n",
       "\n",
       "    .dataframe thead th {\n",
       "        text-align: right;\n",
       "    }\n",
       "</style>\n",
       "<table border=\"1\" class=\"dataframe\">\n",
       "  <thead>\n",
       "    <tr style=\"text-align: right;\">\n",
       "      <th></th>\n",
       "      <th>variable_code</th>\n",
       "      <th>label</th>\n",
       "      <th>concept</th>\n",
       "      <th>predicateType</th>\n",
       "      <th>group</th>\n",
       "      <th>limit</th>\n",
       "      <th>predicateOnly</th>\n",
       "      <th>acs_year</th>\n",
       "    </tr>\n",
       "  </thead>\n",
       "  <tbody>\n",
       "    <tr>\n",
       "      <th>0</th>\n",
       "      <td>DP02_0019EA</td>\n",
       "      <td>Annotation of Estimate!!RELATIONSHIP!!Populati...</td>\n",
       "      <td>SELECTED SOCIAL CHARACTERISTICS IN THE UNITED ...</td>\n",
       "      <td>string</td>\n",
       "      <td>DP02</td>\n",
       "      <td>0</td>\n",
       "      <td>True</td>\n",
       "      <td>2014</td>\n",
       "    </tr>\n",
       "    <tr>\n",
       "      <th>1</th>\n",
       "      <td>DP02_0126E</td>\n",
       "      <td>Estimate!!ANCESTRY!!Total population!!Danish</td>\n",
       "      <td>SELECTED SOCIAL CHARACTERISTICS IN THE UNITED ...</td>\n",
       "      <td>int</td>\n",
       "      <td>DP02</td>\n",
       "      <td>0</td>\n",
       "      <td>True</td>\n",
       "      <td>2014</td>\n",
       "    </tr>\n",
       "    <tr>\n",
       "      <th>2</th>\n",
       "      <td>DP02_0072EA</td>\n",
       "      <td>Annotation of Estimate!!DISABILITY STATUS OF T...</td>\n",
       "      <td>SELECTED SOCIAL CHARACTERISTICS IN THE UNITED ...</td>\n",
       "      <td>string</td>\n",
       "      <td>DP02</td>\n",
       "      <td>0</td>\n",
       "      <td>True</td>\n",
       "      <td>2014</td>\n",
       "    </tr>\n",
       "    <tr>\n",
       "      <th>3</th>\n",
       "      <td>DP02_0069PMA</td>\n",
       "      <td>Annotation of Percent Margin of Error!!VETERAN...</td>\n",
       "      <td>SELECTED SOCIAL CHARACTERISTICS IN THE UNITED ...</td>\n",
       "      <td>string</td>\n",
       "      <td>DP02</td>\n",
       "      <td>0</td>\n",
       "      <td>True</td>\n",
       "      <td>2014</td>\n",
       "    </tr>\n",
       "    <tr>\n",
       "      <th>4</th>\n",
       "      <td>DP02_0126M</td>\n",
       "      <td>Margin of Error!!ANCESTRY!!Total population!!D...</td>\n",
       "      <td>SELECTED SOCIAL CHARACTERISTICS IN THE UNITED ...</td>\n",
       "      <td>int</td>\n",
       "      <td>DP02</td>\n",
       "      <td>0</td>\n",
       "      <td>True</td>\n",
       "      <td>2014</td>\n",
       "    </tr>\n",
       "  </tbody>\n",
       "</table>\n",
       "</div>"
      ],
      "text/plain": [
       "  variable_code                                              label  \\\n",
       "0   DP02_0019EA  Annotation of Estimate!!RELATIONSHIP!!Populati...   \n",
       "1    DP02_0126E       Estimate!!ANCESTRY!!Total population!!Danish   \n",
       "2   DP02_0072EA  Annotation of Estimate!!DISABILITY STATUS OF T...   \n",
       "3  DP02_0069PMA  Annotation of Percent Margin of Error!!VETERAN...   \n",
       "4    DP02_0126M  Margin of Error!!ANCESTRY!!Total population!!D...   \n",
       "\n",
       "                                             concept predicateType group  \\\n",
       "0  SELECTED SOCIAL CHARACTERISTICS IN THE UNITED ...        string  DP02   \n",
       "1  SELECTED SOCIAL CHARACTERISTICS IN THE UNITED ...           int  DP02   \n",
       "2  SELECTED SOCIAL CHARACTERISTICS IN THE UNITED ...        string  DP02   \n",
       "3  SELECTED SOCIAL CHARACTERISTICS IN THE UNITED ...        string  DP02   \n",
       "4  SELECTED SOCIAL CHARACTERISTICS IN THE UNITED ...           int  DP02   \n",
       "\n",
       "   limit  predicateOnly  acs_year  \n",
       "0      0           True      2014  \n",
       "1      0           True      2014  \n",
       "2      0           True      2014  \n",
       "3      0           True      2014  \n",
       "4      0           True      2014  "
      ]
     },
     "execution_count": 5,
     "metadata": {},
     "output_type": "execute_result"
    }
   ],
   "source": [
    "acs_dict.head()"
   ]
  },
  {
   "cell_type": "markdown",
   "metadata": {},
   "source": [
    "Variable Codes"
   ]
  },
  {
   "cell_type": "markdown",
   "metadata": {},
   "source": [
    "Variable codes appear to contain 3 types of information:\n",
    "- DPxx : concept (matches \"group\")\n",
    "- variable description\n",
    "- measurement type (estimate, percent, error)"
   ]
  },
  {
   "cell_type": "code",
   "execution_count": 6,
   "metadata": {},
   "outputs": [],
   "source": [
    "acs_dict['code_p1'] = acs_dict['variable_code'].str[5:9]\n",
    "acs_dict['code_p2'] = acs_dict['variable_code'].str[9:]\n"
   ]
  },
  {
   "cell_type": "markdown",
   "metadata": {},
   "source": [
    "Labels"
   ]
  },
  {
   "cell_type": "markdown",
   "metadata": {},
   "source": [
    "Labels appear to contain the following:\n",
    "- measurement type\n",
    "- variable description (in CAPS)\n",
    "- specific value or category"
   ]
  },
  {
   "cell_type": "code",
   "execution_count": 7,
   "metadata": {},
   "outputs": [],
   "source": [
    "temp = acs_dict['label'].str.upper().str.split('!!')\n",
    "\n",
    "acs_dict['measurement'] = temp.apply(lambda x: x[0])\n",
    "acs_dict['label_p1'] = temp.apply(lambda x: x[1])\n",
    "acs_dict['label_p2'] = temp.apply(lambda x: ', '.join(x[2:]))"
   ]
  },
  {
   "cell_type": "code",
   "execution_count": 8,
   "metadata": {},
   "outputs": [],
   "source": [
    "keep_vars = ['variable_code','concept','group','acs_year','code_p1','code_p2','measurement','label_p1','label_p2']\n",
    "acs_dict = acs_dict[keep_vars]"
   ]
  },
  {
   "cell_type": "code",
   "execution_count": 9,
   "metadata": {},
   "outputs": [
    {
     "data": {
      "text/html": [
       "<div>\n",
       "<style scoped>\n",
       "    .dataframe tbody tr th:only-of-type {\n",
       "        vertical-align: middle;\n",
       "    }\n",
       "\n",
       "    .dataframe tbody tr th {\n",
       "        vertical-align: top;\n",
       "    }\n",
       "\n",
       "    .dataframe thead th {\n",
       "        text-align: right;\n",
       "    }\n",
       "</style>\n",
       "<table border=\"1\" class=\"dataframe\">\n",
       "  <thead>\n",
       "    <tr style=\"text-align: right;\">\n",
       "      <th></th>\n",
       "      <th>variable_code</th>\n",
       "      <th>concept</th>\n",
       "      <th>group</th>\n",
       "      <th>acs_year</th>\n",
       "      <th>code_p1</th>\n",
       "      <th>code_p2</th>\n",
       "      <th>measurement</th>\n",
       "      <th>label_p1</th>\n",
       "      <th>label_p2</th>\n",
       "    </tr>\n",
       "  </thead>\n",
       "  <tbody>\n",
       "    <tr>\n",
       "      <th>0</th>\n",
       "      <td>DP02_0019EA</td>\n",
       "      <td>SELECTED SOCIAL CHARACTERISTICS IN THE UNITED ...</td>\n",
       "      <td>DP02</td>\n",
       "      <td>2014</td>\n",
       "      <td>0019</td>\n",
       "      <td>EA</td>\n",
       "      <td>ANNOTATION OF ESTIMATE</td>\n",
       "      <td>RELATIONSHIP</td>\n",
       "      <td>POPULATION IN HOUSEHOLDS, SPOUSE</td>\n",
       "    </tr>\n",
       "    <tr>\n",
       "      <th>1</th>\n",
       "      <td>DP02_0126E</td>\n",
       "      <td>SELECTED SOCIAL CHARACTERISTICS IN THE UNITED ...</td>\n",
       "      <td>DP02</td>\n",
       "      <td>2014</td>\n",
       "      <td>0126</td>\n",
       "      <td>E</td>\n",
       "      <td>ESTIMATE</td>\n",
       "      <td>ANCESTRY</td>\n",
       "      <td>TOTAL POPULATION, DANISH</td>\n",
       "    </tr>\n",
       "    <tr>\n",
       "      <th>2</th>\n",
       "      <td>DP02_0072EA</td>\n",
       "      <td>SELECTED SOCIAL CHARACTERISTICS IN THE UNITED ...</td>\n",
       "      <td>DP02</td>\n",
       "      <td>2014</td>\n",
       "      <td>0072</td>\n",
       "      <td>EA</td>\n",
       "      <td>ANNOTATION OF ESTIMATE</td>\n",
       "      <td>DISABILITY STATUS OF THE CIVILIAN NONINSTITUTI...</td>\n",
       "      <td>UNDER 18 YEARS</td>\n",
       "    </tr>\n",
       "    <tr>\n",
       "      <th>3</th>\n",
       "      <td>DP02_0069PMA</td>\n",
       "      <td>SELECTED SOCIAL CHARACTERISTICS IN THE UNITED ...</td>\n",
       "      <td>DP02</td>\n",
       "      <td>2014</td>\n",
       "      <td>0069</td>\n",
       "      <td>PMA</td>\n",
       "      <td>ANNOTATION OF PERCENT MARGIN OF ERROR</td>\n",
       "      <td>VETERAN STATUS</td>\n",
       "      <td>CIVILIAN POPULATION 18 YEARS AND OVER, CIVILIA...</td>\n",
       "    </tr>\n",
       "    <tr>\n",
       "      <th>4</th>\n",
       "      <td>DP02_0126M</td>\n",
       "      <td>SELECTED SOCIAL CHARACTERISTICS IN THE UNITED ...</td>\n",
       "      <td>DP02</td>\n",
       "      <td>2014</td>\n",
       "      <td>0126</td>\n",
       "      <td>M</td>\n",
       "      <td>MARGIN OF ERROR</td>\n",
       "      <td>ANCESTRY</td>\n",
       "      <td>TOTAL POPULATION, DANISH</td>\n",
       "    </tr>\n",
       "  </tbody>\n",
       "</table>\n",
       "</div>"
      ],
      "text/plain": [
       "  variable_code                                            concept group  \\\n",
       "0   DP02_0019EA  SELECTED SOCIAL CHARACTERISTICS IN THE UNITED ...  DP02   \n",
       "1    DP02_0126E  SELECTED SOCIAL CHARACTERISTICS IN THE UNITED ...  DP02   \n",
       "2   DP02_0072EA  SELECTED SOCIAL CHARACTERISTICS IN THE UNITED ...  DP02   \n",
       "3  DP02_0069PMA  SELECTED SOCIAL CHARACTERISTICS IN THE UNITED ...  DP02   \n",
       "4    DP02_0126M  SELECTED SOCIAL CHARACTERISTICS IN THE UNITED ...  DP02   \n",
       "\n",
       "   acs_year code_p1 code_p2                            measurement  \\\n",
       "0      2014    0019      EA                 ANNOTATION OF ESTIMATE   \n",
       "1      2014    0126       E                               ESTIMATE   \n",
       "2      2014    0072      EA                 ANNOTATION OF ESTIMATE   \n",
       "3      2014    0069     PMA  ANNOTATION OF PERCENT MARGIN OF ERROR   \n",
       "4      2014    0126       M                        MARGIN OF ERROR   \n",
       "\n",
       "                                            label_p1  \\\n",
       "0                                       RELATIONSHIP   \n",
       "1                                           ANCESTRY   \n",
       "2  DISABILITY STATUS OF THE CIVILIAN NONINSTITUTI...   \n",
       "3                                     VETERAN STATUS   \n",
       "4                                           ANCESTRY   \n",
       "\n",
       "                                            label_p2  \n",
       "0                   POPULATION IN HOUSEHOLDS, SPOUSE  \n",
       "1                           TOTAL POPULATION, DANISH  \n",
       "2                                     UNDER 18 YEARS  \n",
       "3  CIVILIAN POPULATION 18 YEARS AND OVER, CIVILIA...  \n",
       "4                           TOTAL POPULATION, DANISH  "
      ]
     },
     "execution_count": 9,
     "metadata": {},
     "output_type": "execute_result"
    }
   ],
   "source": [
    "acs_dict.head()"
   ]
  },
  {
   "cell_type": "code",
   "execution_count": 10,
   "metadata": {},
   "outputs": [
    {
     "name": "stdout",
     "output_type": "stream",
     "text": [
      "Number of unique Groups:     4\n",
      "Number of unique Concepts:   4\n",
      "Number of unique Measurements:   8\n",
      "Number of unique Label-1:   49\n",
      "Number of unique Label-2:   657\n"
     ]
    }
   ],
   "source": [
    "print(\"Number of unique Groups:    \", len(acs_dict['group'].unique()))\n",
    "print(\"Number of unique Concepts:  \", len(acs_dict['concept'].unique()))\n",
    "print(\"Number of unique Measurements:  \", len(acs_dict['measurement'].unique()))\n",
    "\n",
    "print(\"Number of unique Label-1:  \", len(acs_dict['label_p1'].unique()))\n",
    "print(\"Number of unique Label-2:  \", len(acs_dict['label_p2'].unique()))\n"
   ]
  },
  {
   "cell_type": "code",
   "execution_count": 11,
   "metadata": {},
   "outputs": [
    {
     "data": {
      "text/plain": [
       "PERCENT                                  1033\n",
       "ESTIMATE                                 1033\n",
       "MARGIN OF ERROR                          1033\n",
       "ANNOTATION OF MARGIN OF ERROR            1033\n",
       "ANNOTATION OF ESTIMATE                   1033\n",
       "PERCENT MARGIN OF ERROR                  1033\n",
       "ANNOTATION OF PERCENT MARGIN OF ERROR    1033\n",
       "ANNOTATION OF PERCENT                    1033\n",
       "Name: measurement, dtype: int64"
      ]
     },
     "execution_count": 11,
     "metadata": {},
     "output_type": "execute_result"
    }
   ],
   "source": [
    "acs_dict['measurement'].value_counts()"
   ]
  },
  {
   "cell_type": "markdown",
   "metadata": {},
   "source": [
    "#### Comparison between 2014 and 2019"
   ]
  },
  {
   "cell_type": "code",
   "execution_count": 12,
   "metadata": {},
   "outputs": [],
   "source": [
    "vars_2014 = acs_dict[(acs_dict['acs_year']==2014) & (acs_dict['code_p2']=='E')]\n",
    "vars_2019 = acs_dict[(acs_dict['acs_year']==2019) & (acs_dict['code_p2']=='E')]"
   ]
  },
  {
   "cell_type": "code",
   "execution_count": 13,
   "metadata": {
    "collapsed": true
   },
   "outputs": [
    {
     "name": "stderr",
     "output_type": "stream",
     "text": [
      "C:\\Users\\jayka\\.conda\\envs\\davm\\lib\\site-packages\\ipykernel_launcher.py:1: SettingWithCopyWarning: \n",
      "A value is trying to be set on a copy of a slice from a DataFrame.\n",
      "Try using .loc[row_indexer,col_indexer] = value instead\n",
      "\n",
      "See the caveats in the documentation: https://pandas.pydata.org/pandas-docs/stable/user_guide/indexing.html#returning-a-view-versus-a-copy\n",
      "  \"\"\"Entry point for launching an IPython kernel.\n",
      "C:\\Users\\jayka\\.conda\\envs\\davm\\lib\\site-packages\\ipykernel_launcher.py:2: SettingWithCopyWarning: \n",
      "A value is trying to be set on a copy of a slice from a DataFrame.\n",
      "Try using .loc[row_indexer,col_indexer] = value instead\n",
      "\n",
      "See the caveats in the documentation: https://pandas.pydata.org/pandas-docs/stable/user_guide/indexing.html#returning-a-view-versus-a-copy\n",
      "  \n"
     ]
    }
   ],
   "source": [
    "vars_2014['variable_code_pref'] = vars_2014['variable_code'].str[0:9]\n",
    "vars_2019['variable_code_pref'] = vars_2019['variable_code'].str[0:9]"
   ]
  },
  {
   "cell_type": "code",
   "execution_count": 14,
   "metadata": {},
   "outputs": [
    {
     "name": "stdout",
     "output_type": "stream",
     "text": [
      "2014 Number of unique Label-1:   46\n",
      "2019 Number of unique Label-1:   48\n",
      "\n",
      "2014 Number of unique Label-2:   484\n",
      "2019 Number of unique Label-2:   499\n"
     ]
    }
   ],
   "source": [
    "print(\"2014 Number of unique Label-1:  \", len(vars_2014['label_p1'].unique()))\n",
    "print(\"2019 Number of unique Label-1:  \", len(vars_2019['label_p1'].unique()))\n",
    "print()\n",
    "print(\"2014 Number of unique Label-2:  \", len(vars_2014['label_p2'].unique()))\n",
    "print(\"2019 Number of unique Label-2:  \", len(vars_2019['label_p2'].unique()))\n"
   ]
  },
  {
   "cell_type": "code",
   "execution_count": 15,
   "metadata": {},
   "outputs": [
    {
     "data": {
      "text/plain": [
       "{'CITIZEN, VOTING AGE POPULATION',\n",
       " 'INCOME AND BENEFITS (IN 2019 INFLATION-ADJUSTED DOLLARS)',\n",
       " 'RACE ALONE OR IN COMBINATION WITH ONE OR MORE OTHER RACES'}"
      ]
     },
     "execution_count": 15,
     "metadata": {},
     "output_type": "execute_result"
    }
   ],
   "source": [
    "# New Label-1\n",
    "set(vars_2019['label_p1'].unique()).difference(set(vars_2014['label_p1'].unique()))\n"
   ]
  },
  {
   "cell_type": "code",
   "execution_count": 16,
   "metadata": {},
   "outputs": [
    {
     "data": {
      "text/plain": [
       "{'INCOME AND BENEFITS (IN 2014 INFLATION-ADJUSTED DOLLARS)'}"
      ]
     },
     "execution_count": 16,
     "metadata": {},
     "output_type": "execute_result"
    }
   ],
   "source": [
    "# Removed Label-1\n",
    "set(vars_2014['label_p1'].unique()).difference(set(vars_2019['label_p1'].unique()))\n"
   ]
  },
  {
   "cell_type": "code",
   "execution_count": 19,
   "metadata": {},
   "outputs": [],
   "source": [
    "# New Label-2\n",
    "#set(vars_2019['label_p2'].unique()).difference(set(vars_2014['label_p2'].unique()))\n"
   ]
  },
  {
   "cell_type": "code",
   "execution_count": 20,
   "metadata": {},
   "outputs": [],
   "source": [
    "#set(vars_2014['label_p2'].unique()).difference(set(vars_2019['label_p2'].unique()))"
   ]
  },
  {
   "cell_type": "markdown",
   "metadata": {},
   "source": [
    "In many cases, the label text has changed slightly but the underlying concept remains similar.\n",
    "In other cases, the underlying variable has changed (different bin boundaries, new categories) and the user will have to determine whether the data are comparable.\n"
   ]
  },
  {
   "cell_type": "code",
   "execution_count": null,
   "metadata": {},
   "outputs": [],
   "source": []
  },
  {
   "cell_type": "markdown",
   "metadata": {},
   "source": [
    "#### Output"
   ]
  },
  {
   "cell_type": "markdown",
   "metadata": {},
   "source": [
    "Export data for analysis and manual data mapping"
   ]
  },
  {
   "cell_type": "code",
   "execution_count": 45,
   "metadata": {},
   "outputs": [
    {
     "name": "stdout",
     "output_type": "stream",
     "text": [
      "Exported to:  ./output/acs_vars_2014.csv\n",
      "Exported to:  ./output/acs_vars_2019.csv\n"
     ]
    }
   ],
   "source": [
    "output_vars = ['variable_code_pref','concept','group','acs_year','code_p1','label_p1','label_p2']\n",
    "\n",
    "outfile = output_dir + 'acs_vars_2014.csv'\n",
    "vars_2014[output_vars].to_csv(outfile)\n",
    "print ('Exported to: ', outfile)\n",
    "\n",
    "outfile = output_dir + 'acs_vars_2019.csv'\n",
    "vars_2019[output_vars].to_csv(outfile)\n",
    "print ('Exported to: ', outfile)\n"
   ]
  },
  {
   "cell_type": "code",
   "execution_count": null,
   "metadata": {},
   "outputs": [],
   "source": []
  },
  {
   "cell_type": "markdown",
   "metadata": {},
   "source": [
    "#### Analysis by County"
   ]
  },
  {
   "cell_type": "code",
   "execution_count": 46,
   "metadata": {},
   "outputs": [
    {
     "name": "stdout",
     "output_type": "stream",
     "text": [
      "(207, 1555) (207, 1613)\n"
     ]
    }
   ],
   "source": [
    "orange_2014 = pd.read_csv(data_dir+'orange_acs5-2014_census.csv')\n",
    "orange_2019 = pd.read_csv(data_dir+'orange_acs5-2019_census.csv')\n",
    "print(orange_2014.shape, orange_2019.shape)"
   ]
  },
  {
   "cell_type": "code",
   "execution_count": null,
   "metadata": {},
   "outputs": [],
   "source": []
  },
  {
   "cell_type": "code",
   "execution_count": null,
   "metadata": {},
   "outputs": [],
   "source": []
  },
  {
   "cell_type": "code",
   "execution_count": null,
   "metadata": {},
   "outputs": [],
   "source": []
  }
 ],
 "metadata": {
  "kernelspec": {
   "display_name": "Python 3",
   "language": "python",
   "name": "python3"
  },
  "language_info": {
   "codemirror_mode": {
    "name": "ipython",
    "version": 3
   },
   "file_extension": ".py",
   "mimetype": "text/x-python",
   "name": "python",
   "nbconvert_exporter": "python",
   "pygments_lexer": "ipython3",
   "version": "3.7.9"
  }
 },
 "nbformat": 4,
 "nbformat_minor": 4
}
