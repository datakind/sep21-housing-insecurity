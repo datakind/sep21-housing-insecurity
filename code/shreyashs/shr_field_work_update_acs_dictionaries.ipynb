{
 "cells": [
  {
   "cell_type": "markdown",
   "id": "569f92aa",
   "metadata": {},
   "source": [
    "## Update the ACS data dictionaries"
   ]
  },
  {
   "cell_type": "code",
   "execution_count": 1,
   "id": "247680cf",
   "metadata": {},
   "outputs": [],
   "source": [
    "import json\n",
    "from urllib.request import urlopen, Request\n",
    "import pandas as pd\n",
    "from tqdm import tqdm"
   ]
  },
  {
   "cell_type": "code",
   "execution_count": 2,
   "id": "ecb93a78",
   "metadata": {},
   "outputs": [],
   "source": [
    "# Retrieve ACS disctionary files from the new URLS (provided by Emily)\n",
    "request_14 = Request('https://api.census.gov/data/2014/acs/acs5/subject/variables.json')\n",
    "request_19 = Request('https://api.census.gov/data/2019/acs/acs5/subject/variables.json')\n",
    "response_14 = urlopen(request_14)\n",
    "response_19 = urlopen(request_19)\n",
    "elevations_14 = response_14.read()\n",
    "elevations_19 = response_19.read()\n",
    "acs_14_raw = json.loads(elevations_14)\n",
    "acs_19_raw = json.loads(elevations_19)"
   ]
  },
  {
   "cell_type": "code",
   "execution_count": 3,
   "id": "bc9ffbc9",
   "metadata": {},
   "outputs": [
    {
     "data": {
      "text/html": [
       "<div>\n",
       "<style scoped>\n",
       "    .dataframe tbody tr th:only-of-type {\n",
       "        vertical-align: middle;\n",
       "    }\n",
       "\n",
       "    .dataframe tbody tr th {\n",
       "        vertical-align: top;\n",
       "    }\n",
       "\n",
       "    .dataframe thead th {\n",
       "        text-align: right;\n",
       "    }\n",
       "</style>\n",
       "<table border=\"1\" class=\"dataframe\">\n",
       "  <thead>\n",
       "    <tr style=\"text-align: right;\">\n",
       "      <th></th>\n",
       "      <th>for</th>\n",
       "      <th>in</th>\n",
       "      <th>ucgid</th>\n",
       "      <th>S0804_C04_068E</th>\n",
       "      <th>S0503_C02_078E</th>\n",
       "      <th>S0701PR_C01_028E</th>\n",
       "      <th>S0804_C04_067E</th>\n",
       "      <th>S0503_C02_077E</th>\n",
       "      <th>S0701PR_C01_029E</th>\n",
       "      <th>S0503_C02_076E</th>\n",
       "      <th>...</th>\n",
       "      <th>S1002_C04_003E</th>\n",
       "      <th>S2402_C02_036E</th>\n",
       "      <th>S2601B_C04_089E</th>\n",
       "      <th>S0601_C02_008E</th>\n",
       "      <th>S2401_C06_025E</th>\n",
       "      <th>S2402_C02_035E</th>\n",
       "      <th>S1002_C04_004E</th>\n",
       "      <th>S2401_C06_024E</th>\n",
       "      <th>S2601B_C04_088E</th>\n",
       "      <th>S0601_C02_009E</th>\n",
       "    </tr>\n",
       "  </thead>\n",
       "  <tbody>\n",
       "    <tr>\n",
       "      <th>0</th>\n",
       "      <td>{'label': 'Census API FIPS 'for' clause', 'con...</td>\n",
       "      <td>{'label': 'Census API FIPS 'in' clause', 'conc...</td>\n",
       "      <td>{'label': 'Uniform Census Geography Identifier...</td>\n",
       "      <td>{'label': 'Public transportation (excluding ta...</td>\n",
       "      <td>{'label': 'Foreign born; Born in Europe!!Estim...</td>\n",
       "      <td>{'label': 'Total!!Estimate!!MARITAL STATUS!!Po...</td>\n",
       "      <td>{'label': 'Public transportation (excluding ta...</td>\n",
       "      <td>{'label': 'Foreign born; Born in Europe!!Estim...</td>\n",
       "      <td>{'label': 'Total!!Estimate!!MARITAL STATUS!!Po...</td>\n",
       "      <td>{'label': 'Foreign born; Born in Europe!!Estim...</td>\n",
       "      <td>...</td>\n",
       "      <td>{'label': 'Percent distribution of grandparent...</td>\n",
       "      <td>{'label': 'Male!!Estimate!!Production, transpo...</td>\n",
       "      <td>{'label': 'Nursing facilities/skilled nursing ...</td>\n",
       "      <td>{'label': 'Native; born in state of residence!...</td>\n",
       "      <td>{'label': 'Median earnings (dollars) for femal...</td>\n",
       "      <td>{'label': 'Male!!Estimate!!Production, transpo...</td>\n",
       "      <td>{'label': 'Percent distribution of grandparent...</td>\n",
       "      <td>{'label': 'Median earnings (dollars) for femal...</td>\n",
       "      <td>{'label': 'Nursing facilities/skilled nursing ...</td>\n",
       "      <td>{'label': 'Native; born in state of residence!...</td>\n",
       "    </tr>\n",
       "  </tbody>\n",
       "</table>\n",
       "<p>1 rows × 14734 columns</p>\n",
       "</div>"
      ],
      "text/plain": [
       "                                                 for  \\\n",
       "0  {'label': 'Census API FIPS 'for' clause', 'con...   \n",
       "\n",
       "                                                  in  \\\n",
       "0  {'label': 'Census API FIPS 'in' clause', 'conc...   \n",
       "\n",
       "                                               ucgid  \\\n",
       "0  {'label': 'Uniform Census Geography Identifier...   \n",
       "\n",
       "                                      S0804_C04_068E  \\\n",
       "0  {'label': 'Public transportation (excluding ta...   \n",
       "\n",
       "                                      S0503_C02_078E  \\\n",
       "0  {'label': 'Foreign born; Born in Europe!!Estim...   \n",
       "\n",
       "                                    S0701PR_C01_028E  \\\n",
       "0  {'label': 'Total!!Estimate!!MARITAL STATUS!!Po...   \n",
       "\n",
       "                                      S0804_C04_067E  \\\n",
       "0  {'label': 'Public transportation (excluding ta...   \n",
       "\n",
       "                                      S0503_C02_077E  \\\n",
       "0  {'label': 'Foreign born; Born in Europe!!Estim...   \n",
       "\n",
       "                                    S0701PR_C01_029E  \\\n",
       "0  {'label': 'Total!!Estimate!!MARITAL STATUS!!Po...   \n",
       "\n",
       "                                      S0503_C02_076E  ...  \\\n",
       "0  {'label': 'Foreign born; Born in Europe!!Estim...  ...   \n",
       "\n",
       "                                      S1002_C04_003E  \\\n",
       "0  {'label': 'Percent distribution of grandparent...   \n",
       "\n",
       "                                      S2402_C02_036E  \\\n",
       "0  {'label': 'Male!!Estimate!!Production, transpo...   \n",
       "\n",
       "                                     S2601B_C04_089E  \\\n",
       "0  {'label': 'Nursing facilities/skilled nursing ...   \n",
       "\n",
       "                                      S0601_C02_008E  \\\n",
       "0  {'label': 'Native; born in state of residence!...   \n",
       "\n",
       "                                      S2401_C06_025E  \\\n",
       "0  {'label': 'Median earnings (dollars) for femal...   \n",
       "\n",
       "                                      S2402_C02_035E  \\\n",
       "0  {'label': 'Male!!Estimate!!Production, transpo...   \n",
       "\n",
       "                                      S1002_C04_004E  \\\n",
       "0  {'label': 'Percent distribution of grandparent...   \n",
       "\n",
       "                                      S2401_C06_024E  \\\n",
       "0  {'label': 'Median earnings (dollars) for femal...   \n",
       "\n",
       "                                     S2601B_C04_088E  \\\n",
       "0  {'label': 'Nursing facilities/skilled nursing ...   \n",
       "\n",
       "                                      S0601_C02_009E  \n",
       "0  {'label': 'Native; born in state of residence!...  \n",
       "\n",
       "[1 rows x 14734 columns]"
      ]
     },
     "execution_count": 3,
     "metadata": {},
     "output_type": "execute_result"
    }
   ],
   "source": [
    "dic_1 = pd.json_normalize(acs_14_raw['variables'], max_level = 0)\n",
    "dic_1"
   ]
  },
  {
   "cell_type": "code",
   "execution_count": 8,
   "id": "29566c25",
   "metadata": {},
   "outputs": [],
   "source": [
    "def reorganize_acs_dic(dic):\n",
    "    dic_1 = pd.json_normalize(dic['variables'], max_level = 0)\n",
    "    dic_cols = ['variable_code', 'label', 'concept', 'predicateType', 'group', 'limit', 'attributes', 'predicateOnly']\n",
    "    dic_2 = pd.DataFrame(columns = dic_cols)\n",
    "    l = dic_1.shape[1]\n",
    "    i = 0\n",
    "    for c in dic_1.columns:\n",
    "        i+=1\n",
    "        dic_3 = pd.json_normalize(dic_1.loc[0, c])\n",
    "        dic_3['variable_code'] = c\n",
    "        dic_2 = dic_2.append(dic_3, ignore_index = True)\n",
    "        print('Processing {}%'.format((i*100)/l), end = '\\r')\n",
    "    return dic_2"
   ]
  },
  {
   "cell_type": "code",
   "execution_count": 9,
   "id": "0c00f3b3",
   "metadata": {},
   "outputs": [
    {
     "name": "stdout",
     "output_type": "stream",
     "text": [
      "Processing 100.0%21297678839%%%%\r"
     ]
    }
   ],
   "source": [
    "acs_14_processed = reorganize_acs_dic(acs_14_raw)"
   ]
  },
  {
   "cell_type": "code",
   "execution_count": null,
   "id": "09737742",
   "metadata": {},
   "outputs": [
    {
     "name": "stdout",
     "output_type": "stream",
     "text": [
      "Processing 31.104141193982244%%%\r"
     ]
    }
   ],
   "source": [
    "acs_19_processed = reorganize_acs_dic(acs_19_raw)"
   ]
  },
  {
   "cell_type": "code",
   "execution_count": null,
   "id": "119fbb70",
   "metadata": {},
   "outputs": [],
   "source": []
  },
  {
   "cell_type": "code",
   "execution_count": 7,
   "id": "a8b84634",
   "metadata": {},
   "outputs": [
    {
     "ename": "NameError",
     "evalue": "name 't3_14' is not defined",
     "output_type": "error",
     "traceback": [
      "\u001b[0;31m---------------------------------------------------------------------------\u001b[0m",
      "\u001b[0;31mNameError\u001b[0m                                 Traceback (most recent call last)",
      "\u001b[0;32m<ipython-input-7-b1da539dec17>\u001b[0m in \u001b[0;36m<module>\u001b[0;34m\u001b[0m\n\u001b[0;32m----> 1\u001b[0;31m \u001b[0mt3_14\u001b[0m\u001b[0;34m.\u001b[0m\u001b[0mto_csv\u001b[0m\u001b[0;34m(\u001b[0m\u001b[0;34m'acs_dictionary_2014_updated.csv'\u001b[0m\u001b[0;34m)\u001b[0m\u001b[0;34m\u001b[0m\u001b[0;34m\u001b[0m\u001b[0m\n\u001b[0m\u001b[1;32m      2\u001b[0m \u001b[0mt3_19\u001b[0m\u001b[0;34m.\u001b[0m\u001b[0mto_csv\u001b[0m\u001b[0;34m(\u001b[0m\u001b[0;34m'acs_dictionary_2019_updated.csv'\u001b[0m\u001b[0;34m)\u001b[0m\u001b[0;34m\u001b[0m\u001b[0;34m\u001b[0m\u001b[0m\n",
      "\u001b[0;31mNameError\u001b[0m: name 't3_14' is not defined"
     ]
    }
   ],
   "source": [
    "t3_14.to_csv('acs_dictionary_2014_updated.csv')\n",
    "t3_19.to_csv('acs_dictionary_2019_updated.csv')"
   ]
  }
 ],
 "metadata": {
  "kernelspec": {
   "display_name": "Python 3",
   "language": "python",
   "name": "python3"
  },
  "language_info": {
   "codemirror_mode": {
    "name": "ipython",
    "version": 3
   },
   "file_extension": ".py",
   "mimetype": "text/x-python",
   "name": "python",
   "nbconvert_exporter": "python",
   "pygments_lexer": "ipython3",
   "version": "3.8.8"
  }
 },
 "nbformat": 4,
 "nbformat_minor": 5
}
