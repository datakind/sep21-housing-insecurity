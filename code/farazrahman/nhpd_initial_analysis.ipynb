{
 "cells": [
  {
   "cell_type": "markdown",
   "metadata": {},
   "source": [
    "#### About the Analysis:\n",
    "\n",
    "##### The main purpose of this notebook is to explore some of the features with respect to LIHTC( Low Income Housing Tax Credit )  program data for Florida and compare it with the rest of the USA. \n",
    "\n",
    "##### But before doing that, we first loaded the NHPD data and checked the overall structure of the dataset. We also found that there are many features that have around 80-100% NAs. \n",
    "\n",
    "##### We then checked the top 10 cities, counties and states that are present in the dataset and did a small univariate and bivariate analysis of features such as occupancy rates, fair market rate etc. before jumping to the LIHTC program data columns for Florida and compared them with rest of the USA.\n",
    "\n",
    "#### Findings:\n",
    "\n",
    "##### 1. Although we didnt see much of a strong trend when comparing the occupancy rate w.r.t fair market rent, but we did find some clusters that shows the occupancy rate is high when the fair market rate is less. \n",
    "\n",
    "##### 2. For Florida there are around 120 LIHTC assisted units that are covered with subsidies on an average, whereas for the rest of the USA, its around 60\n",
    "\n",
    "##### 3. On an average there are just 2-4 active LIHTC subsidies per city in Florida and when compared with the rest of the USA the numbers are almost the same per city"
   ]
  },
  {
   "cell_type": "code",
   "execution_count": 69,
   "metadata": {},
   "outputs": [],
   "source": [
    "import pandas as pd\n",
    "import numpy as np\n",
    "import seaborn as sns\n",
    "import matplotlib.pyplot as plt"
   ]
  },
  {
   "cell_type": "code",
   "execution_count": 70,
   "metadata": {},
   "outputs": [],
   "source": [
    "nhpd = pd.read_excel('Active and Inconclusive Properties.xlsx')"
   ]
  },
  {
   "cell_type": "code",
   "execution_count": 71,
   "metadata": {},
   "outputs": [
    {
     "data": {
      "text/plain": [
       "(82287, 252)"
      ]
     },
     "execution_count": 71,
     "metadata": {},
     "output_type": "execute_result"
    }
   ],
   "source": [
    "nhpd.shape"
   ]
  },
  {
   "cell_type": "code",
   "execution_count": 72,
   "metadata": {},
   "outputs": [],
   "source": [
    "# Let's find the percent of missing values in each column. \n",
    "\n",
    "def find_missing(df: pd.DataFrame):\n",
    "    \"\"\"\n",
    "    Calculates the percent of missing values in a given dataset\n",
    "    param df: The dataframe for which we want to calculate the percent of missing values in each column\n",
    "    \"\"\"\n",
    "    \n",
    "    missing = df.isnull().sum()\n",
    "    \n",
    "    percent_missing = missing * 100/ len(df)\n",
    "    \n",
    "    missing_df = pd.DataFrame({'col': df.columns, 'percent_missing': percent_missing})\n",
    "    \n",
    "    #sort them in decreasing order\n",
    "    missing_df.sort_values(by = 'percent_missing', ascending= False, inplace=True)\n",
    "    \n",
    "    return missing_df\n",
    "    \n",
    "    \n",
    "\n",
    "missing_values = find_missing(nhpd)\n"
   ]
  },
  {
   "cell_type": "code",
   "execution_count": 73,
   "metadata": {},
   "outputs": [
    {
     "data": {
      "text/plain": [
       "137"
      ]
     },
     "execution_count": 73,
     "metadata": {},
     "output_type": "execute_result"
    }
   ],
   "source": [
    "# number of columns with more than 90% missing data\n",
    "df_subset_90 = missing_values[missing_values['percent_missing'] >= 90]\n",
    "df_subset_90['col'].nunique()"
   ]
  },
  {
   "cell_type": "code",
   "execution_count": 74,
   "metadata": {},
   "outputs": [
    {
     "data": {
      "text/plain": [
       "62"
      ]
     },
     "execution_count": 74,
     "metadata": {},
     "output_type": "execute_result"
    }
   ],
   "source": [
    "# number of columns with less than 30% missing data\n",
    "df_subset_30 = missing_values[missing_values['percent_missing'] <= 30]\n",
    "df_subset_30['col'].nunique()"
   ]
  },
  {
   "cell_type": "code",
   "execution_count": 75,
   "metadata": {},
   "outputs": [
    {
     "data": {
      "text/plain": [
       "18"
      ]
     },
     "execution_count": 75,
     "metadata": {},
     "output_type": "execute_result"
    }
   ],
   "source": [
    "# number of columns with less than 100% missing data\n",
    "df_subset_100 = missing_values[missing_values['percent_missing'] == 100]\n",
    "df_subset_100['col'].nunique()"
   ]
  },
  {
   "cell_type": "code",
   "execution_count": 76,
   "metadata": {},
   "outputs": [],
   "source": [
    "no_missing_list = df_subset_90['col'].unique().tolist()"
   ]
  },
  {
   "cell_type": "code",
   "execution_count": 77,
   "metadata": {},
   "outputs": [
    {
     "data": {
      "text/plain": [
       "Index(['S8_1_InacStatusDesc', 'S8_2_ID', 'S8_2_Status', 'S8_2_ProgramName',\n",
       "       'S8_2_RenewalStatus', 'S8_2_StartDate', 'S8_2_EndDate',\n",
       "       'S8_2_AssistedUnits', 'S8_2_RentToFMR', 'S8_2_InacStatusDesc',\n",
       "       ...\n",
       "       'Pbv_1_AssistedUnits', 'Pbv_2_Status', 'Pbv_2_ProgramName',\n",
       "       'Pbv_2_AssistedUnits', 'Mr_1_Status', 'Mr_1_ProgramName',\n",
       "       'Mr_1_AssistedUnits', 'Mr_2_Status', 'Mr_2_ProgramName',\n",
       "       'Mr_2_AssistedUnits'],\n",
       "      dtype='object', length=137)"
      ]
     },
     "execution_count": 77,
     "metadata": {},
     "output_type": "execute_result"
    }
   ],
   "source": [
    "nhpd_subset = nhpd.loc[:, nhpd.columns.isin(no_missing_list)]\n",
    "nhpd_subset.columns"
   ]
  },
  {
   "cell_type": "markdown",
   "metadata": {},
   "source": [
    "#### Analyzing some important features on the overall data such as occupancy rate, fair market rate etc. to get some initial insights"
   ]
  },
  {
   "cell_type": "code",
   "execution_count": 78,
   "metadata": {},
   "outputs": [],
   "source": [
    "def univariate_analysis(df:pd.DataFrame, col: str):\n",
    "    \"\"\"\n",
    "    Takes a dataframe and a column name to plot the \n",
    "    param df: dataframe\n",
    "    param col: column name for which we want the viz\n",
    "    \"\"\"\n",
    "    \n",
    "    df[col].value_counts().head(10).sort_values(ascending=True).plot.barh()    "
   ]
  },
  {
   "cell_type": "code",
   "execution_count": 79,
   "metadata": {},
   "outputs": [
    {
     "data": {
      "image/png": "[encoded data removed]",
      "text/plain": [
       "<Figure size 432x288 with 1 Axes>"
      ]
     },
     "metadata": {
      "needs_background": "light"
     },
     "output_type": "display_data"
    }
   ],
   "source": [
    "# Top ten cities present in the dataset\n",
    "univariate_analysis(nhpd, ['City'])"
   ]
  },
  {
   "cell_type": "code",
   "execution_count": 80,
   "metadata": {},
   "outputs": [
    {
     "data": {
      "image/png": "[encoded data removed]",
      "text/plain": [
       "<Figure size 432x288 with 1 Axes>"
      ]
     },
     "metadata": {
      "needs_background": "light"
     },
     "output_type": "display_data"
    }
   ],
   "source": [
    "# Top ten counties present in the dataset\n",
    "univariate_analysis(nhpd, ['County'])"
   ]
  },
  {
   "cell_type": "code",
   "execution_count": 81,
   "metadata": {},
   "outputs": [
    {
     "data": {
      "image/png": "[encoded data removed]",
      "text/plain": [
       "<Figure size 432x288 with 1 Axes>"
      ]
     },
     "metadata": {
      "needs_background": "light"
     },
     "output_type": "display_data"
    }
   ],
   "source": [
    "# Top ten states present in the dataset\n",
    "univariate_analysis(nhpd, ['State'])"
   ]
  },
  {
   "cell_type": "markdown",
   "metadata": {},
   "source": [
    "##### Number of active subsidies per total units"
   ]
  },
  {
   "cell_type": "code",
   "execution_count": 82,
   "metadata": {},
   "outputs": [],
   "source": [
    "nhpd_units_agg = pd.DataFrame()\n",
    "nhpd_units_agg = nhpd.groupby('State')['TotalUnits'].sum().reset_index()\n",
    "nhpd_actsub_agg = nhpd.groupby('State')['ActiveSubsidies'].sum().reset_index()\n",
    "nhpd_unit_sub_agg = pd.merge(nhpd_units_agg, nhpd_actsub_agg, on= 'State')\n",
    "nhpd_unit_sub_agg['percent_of_active_subsidies'] = nhpd_unit_sub_agg['ActiveSubsidies']*100/nhpd_unit_sub_agg['TotalUnits']"
   ]
  },
  {
   "cell_type": "code",
   "execution_count": 83,
   "metadata": {},
   "outputs": [
    {
     "data": {
      "text/html": [
       "<div>\n",
       "<style scoped>\n",
       "    .dataframe tbody tr th:only-of-type {\n",
       "        vertical-align: middle;\n",
       "    }\n",
       "\n",
       "    .dataframe tbody tr th {\n",
       "        vertical-align: top;\n",
       "    }\n",
       "\n",
       "    .dataframe thead th {\n",
       "        text-align: right;\n",
       "    }\n",
       "</style>\n",
       "<table border=\"1\" class=\"dataframe\">\n",
       "  <thead>\n",
       "    <tr style=\"text-align: right;\">\n",
       "      <th></th>\n",
       "      <th>State</th>\n",
       "      <th>TotalUnits</th>\n",
       "      <th>ActiveSubsidies</th>\n",
       "      <th>percent_of_active_subsidies</th>\n",
       "    </tr>\n",
       "  </thead>\n",
       "  <tbody>\n",
       "    <tr>\n",
       "      <th>0</th>\n",
       "      <td>AK</td>\n",
       "      <td>7609</td>\n",
       "      <td>276</td>\n",
       "      <td>3.627283</td>\n",
       "    </tr>\n",
       "    <tr>\n",
       "      <th>1</th>\n",
       "      <td>AL</td>\n",
       "      <td>98282</td>\n",
       "      <td>2162</td>\n",
       "      <td>2.199792</td>\n",
       "    </tr>\n",
       "    <tr>\n",
       "      <th>2</th>\n",
       "      <td>AR</td>\n",
       "      <td>55092</td>\n",
       "      <td>1819</td>\n",
       "      <td>3.301750</td>\n",
       "    </tr>\n",
       "    <tr>\n",
       "      <th>3</th>\n",
       "      <td>AZ</td>\n",
       "      <td>55147</td>\n",
       "      <td>1169</td>\n",
       "      <td>2.119789</td>\n",
       "    </tr>\n",
       "    <tr>\n",
       "      <th>4</th>\n",
       "      <td>CA</td>\n",
       "      <td>481436</td>\n",
       "      <td>9611</td>\n",
       "      <td>1.996319</td>\n",
       "    </tr>\n",
       "    <tr>\n",
       "      <th>5</th>\n",
       "      <td>CO</td>\n",
       "      <td>81467</td>\n",
       "      <td>1785</td>\n",
       "      <td>2.191071</td>\n",
       "    </tr>\n",
       "    <tr>\n",
       "      <th>6</th>\n",
       "      <td>CT</td>\n",
       "      <td>80988</td>\n",
       "      <td>1531</td>\n",
       "      <td>1.890404</td>\n",
       "    </tr>\n",
       "    <tr>\n",
       "      <th>7</th>\n",
       "      <td>DC</td>\n",
       "      <td>41541</td>\n",
       "      <td>478</td>\n",
       "      <td>1.150670</td>\n",
       "    </tr>\n",
       "    <tr>\n",
       "      <th>8</th>\n",
       "      <td>DE</td>\n",
       "      <td>15023</td>\n",
       "      <td>422</td>\n",
       "      <td>2.809026</td>\n",
       "    </tr>\n",
       "    <tr>\n",
       "      <th>9</th>\n",
       "      <td>FL</td>\n",
       "      <td>312346</td>\n",
       "      <td>5375</td>\n",
       "      <td>1.720848</td>\n",
       "    </tr>\n",
       "    <tr>\n",
       "      <th>10</th>\n",
       "      <td>GA</td>\n",
       "      <td>184250</td>\n",
       "      <td>3261</td>\n",
       "      <td>1.769878</td>\n",
       "    </tr>\n",
       "    <tr>\n",
       "      <th>11</th>\n",
       "      <td>HI</td>\n",
       "      <td>18317</td>\n",
       "      <td>349</td>\n",
       "      <td>1.905334</td>\n",
       "    </tr>\n",
       "    <tr>\n",
       "      <th>12</th>\n",
       "      <td>IA</td>\n",
       "      <td>45367</td>\n",
       "      <td>1627</td>\n",
       "      <td>3.586307</td>\n",
       "    </tr>\n",
       "    <tr>\n",
       "      <th>13</th>\n",
       "      <td>ID</td>\n",
       "      <td>18313</td>\n",
       "      <td>709</td>\n",
       "      <td>3.871567</td>\n",
       "    </tr>\n",
       "    <tr>\n",
       "      <th>14</th>\n",
       "      <td>IL</td>\n",
       "      <td>218101</td>\n",
       "      <td>3773</td>\n",
       "      <td>1.729932</td>\n",
       "    </tr>\n",
       "    <tr>\n",
       "      <th>15</th>\n",
       "      <td>IN</td>\n",
       "      <td>110185</td>\n",
       "      <td>2828</td>\n",
       "      <td>2.566593</td>\n",
       "    </tr>\n",
       "    <tr>\n",
       "      <th>16</th>\n",
       "      <td>KS</td>\n",
       "      <td>45660</td>\n",
       "      <td>1356</td>\n",
       "      <td>2.969777</td>\n",
       "    </tr>\n",
       "    <tr>\n",
       "      <th>17</th>\n",
       "      <td>KY</td>\n",
       "      <td>82762</td>\n",
       "      <td>2358</td>\n",
       "      <td>2.849134</td>\n",
       "    </tr>\n",
       "    <tr>\n",
       "      <th>18</th>\n",
       "      <td>LA</td>\n",
       "      <td>95269</td>\n",
       "      <td>2130</td>\n",
       "      <td>2.235774</td>\n",
       "    </tr>\n",
       "    <tr>\n",
       "      <th>19</th>\n",
       "      <td>MA</td>\n",
       "      <td>182737</td>\n",
       "      <td>3783</td>\n",
       "      <td>2.070188</td>\n",
       "    </tr>\n",
       "    <tr>\n",
       "      <th>20</th>\n",
       "      <td>MD</td>\n",
       "      <td>110000</td>\n",
       "      <td>1948</td>\n",
       "      <td>1.770909</td>\n",
       "    </tr>\n",
       "    <tr>\n",
       "      <th>21</th>\n",
       "      <td>ME</td>\n",
       "      <td>28714</td>\n",
       "      <td>1045</td>\n",
       "      <td>3.639340</td>\n",
       "    </tr>\n",
       "    <tr>\n",
       "      <th>22</th>\n",
       "      <td>MI</td>\n",
       "      <td>160942</td>\n",
       "      <td>3343</td>\n",
       "      <td>2.077146</td>\n",
       "    </tr>\n",
       "    <tr>\n",
       "      <th>23</th>\n",
       "      <td>MN</td>\n",
       "      <td>113361</td>\n",
       "      <td>2719</td>\n",
       "      <td>2.398532</td>\n",
       "    </tr>\n",
       "    <tr>\n",
       "      <th>24</th>\n",
       "      <td>MO</td>\n",
       "      <td>113918</td>\n",
       "      <td>3142</td>\n",
       "      <td>2.758124</td>\n",
       "    </tr>\n",
       "    <tr>\n",
       "      <th>25</th>\n",
       "      <td>MP</td>\n",
       "      <td>405</td>\n",
       "      <td>9</td>\n",
       "      <td>2.222222</td>\n",
       "    </tr>\n",
       "    <tr>\n",
       "      <th>26</th>\n",
       "      <td>MS</td>\n",
       "      <td>66942</td>\n",
       "      <td>1715</td>\n",
       "      <td>2.561919</td>\n",
       "    </tr>\n",
       "    <tr>\n",
       "      <th>27</th>\n",
       "      <td>MT</td>\n",
       "      <td>15729</td>\n",
       "      <td>573</td>\n",
       "      <td>3.642953</td>\n",
       "    </tr>\n",
       "    <tr>\n",
       "      <th>28</th>\n",
       "      <td>NC</td>\n",
       "      <td>148335</td>\n",
       "      <td>3988</td>\n",
       "      <td>2.688509</td>\n",
       "    </tr>\n",
       "    <tr>\n",
       "      <th>29</th>\n",
       "      <td>ND</td>\n",
       "      <td>12149</td>\n",
       "      <td>500</td>\n",
       "      <td>4.115565</td>\n",
       "    </tr>\n",
       "    <tr>\n",
       "      <th>30</th>\n",
       "      <td>NE</td>\n",
       "      <td>30169</td>\n",
       "      <td>1115</td>\n",
       "      <td>3.695847</td>\n",
       "    </tr>\n",
       "    <tr>\n",
       "      <th>31</th>\n",
       "      <td>NH</td>\n",
       "      <td>22738</td>\n",
       "      <td>774</td>\n",
       "      <td>3.403993</td>\n",
       "    </tr>\n",
       "    <tr>\n",
       "      <th>32</th>\n",
       "      <td>NJ</td>\n",
       "      <td>156938</td>\n",
       "      <td>2864</td>\n",
       "      <td>1.824924</td>\n",
       "    </tr>\n",
       "    <tr>\n",
       "      <th>33</th>\n",
       "      <td>NM</td>\n",
       "      <td>30266</td>\n",
       "      <td>640</td>\n",
       "      <td>2.114584</td>\n",
       "    </tr>\n",
       "    <tr>\n",
       "      <th>34</th>\n",
       "      <td>NV</td>\n",
       "      <td>34411</td>\n",
       "      <td>717</td>\n",
       "      <td>2.083636</td>\n",
       "    </tr>\n",
       "    <tr>\n",
       "      <th>35</th>\n",
       "      <td>NY</td>\n",
       "      <td>593990</td>\n",
       "      <td>7398</td>\n",
       "      <td>1.245476</td>\n",
       "    </tr>\n",
       "    <tr>\n",
       "      <th>36</th>\n",
       "      <td>OH</td>\n",
       "      <td>226609</td>\n",
       "      <td>5484</td>\n",
       "      <td>2.420027</td>\n",
       "    </tr>\n",
       "    <tr>\n",
       "      <th>37</th>\n",
       "      <td>OK</td>\n",
       "      <td>56306</td>\n",
       "      <td>1576</td>\n",
       "      <td>2.798991</td>\n",
       "    </tr>\n",
       "    <tr>\n",
       "      <th>38</th>\n",
       "      <td>OR</td>\n",
       "      <td>57479</td>\n",
       "      <td>1560</td>\n",
       "      <td>2.714035</td>\n",
       "    </tr>\n",
       "    <tr>\n",
       "      <th>39</th>\n",
       "      <td>PA</td>\n",
       "      <td>185736</td>\n",
       "      <td>3761</td>\n",
       "      <td>2.024917</td>\n",
       "    </tr>\n",
       "    <tr>\n",
       "      <th>40</th>\n",
       "      <td>RI</td>\n",
       "      <td>35101</td>\n",
       "      <td>810</td>\n",
       "      <td>2.307627</td>\n",
       "    </tr>\n",
       "    <tr>\n",
       "      <th>41</th>\n",
       "      <td>SC</td>\n",
       "      <td>74107</td>\n",
       "      <td>2147</td>\n",
       "      <td>2.897162</td>\n",
       "    </tr>\n",
       "    <tr>\n",
       "      <th>42</th>\n",
       "      <td>SD</td>\n",
       "      <td>18796</td>\n",
       "      <td>720</td>\n",
       "      <td>3.830602</td>\n",
       "    </tr>\n",
       "    <tr>\n",
       "      <th>43</th>\n",
       "      <td>TN</td>\n",
       "      <td>121983</td>\n",
       "      <td>2542</td>\n",
       "      <td>2.083897</td>\n",
       "    </tr>\n",
       "    <tr>\n",
       "      <th>44</th>\n",
       "      <td>TX</td>\n",
       "      <td>390231</td>\n",
       "      <td>5385</td>\n",
       "      <td>1.379952</td>\n",
       "    </tr>\n",
       "    <tr>\n",
       "      <th>45</th>\n",
       "      <td>UT</td>\n",
       "      <td>35067</td>\n",
       "      <td>886</td>\n",
       "      <td>2.526592</td>\n",
       "    </tr>\n",
       "    <tr>\n",
       "      <th>46</th>\n",
       "      <td>VA</td>\n",
       "      <td>135528</td>\n",
       "      <td>2420</td>\n",
       "      <td>1.785609</td>\n",
       "    </tr>\n",
       "    <tr>\n",
       "      <th>47</th>\n",
       "      <td>VT</td>\n",
       "      <td>13955</td>\n",
       "      <td>722</td>\n",
       "      <td>5.173773</td>\n",
       "    </tr>\n",
       "    <tr>\n",
       "      <th>48</th>\n",
       "      <td>WA</td>\n",
       "      <td>130605</td>\n",
       "      <td>2787</td>\n",
       "      <td>2.133915</td>\n",
       "    </tr>\n",
       "    <tr>\n",
       "      <th>49</th>\n",
       "      <td>WI</td>\n",
       "      <td>96273</td>\n",
       "      <td>2662</td>\n",
       "      <td>2.765054</td>\n",
       "    </tr>\n",
       "    <tr>\n",
       "      <th>50</th>\n",
       "      <td>WP</td>\n",
       "      <td>49</td>\n",
       "      <td>1</td>\n",
       "      <td>2.040816</td>\n",
       "    </tr>\n",
       "    <tr>\n",
       "      <th>51</th>\n",
       "      <td>WV</td>\n",
       "      <td>34043</td>\n",
       "      <td>999</td>\n",
       "      <td>2.934524</td>\n",
       "    </tr>\n",
       "    <tr>\n",
       "      <th>52</th>\n",
       "      <td>WY</td>\n",
       "      <td>8693</td>\n",
       "      <td>325</td>\n",
       "      <td>3.738640</td>\n",
       "    </tr>\n",
       "  </tbody>\n",
       "</table>\n",
       "</div>"
      ],
      "text/plain": [
       "   State  TotalUnits  ActiveSubsidies  percent_of_active_subsidies\n",
       "0     AK        7609              276                     3.627283\n",
       "1     AL       98282             2162                     2.199792\n",
       "2     AR       55092             1819                     3.301750\n",
       "3     AZ       55147             1169                     2.119789\n",
       "4     CA      481436             9611                     1.996319\n",
       "5     CO       81467             1785                     2.191071\n",
       "6     CT       80988             1531                     1.890404\n",
       "7     DC       41541              478                     1.150670\n",
       "8     DE       15023              422                     2.809026\n",
       "9     FL      312346             5375                     1.720848\n",
       "10    GA      184250             3261                     1.769878\n",
       "11    HI       18317              349                     1.905334\n",
       "12    IA       45367             1627                     3.586307\n",
       "13    ID       18313              709                     3.871567\n",
       "14    IL      218101             3773                     1.729932\n",
       "15    IN      110185             2828                     2.566593\n",
       "16    KS       45660             1356                     2.969777\n",
       "17    KY       82762             2358                     2.849134\n",
       "18    LA       95269             2130                     2.235774\n",
       "19    MA      182737             3783                     2.070188\n",
       "20    MD      110000             1948                     1.770909\n",
       "21    ME       28714             1045                     3.639340\n",
       "22    MI      160942             3343                     2.077146\n",
       "23    MN      113361             2719                     2.398532\n",
       "24    MO      113918             3142                     2.758124\n",
       "25    MP         405                9                     2.222222\n",
       "26    MS       66942             1715                     2.561919\n",
       "27    MT       15729              573                     3.642953\n",
       "28    NC      148335             3988                     2.688509\n",
       "29    ND       12149              500                     4.115565\n",
       "30    NE       30169             1115                     3.695847\n",
       "31    NH       22738              774                     3.403993\n",
       "32    NJ      156938             2864                     1.824924\n",
       "33    NM       30266              640                     2.114584\n",
       "34    NV       34411              717                     2.083636\n",
       "35    NY      593990             7398                     1.245476\n",
       "36    OH      226609             5484                     2.420027\n",
       "37    OK       56306             1576                     2.798991\n",
       "38    OR       57479             1560                     2.714035\n",
       "39    PA      185736             3761                     2.024917\n",
       "40    RI       35101              810                     2.307627\n",
       "41    SC       74107             2147                     2.897162\n",
       "42    SD       18796              720                     3.830602\n",
       "43    TN      121983             2542                     2.083897\n",
       "44    TX      390231             5385                     1.379952\n",
       "45    UT       35067              886                     2.526592\n",
       "46    VA      135528             2420                     1.785609\n",
       "47    VT       13955              722                     5.173773\n",
       "48    WA      130605             2787                     2.133915\n",
       "49    WI       96273             2662                     2.765054\n",
       "50    WP          49                1                     2.040816\n",
       "51    WV       34043              999                     2.934524\n",
       "52    WY        8693              325                     3.738640"
      ]
     },
     "execution_count": 83,
     "metadata": {},
     "output_type": "execute_result"
    }
   ],
   "source": [
    "nhpd_unit_sub_agg"
   ]
  },
  {
   "cell_type": "markdown",
   "metadata": {},
   "source": [
    "##### Now we are interested in finding what percent of TotalUnits are reserved for ActiveSubsidies grouped by State. We find that only 1.7% of units in Florida have active subsidies out of total number of units present in the entire state. The highest percent of subsidized units are for the State of Vermont at 5.1% and followed by North Dakota at 4.1%"
   ]
  },
  {
   "cell_type": "code",
   "execution_count": 84,
   "metadata": {},
   "outputs": [
    {
     "data": {
      "text/plain": [
       "Text(0.5, 1.0, 'Percent of Active Subsidies')"
      ]
     },
     "execution_count": 84,
     "metadata": {},
     "output_type": "execute_result"
    },
    {
     "data": {
      "image/png": "[encoded data removed]",
      "text/plain": [
       "<Figure size 864x864 with 1 Axes>"
      ]
     },
     "metadata": {
      "needs_background": "light"
     },
     "output_type": "display_data"
    }
   ],
   "source": [
    "nhpd_unit_sub_agg = nhpd_unit_sub_agg[['State', 'percent_of_active_subsidies']].sort_values(by = 'percent_of_active_subsidies', ascending = False)\n",
    "\n",
    "colors = ['silver',] * 53\n",
    "colors[0] = 'green'\n",
    "colors[1] = 'green'\n",
    "colors[49] = 'crimson'\n",
    "\n",
    "fig, ax = plt.subplots(figsize=(12,12))\n",
    "ax = sns.barplot(y=\"State\", x=\"percent_of_active_subsidies\", data=nhpd_unit_sub_agg, palette = colors)\n",
    "plt.xlabel(\"percent_of_active_subsidies\", size=15)\n",
    "plt.ylabel(\"State\", size=15)\n",
    "plt.title(\"Percent of Active Subsidies\", size=25)"
   ]
  },
  {
   "cell_type": "markdown",
   "metadata": {},
   "source": [
    "#### occupancy rate Vs fair market rate: Although we didnt see much of a strong trend when comparing the occupancy rate w.r.t fair market rent, but we did find some clusters that shows the occupancy rate is high when the fair market rate is less. "
   ]
  },
  {
   "cell_type": "code",
   "execution_count": 85,
   "metadata": {},
   "outputs": [
    {
     "data": {
      "text/plain": [
       "<AxesSubplot:xlabel='FairMarketRent_2BR', ylabel='OccupancyRate'>"
      ]
     },
     "execution_count": 85,
     "metadata": {},
     "output_type": "execute_result"
    },
    {
     "data": {
      "image/png": "[encoded data removed]",
      "text/plain": [
       "<Figure size 432x288 with 1 Axes>"
      ]
     },
     "metadata": {
      "needs_background": "light"
     },
     "output_type": "display_data"
    }
   ],
   "source": [
    "sns.regplot(data=nhpd, x=\"FairMarketRent_2BR\", y=\"OccupancyRate\")"
   ]
  },
  {
   "cell_type": "code",
   "execution_count": 86,
   "metadata": {},
   "outputs": [
    {
     "data": {
      "text/plain": [
       "<AxesSubplot:xlabel='FairMarketRent_2BR', ylabel='AverageMonthsOfTenancy'>"
      ]
     },
     "execution_count": 86,
     "metadata": {},
     "output_type": "execute_result"
    },
    {
     "data": {
      "image/png": "[encoded data removed]",
      "text/plain": [
       "<Figure size 432x288 with 1 Axes>"
      ]
     },
     "metadata": {
      "needs_background": "light"
     },
     "output_type": "display_data"
    }
   ],
   "source": [
    "sns.regplot(data=nhpd, x=\"FairMarketRent_2BR\", y=\"AverageMonthsOfTenancy\")"
   ]
  },
  {
   "cell_type": "markdown",
   "metadata": {},
   "source": [
    "##### Next we are going to figure the Fair market rent for target tenant type:"
   ]
  },
  {
   "cell_type": "code",
   "execution_count": 87,
   "metadata": {},
   "outputs": [],
   "source": [
    "import fuzzywuzzy\n",
    "from fuzzywuzzy import process\n",
    "import chardet\n",
    "\n",
    "def match_and_replace(df, column, string_to_match, min_ratio = 50):\n",
    "    unique_strings = df[column].unique()\n",
    "    get_matches = fuzzywuzzy.process.extract(string_to_match, unique_strings, \n",
    "                                         limit=20, scorer=fuzzywuzzy.fuzz.token_sort_ratio)\n",
    "    matches = [get_matches[0] for get_matches in get_matches if get_matches[1] >= min_ratio]\n",
    "\n",
    "    rows_with_matches = df[column].isin(matches)\n",
    "    df.loc[rows_with_matches, column] = string_to_match\n",
    "    print(\"Replaced!\")"
   ]
  },
  {
   "cell_type": "code",
   "execution_count": 88,
   "metadata": {},
   "outputs": [
    {
     "name": "stdout",
     "output_type": "stream",
     "text": [
      "Replaced!\n",
      "Replaced!\n",
      "Replaced!\n",
      "Replaced!\n",
      "Replaced!\n"
     ]
    },
    {
     "data": {
      "image/png": "[encoded data removed]",
      "text/plain": [
       "<Figure size 864x864 with 1 Axes>"
      ]
     },
     "metadata": {
      "needs_background": "light"
     },
     "output_type": "display_data"
    }
   ],
   "source": [
    "match_and_replace(nhpd, 'TargetTenantType', 'Mixed')\n",
    "match_and_replace(nhpd, 'TargetTenantType', 'Mixed;Link')\n",
    "match_and_replace(nhpd, 'TargetTenantType', 'Elderly or Disabled')\n",
    "match_and_replace(nhpd, 'TargetTenantType', 'Family')\n",
    "match_and_replace(nhpd, 'TargetTenantType', 'Elderly')\n",
    "fig, ax = plt.subplots(figsize=(12,12))\n",
    "ax = sns.boxplot(y=\"TargetTenantType\", x=\"FairMarketRent_2BR\", data=nhpd)"
   ]
  },
  {
   "cell_type": "markdown",
   "metadata": {},
   "source": [
    "#### Let's explore the LIHTC i.e. the 'Low Income Housing Tax Credit' housing subsidies for Florida and compare them with rest of the USA"
   ]
  },
  {
   "cell_type": "code",
   "execution_count": 89,
   "metadata": {},
   "outputs": [
    {
     "data": {
      "text/html": [
       "<div>\n",
       "<style scoped>\n",
       "    .dataframe tbody tr th:only-of-type {\n",
       "        vertical-align: middle;\n",
       "    }\n",
       "\n",
       "    .dataframe tbody tr th {\n",
       "        vertical-align: top;\n",
       "    }\n",
       "\n",
       "    .dataframe thead th {\n",
       "        text-align: right;\n",
       "    }\n",
       "</style>\n",
       "<table border=\"1\" class=\"dataframe\">\n",
       "  <thead>\n",
       "    <tr style=\"text-align: right;\">\n",
       "      <th></th>\n",
       "      <th>NHPDPropertyID</th>\n",
       "      <th>PropertyName</th>\n",
       "      <th>PropertyAddress</th>\n",
       "      <th>City</th>\n",
       "      <th>State</th>\n",
       "      <th>Zip</th>\n",
       "      <th>CBSACode</th>\n",
       "      <th>CBSAType</th>\n",
       "      <th>County</th>\n",
       "      <th>CountyCode</th>\n",
       "      <th>...</th>\n",
       "      <th>NumberActiveMR</th>\n",
       "      <th>NumberInconclusiveMR</th>\n",
       "      <th>NumberInactiveMR</th>\n",
       "      <th>Mr_1_Status</th>\n",
       "      <th>Mr_1_ProgramName</th>\n",
       "      <th>Mr_1_AssistedUnits</th>\n",
       "      <th>Mr_2_Status</th>\n",
       "      <th>Mr_2_ProgramName</th>\n",
       "      <th>Mr_2_AssistedUnits</th>\n",
       "      <th>OldNHPDPropertyID</th>\n",
       "    </tr>\n",
       "  </thead>\n",
       "  <tbody>\n",
       "    <tr>\n",
       "      <th>144</th>\n",
       "      <td>1000147</td>\n",
       "      <td>SUNTERRA APARTMENTS</td>\n",
       "      <td>3541 Evans Ave</td>\n",
       "      <td>Fort Myers</td>\n",
       "      <td>FL</td>\n",
       "      <td>33901-8328</td>\n",
       "      <td>15980.0</td>\n",
       "      <td>Metropolitan Statistical Area</td>\n",
       "      <td>Lee</td>\n",
       "      <td>12071.0</td>\n",
       "      <td>...</td>\n",
       "      <td>0</td>\n",
       "      <td>0</td>\n",
       "      <td>0</td>\n",
       "      <td>NaN</td>\n",
       "      <td>NaN</td>\n",
       "      <td>NaN</td>\n",
       "      <td>NaN</td>\n",
       "      <td>NaN</td>\n",
       "      <td>NaN</td>\n",
       "      <td>NaN</td>\n",
       "    </tr>\n",
       "    <tr>\n",
       "      <th>159</th>\n",
       "      <td>1000163</td>\n",
       "      <td>BUENA VISTA APARTMENTS</td>\n",
       "      <td>521 SW 6th St</td>\n",
       "      <td>Miami</td>\n",
       "      <td>FL</td>\n",
       "      <td>33130-2773</td>\n",
       "      <td>33100.0</td>\n",
       "      <td>Metropolitan Statistical Area</td>\n",
       "      <td>Miami-Dade</td>\n",
       "      <td>12086.0</td>\n",
       "      <td>...</td>\n",
       "      <td>0</td>\n",
       "      <td>0</td>\n",
       "      <td>0</td>\n",
       "      <td>NaN</td>\n",
       "      <td>NaN</td>\n",
       "      <td>NaN</td>\n",
       "      <td>NaN</td>\n",
       "      <td>NaN</td>\n",
       "      <td>NaN</td>\n",
       "      <td>NaN</td>\n",
       "    </tr>\n",
       "    <tr>\n",
       "      <th>161</th>\n",
       "      <td>1000165</td>\n",
       "      <td>VILLA BEATRIZ</td>\n",
       "      <td>776 NW 2nd St</td>\n",
       "      <td>Miami</td>\n",
       "      <td>FL</td>\n",
       "      <td>33128-1454</td>\n",
       "      <td>33100.0</td>\n",
       "      <td>Metropolitan Statistical Area</td>\n",
       "      <td>Miami-Dade</td>\n",
       "      <td>12086.0</td>\n",
       "      <td>...</td>\n",
       "      <td>0</td>\n",
       "      <td>0</td>\n",
       "      <td>0</td>\n",
       "      <td>NaN</td>\n",
       "      <td>NaN</td>\n",
       "      <td>NaN</td>\n",
       "      <td>NaN</td>\n",
       "      <td>NaN</td>\n",
       "      <td>NaN</td>\n",
       "      <td>NaN</td>\n",
       "    </tr>\n",
       "    <tr>\n",
       "      <th>168</th>\n",
       "      <td>1000172</td>\n",
       "      <td>PORTILLO APARTMENTS</td>\n",
       "      <td>3559 Portillo Rd</td>\n",
       "      <td>Spring Hill</td>\n",
       "      <td>FL</td>\n",
       "      <td>34608</td>\n",
       "      <td>45300.0</td>\n",
       "      <td>Metropolitan Statistical Area</td>\n",
       "      <td>Hernando</td>\n",
       "      <td>12053.0</td>\n",
       "      <td>...</td>\n",
       "      <td>0</td>\n",
       "      <td>0</td>\n",
       "      <td>0</td>\n",
       "      <td>NaN</td>\n",
       "      <td>NaN</td>\n",
       "      <td>NaN</td>\n",
       "      <td>NaN</td>\n",
       "      <td>NaN</td>\n",
       "      <td>NaN</td>\n",
       "      <td>NaN</td>\n",
       "    </tr>\n",
       "    <tr>\n",
       "      <th>546</th>\n",
       "      <td>1000611</td>\n",
       "      <td>PHASE IV-B</td>\n",
       "      <td>4231 Machiavelli Ln</td>\n",
       "      <td>Fort Myers</td>\n",
       "      <td>FL</td>\n",
       "      <td>33916-4870</td>\n",
       "      <td>15980.0</td>\n",
       "      <td>Metropolitan Statistical Area</td>\n",
       "      <td>Lee</td>\n",
       "      <td>12071.0</td>\n",
       "      <td>...</td>\n",
       "      <td>0</td>\n",
       "      <td>0</td>\n",
       "      <td>0</td>\n",
       "      <td>NaN</td>\n",
       "      <td>NaN</td>\n",
       "      <td>NaN</td>\n",
       "      <td>NaN</td>\n",
       "      <td>NaN</td>\n",
       "      <td>NaN</td>\n",
       "      <td>NaN</td>\n",
       "    </tr>\n",
       "  </tbody>\n",
       "</table>\n",
       "<p>5 rows × 252 columns</p>\n",
       "</div>"
      ],
      "text/plain": [
       "     NHPDPropertyID            PropertyName      PropertyAddress         City  \\\n",
       "144         1000147     SUNTERRA APARTMENTS       3541 Evans Ave   Fort Myers   \n",
       "159         1000163  BUENA VISTA APARTMENTS        521 SW 6th St        Miami   \n",
       "161         1000165           VILLA BEATRIZ        776 NW 2nd St        Miami   \n",
       "168         1000172     PORTILLO APARTMENTS     3559 Portillo Rd  Spring Hill   \n",
       "546         1000611              PHASE IV-B  4231 Machiavelli Ln   Fort Myers   \n",
       "\n",
       "    State         Zip  CBSACode                       CBSAType      County  \\\n",
       "144    FL  33901-8328   15980.0  Metropolitan Statistical Area         Lee   \n",
       "159    FL  33130-2773   33100.0  Metropolitan Statistical Area  Miami-Dade   \n",
       "161    FL  33128-1454   33100.0  Metropolitan Statistical Area  Miami-Dade   \n",
       "168    FL       34608   45300.0  Metropolitan Statistical Area    Hernando   \n",
       "546    FL  33916-4870   15980.0  Metropolitan Statistical Area         Lee   \n",
       "\n",
       "     CountyCode  ...  NumberActiveMR NumberInconclusiveMR  NumberInactiveMR  \\\n",
       "144     12071.0  ...               0                    0                 0   \n",
       "159     12086.0  ...               0                    0                 0   \n",
       "161     12086.0  ...               0                    0                 0   \n",
       "168     12053.0  ...               0                    0                 0   \n",
       "546     12071.0  ...               0                    0                 0   \n",
       "\n",
       "     Mr_1_Status Mr_1_ProgramName  Mr_1_AssistedUnits  Mr_2_Status  \\\n",
       "144          NaN              NaN                 NaN          NaN   \n",
       "159          NaN              NaN                 NaN          NaN   \n",
       "161          NaN              NaN                 NaN          NaN   \n",
       "168          NaN              NaN                 NaN          NaN   \n",
       "546          NaN              NaN                 NaN          NaN   \n",
       "\n",
       "     Mr_2_ProgramName  Mr_2_AssistedUnits OldNHPDPropertyID  \n",
       "144               NaN                 NaN               NaN  \n",
       "159               NaN                 NaN               NaN  \n",
       "161               NaN                 NaN               NaN  \n",
       "168               NaN                 NaN               NaN  \n",
       "546               NaN                 NaN               NaN  \n",
       "\n",
       "[5 rows x 252 columns]"
      ]
     },
     "execution_count": 89,
     "metadata": {},
     "output_type": "execute_result"
    }
   ],
   "source": [
    "# Lets explore the the florida data\n",
    "florida_df = nhpd[nhpd['State'] == 'FL']\n",
    "florida_df.head()"
   ]
  },
  {
   "cell_type": "code",
   "execution_count": 90,
   "metadata": {},
   "outputs": [
    {
     "data": {
      "text/html": [
       "<div>\n",
       "<style scoped>\n",
       "    .dataframe tbody tr th:only-of-type {\n",
       "        vertical-align: middle;\n",
       "    }\n",
       "\n",
       "    .dataframe tbody tr th {\n",
       "        vertical-align: top;\n",
       "    }\n",
       "\n",
       "    .dataframe thead th {\n",
       "        text-align: right;\n",
       "    }\n",
       "</style>\n",
       "<table border=\"1\" class=\"dataframe\">\n",
       "  <thead>\n",
       "    <tr style=\"text-align: right;\">\n",
       "      <th></th>\n",
       "      <th>NHPDPropertyID</th>\n",
       "      <th>PropertyName</th>\n",
       "      <th>PropertyAddress</th>\n",
       "      <th>City</th>\n",
       "      <th>State</th>\n",
       "      <th>Zip</th>\n",
       "      <th>CBSACode</th>\n",
       "      <th>CBSAType</th>\n",
       "      <th>County</th>\n",
       "      <th>CountyCode</th>\n",
       "      <th>...</th>\n",
       "      <th>NumberActiveMR</th>\n",
       "      <th>NumberInconclusiveMR</th>\n",
       "      <th>NumberInactiveMR</th>\n",
       "      <th>Mr_1_Status</th>\n",
       "      <th>Mr_1_ProgramName</th>\n",
       "      <th>Mr_1_AssistedUnits</th>\n",
       "      <th>Mr_2_Status</th>\n",
       "      <th>Mr_2_ProgramName</th>\n",
       "      <th>Mr_2_AssistedUnits</th>\n",
       "      <th>OldNHPDPropertyID</th>\n",
       "    </tr>\n",
       "  </thead>\n",
       "  <tbody>\n",
       "    <tr>\n",
       "      <th>0</th>\n",
       "      <td>1000000</td>\n",
       "      <td>IVY ESTATES</td>\n",
       "      <td>6729 Zeigler Blvd</td>\n",
       "      <td>Mobile</td>\n",
       "      <td>AL</td>\n",
       "      <td>36608-4253</td>\n",
       "      <td>33660.0</td>\n",
       "      <td>Metropolitan Statistical Area</td>\n",
       "      <td>Mobile</td>\n",
       "      <td>1097.0</td>\n",
       "      <td>...</td>\n",
       "      <td>0</td>\n",
       "      <td>0</td>\n",
       "      <td>0</td>\n",
       "      <td>NaN</td>\n",
       "      <td>NaN</td>\n",
       "      <td>NaN</td>\n",
       "      <td>NaN</td>\n",
       "      <td>NaN</td>\n",
       "      <td>NaN</td>\n",
       "      <td>NaN</td>\n",
       "    </tr>\n",
       "    <tr>\n",
       "      <th>1</th>\n",
       "      <td>1000001</td>\n",
       "      <td>RENDU TERRACE WEST</td>\n",
       "      <td>7400 Old Shell Rd</td>\n",
       "      <td>Mobile</td>\n",
       "      <td>AL</td>\n",
       "      <td>36608-4549</td>\n",
       "      <td>33660.0</td>\n",
       "      <td>Metropolitan Statistical Area</td>\n",
       "      <td>Mobile</td>\n",
       "      <td>1097.0</td>\n",
       "      <td>...</td>\n",
       "      <td>0</td>\n",
       "      <td>0</td>\n",
       "      <td>0</td>\n",
       "      <td>NaN</td>\n",
       "      <td>NaN</td>\n",
       "      <td>NaN</td>\n",
       "      <td>NaN</td>\n",
       "      <td>NaN</td>\n",
       "      <td>NaN</td>\n",
       "      <td>NaN</td>\n",
       "    </tr>\n",
       "    <tr>\n",
       "      <th>2</th>\n",
       "      <td>1000002</td>\n",
       "      <td>TWB RESIDENTIAL OPPORTUNITIES II</td>\n",
       "      <td>93 Canal Rd</td>\n",
       "      <td>Port Jefferson Station</td>\n",
       "      <td>NY</td>\n",
       "      <td>11776-3024</td>\n",
       "      <td>35620.0</td>\n",
       "      <td>Metropolitan</td>\n",
       "      <td>Suffolk</td>\n",
       "      <td>36103.0</td>\n",
       "      <td>...</td>\n",
       "      <td>0</td>\n",
       "      <td>0</td>\n",
       "      <td>0</td>\n",
       "      <td>NaN</td>\n",
       "      <td>NaN</td>\n",
       "      <td>NaN</td>\n",
       "      <td>NaN</td>\n",
       "      <td>NaN</td>\n",
       "      <td>NaN</td>\n",
       "      <td>NaN</td>\n",
       "    </tr>\n",
       "    <tr>\n",
       "      <th>3</th>\n",
       "      <td>1000003</td>\n",
       "      <td>THE DAISY HOUSE</td>\n",
       "      <td>615 Clarissa St</td>\n",
       "      <td>Rochester</td>\n",
       "      <td>NY</td>\n",
       "      <td>14608-2485</td>\n",
       "      <td>40380.0</td>\n",
       "      <td>Metropolitan</td>\n",
       "      <td>Monroe</td>\n",
       "      <td>36055.0</td>\n",
       "      <td>...</td>\n",
       "      <td>0</td>\n",
       "      <td>0</td>\n",
       "      <td>0</td>\n",
       "      <td>NaN</td>\n",
       "      <td>NaN</td>\n",
       "      <td>NaN</td>\n",
       "      <td>NaN</td>\n",
       "      <td>NaN</td>\n",
       "      <td>NaN</td>\n",
       "      <td>NaN</td>\n",
       "    </tr>\n",
       "    <tr>\n",
       "      <th>4</th>\n",
       "      <td>1000004</td>\n",
       "      <td>MAIN AVENUE APARTMENTS</td>\n",
       "      <td>105 E Walnut St</td>\n",
       "      <td>Sylacauga</td>\n",
       "      <td>AL</td>\n",
       "      <td>35150-3012</td>\n",
       "      <td>45180.0</td>\n",
       "      <td>Micropolitan Statistical Area</td>\n",
       "      <td>Talladega</td>\n",
       "      <td>1121.0</td>\n",
       "      <td>...</td>\n",
       "      <td>0</td>\n",
       "      <td>0</td>\n",
       "      <td>0</td>\n",
       "      <td>NaN</td>\n",
       "      <td>NaN</td>\n",
       "      <td>NaN</td>\n",
       "      <td>NaN</td>\n",
       "      <td>NaN</td>\n",
       "      <td>NaN</td>\n",
       "      <td>NaN</td>\n",
       "    </tr>\n",
       "  </tbody>\n",
       "</table>\n",
       "<p>5 rows × 252 columns</p>\n",
       "</div>"
      ],
      "text/plain": [
       "   NHPDPropertyID                      PropertyName    PropertyAddress  \\\n",
       "0         1000000                       IVY ESTATES  6729 Zeigler Blvd   \n",
       "1         1000001                RENDU TERRACE WEST  7400 Old Shell Rd   \n",
       "2         1000002  TWB RESIDENTIAL OPPORTUNITIES II        93 Canal Rd   \n",
       "3         1000003                   THE DAISY HOUSE    615 Clarissa St   \n",
       "4         1000004            MAIN AVENUE APARTMENTS    105 E Walnut St   \n",
       "\n",
       "                     City State         Zip  CBSACode  \\\n",
       "0                  Mobile    AL  36608-4253   33660.0   \n",
       "1                  Mobile    AL  36608-4549   33660.0   \n",
       "2  Port Jefferson Station    NY  11776-3024   35620.0   \n",
       "3               Rochester    NY  14608-2485   40380.0   \n",
       "4               Sylacauga    AL  35150-3012   45180.0   \n",
       "\n",
       "                        CBSAType     County  CountyCode  ...  NumberActiveMR  \\\n",
       "0  Metropolitan Statistical Area     Mobile      1097.0  ...               0   \n",
       "1  Metropolitan Statistical Area     Mobile      1097.0  ...               0   \n",
       "2                   Metropolitan    Suffolk     36103.0  ...               0   \n",
       "3                   Metropolitan     Monroe     36055.0  ...               0   \n",
       "4  Micropolitan Statistical Area  Talladega      1121.0  ...               0   \n",
       "\n",
       "  NumberInconclusiveMR  NumberInactiveMR  Mr_1_Status Mr_1_ProgramName  \\\n",
       "0                    0                 0          NaN              NaN   \n",
       "1                    0                 0          NaN              NaN   \n",
       "2                    0                 0          NaN              NaN   \n",
       "3                    0                 0          NaN              NaN   \n",
       "4                    0                 0          NaN              NaN   \n",
       "\n",
       "   Mr_1_AssistedUnits  Mr_2_Status  Mr_2_ProgramName  Mr_2_AssistedUnits  \\\n",
       "0                 NaN          NaN               NaN                 NaN   \n",
       "1                 NaN          NaN               NaN                 NaN   \n",
       "2                 NaN          NaN               NaN                 NaN   \n",
       "3                 NaN          NaN               NaN                 NaN   \n",
       "4                 NaN          NaN               NaN                 NaN   \n",
       "\n",
       "  OldNHPDPropertyID  \n",
       "0               NaN  \n",
       "1               NaN  \n",
       "2               NaN  \n",
       "3               NaN  \n",
       "4               NaN  \n",
       "\n",
       "[5 rows x 252 columns]"
      ]
     },
     "execution_count": 90,
     "metadata": {},
     "output_type": "execute_result"
    }
   ],
   "source": [
    "# Get the rest of US data for comparison with Florida data\n",
    "rest_US = nhpd[nhpd['State'] != 'FL']\n",
    "rest_US.head()"
   ]
  },
  {
   "cell_type": "code",
   "execution_count": 91,
   "metadata": {},
   "outputs": [
    {
     "name": "stderr",
     "output_type": "stream",
     "text": [
      "/Users/farazrahman/mapping-floodwater/env/lib/python3.8/site-packages/pandas/util/_decorators.py:311: SettingWithCopyWarning: \n",
      "A value is trying to be set on a copy of a slice from a DataFrame\n",
      "\n",
      "See the caveats in the documentation: https://pandas.pydata.org/pandas-docs/stable/user_guide/indexing.html#returning-a-view-versus-a-copy\n",
      "  return func(*args, **kwargs)\n"
     ]
    }
   ],
   "source": [
    "# Total number of units covered by subsidy for florida and the rest of US\n",
    "\n",
    "LIHTC_florida = florida_df[['City', 'LIHTC_1_AssistedUnits', 'NumberActiveLihtc', 'NumberInconclusiveLihtc', \n",
    "                            'NumberInactiveLihtc', 'LIHTC_2_AssistedUnits', 'LIHTC_1_ProgramName', \n",
    "                            'TargetTenantType', 'FairMarketRent_2BR']]\n",
    "\n",
    "\n",
    "LIHTC_florida.dropna(inplace=True)"
   ]
  },
  {
   "cell_type": "code",
   "execution_count": 92,
   "metadata": {},
   "outputs": [
    {
     "data": {
      "text/plain": [
       "<AxesSubplot:ylabel='City'>"
      ]
     },
     "execution_count": 92,
     "metadata": {},
     "output_type": "execute_result"
    },
    {
     "data": {
      "image/png": "[encoded data removed]",
      "text/plain": [
       "<Figure size 720x576 with 1 Axes>"
      ]
     },
     "metadata": {
      "needs_background": "light"
     },
     "output_type": "display_data"
    }
   ],
   "source": [
    "# On an average how many LIHTC units are covered by subsidies in some of the cities in Florida\n",
    "# Below is the list of cities with LIHTC assisted units for florida \n",
    "fig, ax = plt.subplots(figsize=(10,8))\n",
    "LIHTC_florida.groupby('City')['LIHTC_1_AssistedUnits'].mean().sort_values().plot.barh()"
   ]
  },
  {
   "cell_type": "markdown",
   "metadata": {},
   "source": [
    "###### For Florida we can see that around 120 LIHTC assisted units are covered with subsidies on an average"
   ]
  },
  {
   "cell_type": "code",
   "execution_count": 93,
   "metadata": {},
   "outputs": [
    {
     "data": {
      "text/plain": [
       "count     26.000000\n",
       "mean     119.297436\n",
       "std       61.179588\n",
       "min       16.000000\n",
       "25%       77.000000\n",
       "50%      104.000000\n",
       "75%      167.500000\n",
       "max      256.000000\n",
       "Name: LIHTC_1_AssistedUnits, dtype: float64"
      ]
     },
     "execution_count": 93,
     "metadata": {},
     "output_type": "execute_result"
    }
   ],
   "source": [
    "LIHTC_florida.groupby('City')['LIHTC_1_AssistedUnits'].mean().describe()"
   ]
  },
  {
   "cell_type": "markdown",
   "metadata": {},
   "source": [
    "###### When comparing with the rest of the US we can see that around 60 LIHTC assisted units are covered with subsidies on an average"
   ]
  },
  {
   "cell_type": "code",
   "execution_count": 94,
   "metadata": {},
   "outputs": [
    {
     "name": "stderr",
     "output_type": "stream",
     "text": [
      "/Users/farazrahman/mapping-floodwater/env/lib/python3.8/site-packages/pandas/util/_decorators.py:311: SettingWithCopyWarning: \n",
      "A value is trying to be set on a copy of a slice from a DataFrame\n",
      "\n",
      "See the caveats in the documentation: https://pandas.pydata.org/pandas-docs/stable/user_guide/indexing.html#returning-a-view-versus-a-copy\n",
      "  return func(*args, **kwargs)\n"
     ]
    },
    {
     "data": {
      "text/plain": [
       "count    742.000000\n",
       "mean      61.502080\n",
       "std       48.593584\n",
       "min        0.000000\n",
       "25%       31.000000\n",
       "50%       48.000000\n",
       "75%       80.000000\n",
       "max      454.333333\n",
       "Name: LIHTC_1_AssistedUnits, dtype: float64"
      ]
     },
     "execution_count": 94,
     "metadata": {},
     "output_type": "execute_result"
    }
   ],
   "source": [
    "# Total number of units covered by subsidy for florida and the rest of US\n",
    "\n",
    "LIHTC_rest_US = rest_US[['City', 'LIHTC_1_AssistedUnits', 'LIHTC_2_AssistedUnits', \n",
    "                         'NumberActiveLihtc', 'NumberInconclusiveLihtc', \n",
    "                        'NumberInactiveLihtc', 'LIHTC_1_ProgramName', \n",
    "                         'TargetTenantType', 'FairMarketRent_2BR']]\n",
    "\n",
    "\n",
    "LIHTC_rest_US.dropna(inplace=True)\n",
    "\n",
    "LIHTC_rest_US.groupby('City')['LIHTC_1_AssistedUnits'].mean().describe()"
   ]
  },
  {
   "cell_type": "markdown",
   "metadata": {},
   "source": [
    "###### Number of active LIHTC subsidies in Florida grouped by city- On an average there are just 2-4 active LIHTC subsidies for cities in Florida"
   ]
  },
  {
   "cell_type": "code",
   "execution_count": 95,
   "metadata": {},
   "outputs": [
    {
     "data": {
      "text/plain": [
       "<AxesSubplot:ylabel='City'>"
      ]
     },
     "execution_count": 95,
     "metadata": {},
     "output_type": "execute_result"
    },
    {
     "data": {
      "image/png": "[encoded data removed]",
      "text/plain": [
       "<Figure size 720x576 with 1 Axes>"
      ]
     },
     "metadata": {
      "needs_background": "light"
     },
     "output_type": "display_data"
    }
   ],
   "source": [
    "fig, ax = plt.subplots(figsize=(10,8))\n",
    "LIHTC_florida.groupby('City')['NumberActiveLihtc'].mean().sort_values().plot.barh()"
   ]
  },
  {
   "cell_type": "code",
   "execution_count": 96,
   "metadata": {},
   "outputs": [
    {
     "data": {
      "text/plain": [
       "count    26.000000\n",
       "mean      2.108974\n",
       "std       0.492031\n",
       "min       1.000000\n",
       "25%       2.000000\n",
       "50%       2.000000\n",
       "75%       2.000000\n",
       "max       4.000000\n",
       "Name: NumberActiveLihtc, dtype: float64"
      ]
     },
     "execution_count": 96,
     "metadata": {},
     "output_type": "execute_result"
    }
   ],
   "source": [
    "LIHTC_florida.groupby('City')['NumberActiveLihtc'].mean().describe()"
   ]
  },
  {
   "cell_type": "markdown",
   "metadata": {},
   "source": [
    "###### Number of active LIHTC subsidies for rest of the US grouped by city- On an average there are just 2-5 active LIHTC subsidies for cities all over the USA"
   ]
  },
  {
   "cell_type": "code",
   "execution_count": 97,
   "metadata": {},
   "outputs": [
    {
     "data": {
      "text/plain": [
       "count    742.000000\n",
       "mean       2.004336\n",
       "std        0.413583\n",
       "min        1.000000\n",
       "25%        2.000000\n",
       "50%        2.000000\n",
       "75%        2.000000\n",
       "max        4.000000\n",
       "Name: NumberActiveLihtc, dtype: float64"
      ]
     },
     "execution_count": 97,
     "metadata": {},
     "output_type": "execute_result"
    }
   ],
   "source": [
    "LIHTC_rest_US.groupby('City')['NumberActiveLihtc'].mean().describe()"
   ]
  },
  {
   "cell_type": "code",
   "execution_count": null,
   "metadata": {},
   "outputs": [],
   "source": []
  }
 ],
 "metadata": {
  "kernelspec": {
   "display_name": "Python 3 (ipykernel)",
   "language": "python",
   "name": "python3"
  },
  "language_info": {
   "codemirror_mode": {
    "name": "ipython",
    "version": 3
   },
   "file_extension": ".py",
   "mimetype": "text/x-python",
   "name": "python",
   "nbconvert_exporter": "python",
   "pygments_lexer": "ipython3",
   "version": "3.8.1"
  }
 },
 "nbformat": 4,
 "nbformat_minor": 1
}
