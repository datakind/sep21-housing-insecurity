{
 "cells": [
  {
   "cell_type": "code",
   "execution_count": 7,
   "metadata": {},
   "outputs": [],
   "source": [
    "#This notebook answers tasks 2 and 3 from research question 3\n",
    "import pandas as pd\n"
   ]
  },
  {
   "cell_type": "code",
   "execution_count": 3,
   "metadata": {},
   "outputs": [],
   "source": [
    "df=pd.read_csv(\"/home/audry/Documents/datakind/acs5_variable_dict_2014_2019.csv\")"
   ]
  },
  {
   "cell_type": "code",
   "execution_count": 4,
   "metadata": {},
   "outputs": [],
   "source": [
    "var_2014 = df[df.acs_year==2014].variable_code #This is a straight comparison of variable codes \n",
    "var_2019 = df[df.acs_year==2019].variable_code"
   ]
  },
  {
   "cell_type": "code",
   "execution_count": 5,
   "metadata": {},
   "outputs": [
    {
     "data": {
      "text/plain": [
       "set()"
      ]
     },
     "execution_count": 5,
     "metadata": {},
     "output_type": "execute_result"
    }
   ],
   "source": [
    "set(var_2014)-set(var_2019) \n",
    "#This is the variables in 2014 minus the ones in 2019.  The empty set implies that all variables in 2014 are in 2019"
   ]
  },
  {
   "cell_type": "code",
   "execution_count": 6,
   "metadata": {},
   "outputs": [
    {
     "data": {
      "text/plain": [
       "{'DP02_0153E',\n",
       " 'DP02_0153EA',\n",
       " 'DP02_0153M',\n",
       " 'DP02_0153MA',\n",
       " 'DP02_0153PE',\n",
       " 'DP02_0153PEA',\n",
       " 'DP02_0153PM',\n",
       " 'DP02_0153PMA',\n",
       " 'DP04_0142E',\n",
       " 'DP04_0142EA',\n",
       " 'DP04_0142M',\n",
       " 'DP04_0142MA',\n",
       " 'DP04_0142PE',\n",
       " 'DP04_0142PEA',\n",
       " 'DP04_0142PM',\n",
       " 'DP04_0142PMA',\n",
       " 'DP04_0143E',\n",
       " 'DP04_0143EA',\n",
       " 'DP04_0143M',\n",
       " 'DP04_0143MA',\n",
       " 'DP04_0143PE',\n",
       " 'DP04_0143PEA',\n",
       " 'DP04_0143PM',\n",
       " 'DP04_0143PMA',\n",
       " 'DP05_0082E',\n",
       " 'DP05_0082EA',\n",
       " 'DP05_0082M',\n",
       " 'DP05_0082MA',\n",
       " 'DP05_0082PE',\n",
       " 'DP05_0082PEA',\n",
       " 'DP05_0082PM',\n",
       " 'DP05_0082PMA',\n",
       " 'DP05_0083E',\n",
       " 'DP05_0083EA',\n",
       " 'DP05_0083M',\n",
       " 'DP05_0083MA',\n",
       " 'DP05_0083PE',\n",
       " 'DP05_0083PEA',\n",
       " 'DP05_0083PM',\n",
       " 'DP05_0083PMA',\n",
       " 'DP05_0084E',\n",
       " 'DP05_0084EA',\n",
       " 'DP05_0084M',\n",
       " 'DP05_0084MA',\n",
       " 'DP05_0084PE',\n",
       " 'DP05_0084PEA',\n",
       " 'DP05_0084PM',\n",
       " 'DP05_0084PMA',\n",
       " 'DP05_0085E',\n",
       " 'DP05_0085EA',\n",
       " 'DP05_0085M',\n",
       " 'DP05_0085MA',\n",
       " 'DP05_0085PE',\n",
       " 'DP05_0085PEA',\n",
       " 'DP05_0085PM',\n",
       " 'DP05_0085PMA',\n",
       " 'DP05_0086E',\n",
       " 'DP05_0086EA',\n",
       " 'DP05_0086M',\n",
       " 'DP05_0086MA',\n",
       " 'DP05_0086PE',\n",
       " 'DP05_0086PEA',\n",
       " 'DP05_0086PM',\n",
       " 'DP05_0086PMA',\n",
       " 'DP05_0087E',\n",
       " 'DP05_0087EA',\n",
       " 'DP05_0087M',\n",
       " 'DP05_0087MA',\n",
       " 'DP05_0087PE',\n",
       " 'DP05_0087PEA',\n",
       " 'DP05_0087PM',\n",
       " 'DP05_0087PMA',\n",
       " 'DP05_0088E',\n",
       " 'DP05_0088EA',\n",
       " 'DP05_0088M',\n",
       " 'DP05_0088MA',\n",
       " 'DP05_0088PE',\n",
       " 'DP05_0088PEA',\n",
       " 'DP05_0088PM',\n",
       " 'DP05_0088PMA',\n",
       " 'DP05_0089E',\n",
       " 'DP05_0089EA',\n",
       " 'DP05_0089M',\n",
       " 'DP05_0089MA',\n",
       " 'DP05_0089PE',\n",
       " 'DP05_0089PEA',\n",
       " 'DP05_0089PM',\n",
       " 'DP05_0089PMA'}"
      ]
     },
     "execution_count": 6,
     "metadata": {},
     "output_type": "execute_result"
    }
   ],
   "source": [
    "set(var_2019)-set(var_2014) #gives the list 0f 2019 variable labels that arent in 2014."
   ]
  },
  {
   "cell_type": "code",
   "execution_count": null,
   "metadata": {},
   "outputs": [],
   "source": [
    "#The above is a list of labels that are in 2019 but not in 2014.  Its a much larger set.  "
   ]
  }
 ],
 "metadata": {
  "kernelspec": {
   "display_name": "Python 2",
   "language": "python",
   "name": "python2"
  },
  "language_info": {
   "codemirror_mode": {
    "name": "ipython",
    "version": 2
   },
   "file_extension": ".py",
   "mimetype": "text/x-python",
   "name": "python",
   "nbconvert_exporter": "python",
   "pygments_lexer": "ipython2",
   "version": "2.7.17"
  }
 },
 "nbformat": 4,
 "nbformat_minor": 2
}
