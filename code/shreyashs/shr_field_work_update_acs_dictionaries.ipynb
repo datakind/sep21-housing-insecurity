{
 "cells": [
  {
   "cell_type": "markdown",
   "id": "569f92aa",
   "metadata": {},
   "source": [
    "## Update the ACS data dictionaries"
   ]
  },
  {
   "cell_type": "code",
   "execution_count": 1,
   "id": "247680cf",
   "metadata": {},
   "outputs": [],
   "source": [
    "import json\n",
    "from urllib.request import urlopen, Request\n",
    "import pandas as pd\n",
    "\n",
    "request_14 = Request('https://api.census.gov/data/2014/acs/acs5/subject/variables.json')\n",
    "request_19 = Request('https://api.census.gov/data/2019/acs/acs5/subject/variables.json')\n",
    "response_14 = urlopen(request_14)\n",
    "response_19 = urlopen(request_19)\n",
    "elevations_14 = response_14.read()\n",
    "elevations_19 = response_19.read()\n",
    "dic_2_14 = json.loads(elevations_14)\n",
    "dic_2_19 = json.loads(elevations_19)"
   ]
  },
  {
   "cell_type": "code",
   "execution_count": 2,
   "id": "09d09375",
   "metadata": {},
   "outputs": [],
   "source": [
    "t1_14 = pd.json_normalize(dic_2_14['variables'], max_level = 0)\n",
    "dic_cols = ['variable_code', 'label', 'concept', 'predicateType', 'group', 'limit', 'attributes', 'predicateOnly']\n",
    "t3_14  = pd.DataFrame(columns = dic_cols)"
   ]
  },
  {
   "cell_type": "code",
   "execution_count": 3,
   "id": "7e26fc62",
   "metadata": {},
   "outputs": [],
   "source": [
    "for c in t1_14.columns:\n",
    "    t2_14 = pd.json_normalize(t1_14.loc[0, c])\n",
    "    t2_14['variable_code'] = c\n",
    "    t3_14 = t3_14.append(t2_14, ignore_index = True)"
   ]
  },
  {
   "cell_type": "code",
   "execution_count": 4,
   "id": "39e96004",
   "metadata": {},
   "outputs": [],
   "source": [
    "t1_19 = pd.json_normalize(dic_2_19['variables'], max_level = 0)\n",
    "t3_19 = pd.DataFrame(columns = dic_cols)"
   ]
  },
  {
   "cell_type": "code",
   "execution_count": 5,
   "id": "771b481f",
   "metadata": {},
   "outputs": [],
   "source": [
    "for c in t1_19.columns:\n",
    "    t2_19 = pd.json_normalize(t1_19.loc[0, c])\n",
    "    t2_19['variable_code'] = c\n",
    "    t3_19 = t3_19.append(t2_19, ignore_index = True)"
   ]
  },
  {
   "cell_type": "code",
   "execution_count": 6,
   "id": "64d0922c",
   "metadata": {},
   "outputs": [],
   "source": [
    "t3_14 = t3_14[dic_cols]\n",
    "t3_19 = t3_19[dic_cols]"
   ]
  },
  {
   "cell_type": "code",
   "execution_count": 7,
   "id": "1512b3d6",
   "metadata": {},
   "outputs": [
    {
     "data": {
      "text/html": [
       "<div>\n",
       "<style scoped>\n",
       "    .dataframe tbody tr th:only-of-type {\n",
       "        vertical-align: middle;\n",
       "    }\n",
       "\n",
       "    .dataframe tbody tr th {\n",
       "        vertical-align: top;\n",
       "    }\n",
       "\n",
       "    .dataframe thead th {\n",
       "        text-align: right;\n",
       "    }\n",
       "</style>\n",
       "<table border=\"1\" class=\"dataframe\">\n",
       "  <thead>\n",
       "    <tr style=\"text-align: right;\">\n",
       "      <th></th>\n",
       "      <th>variable_code</th>\n",
       "      <th>label</th>\n",
       "      <th>concept</th>\n",
       "      <th>predicateType</th>\n",
       "      <th>group</th>\n",
       "      <th>limit</th>\n",
       "      <th>attributes</th>\n",
       "      <th>predicateOnly</th>\n",
       "    </tr>\n",
       "  </thead>\n",
       "  <tbody>\n",
       "    <tr>\n",
       "      <th>0</th>\n",
       "      <td>for</td>\n",
       "      <td>Census API FIPS 'for' clause</td>\n",
       "      <td>Census API Geography Specification</td>\n",
       "      <td>fips-for</td>\n",
       "      <td>N/A</td>\n",
       "      <td>0</td>\n",
       "      <td>NaN</td>\n",
       "      <td>True</td>\n",
       "    </tr>\n",
       "    <tr>\n",
       "      <th>1</th>\n",
       "      <td>in</td>\n",
       "      <td>Census API FIPS 'in' clause</td>\n",
       "      <td>Census API Geography Specification</td>\n",
       "      <td>fips-in</td>\n",
       "      <td>N/A</td>\n",
       "      <td>0</td>\n",
       "      <td>NaN</td>\n",
       "      <td>True</td>\n",
       "    </tr>\n",
       "    <tr>\n",
       "      <th>2</th>\n",
       "      <td>ucgid</td>\n",
       "      <td>Uniform Census Geography Identifier clause</td>\n",
       "      <td>Census API Geography Specification</td>\n",
       "      <td>ucgid</td>\n",
       "      <td>N/A</td>\n",
       "      <td>0</td>\n",
       "      <td>NaN</td>\n",
       "      <td>True</td>\n",
       "    </tr>\n",
       "    <tr>\n",
       "      <th>3</th>\n",
       "      <td>S0804_C04_068E</td>\n",
       "      <td>Estimate!!Public transportation (excluding tax...</td>\n",
       "      <td>MEANS OF TRANSPORTATION TO WORK BY SELECTED CH...</td>\n",
       "      <td>float</td>\n",
       "      <td>S0804</td>\n",
       "      <td>0</td>\n",
       "      <td>S0804_C04_068EA,S0804_C04_068M,S0804_C04_068MA</td>\n",
       "      <td>NaN</td>\n",
       "    </tr>\n",
       "    <tr>\n",
       "      <th>4</th>\n",
       "      <td>S0503_C02_078E</td>\n",
       "      <td>Estimate!!Foreign born; Born in Europe!!Civili...</td>\n",
       "      <td>SELECTED CHARACTERISTICS OF THE FOREIGN-BORN P...</td>\n",
       "      <td>float</td>\n",
       "      <td>S0503</td>\n",
       "      <td>0</td>\n",
       "      <td>S0503_C02_078EA,S0503_C02_078M,S0503_C02_078MA</td>\n",
       "      <td>NaN</td>\n",
       "    </tr>\n",
       "  </tbody>\n",
       "</table>\n",
       "</div>"
      ],
      "text/plain": [
       "    variable_code                                              label  \\\n",
       "0             for                       Census API FIPS 'for' clause   \n",
       "1              in                        Census API FIPS 'in' clause   \n",
       "2           ucgid         Uniform Census Geography Identifier clause   \n",
       "3  S0804_C04_068E  Estimate!!Public transportation (excluding tax...   \n",
       "4  S0503_C02_078E  Estimate!!Foreign born; Born in Europe!!Civili...   \n",
       "\n",
       "                                             concept predicateType  group  \\\n",
       "0                 Census API Geography Specification      fips-for    N/A   \n",
       "1                 Census API Geography Specification       fips-in    N/A   \n",
       "2                 Census API Geography Specification         ucgid    N/A   \n",
       "3  MEANS OF TRANSPORTATION TO WORK BY SELECTED CH...         float  S0804   \n",
       "4  SELECTED CHARACTERISTICS OF THE FOREIGN-BORN P...         float  S0503   \n",
       "\n",
       "  limit                                      attributes predicateOnly  \n",
       "0     0                                             NaN          True  \n",
       "1     0                                             NaN          True  \n",
       "2     0                                             NaN          True  \n",
       "3     0  S0804_C04_068EA,S0804_C04_068M,S0804_C04_068MA           NaN  \n",
       "4     0  S0503_C02_078EA,S0503_C02_078M,S0503_C02_078MA           NaN  "
      ]
     },
     "execution_count": 7,
     "metadata": {},
     "output_type": "execute_result"
    }
   ],
   "source": [
    "t3_19.head(5)"
   ]
  },
  {
   "cell_type": "code",
   "execution_count": 8,
   "id": "a8b84634",
   "metadata": {},
   "outputs": [],
   "source": [
    "t3_14.to_csv('acs_dictionary_2014_updated.csv')\n",
    "t3_19.to_csv('acs_dictionary_2019_updated.csv')"
   ]
  }
 ],
 "metadata": {
  "kernelspec": {
   "display_name": "Python 3",
   "language": "python",
   "name": "python3"
  },
  "language_info": {
   "codemirror_mode": {
    "name": "ipython",
    "version": 3
   },
   "file_extension": ".py",
   "mimetype": "text/x-python",
   "name": "python",
   "nbconvert_exporter": "python",
   "pygments_lexer": "ipython3",
   "version": "3.8.8"
  }
 },
 "nbformat": 4,
 "nbformat_minor": 5
}
