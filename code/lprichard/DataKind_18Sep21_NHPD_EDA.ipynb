{
 "cells": [
  {
   "cell_type": "markdown",
   "id": "integrated-british",
   "metadata": {},
   "source": [
    "# [DataKind Data Dive](https://datadive.datakind.org/), Housing Insecurity Project\n",
    "\n",
    "Written by Laura Prichard, 18 September 2021\n",
    "\n",
    "Notebook contains:\n",
    "- Exploratory Data Analysis on the National Housing Preservation Database (NHPD)\n",
    "- Some data cleaning to homogenize column formats and variables\n",
    "- Exploring the following question:\n",
    "    - **Does Florida reserve more units for certain protected groups compared to other locations?**\n",
    "\n",
    "\n",
    "- **Conclusions:**\n",
    "    - Florida tends to similarly track trends for Southeastern US states (not including Florida) and the rest of the USA (not including US Territories or the Southeastern states) for protected groups for the largest demographic groups (Family, Elderly, Elderly Or Disabled, Disabled, Mixed).\n",
    "    - For the smaller group (bearing in mind small number statistics), things deviate slightly.\n",
    "        - Florida shows no properties allocated for Group Homes\n",
    "        - Florida allocates the highest number of houses for Homeless people relative to the rest of the USA\n",
    "        - Florida shows no specific housing allocation for Veterans on Low Income housing \n",
    "    - These effects could be due to differences in the classifications between states.\n",
    "\n",
    "\n",
    "[**Housing Insecurity Project**](https://docs.google.com/document/d/1ovSvMK39wO6NXqCrH0chQL7aRHR6Lr0vQIzXhmUEBFk/edit) | [Project GitHub](https://github.com/datakind/sep21-housing-insecurity) | [Tasks](https://docs.google.com/spreadsheets/d/1H4KZ31jKkhyBYXAlYm_Bw-RjTNkVoeskye0GwtbPuvM/edit?pli=1#gid=0) | [Data Folder](https://drive.google.com/drive/folders/19B0xzeRyozYJDxwXKlGIPFe3Qnc3nfux)\n",
    "\n",
    "*Research Question 5 (NHPD): Explore the National Housing Preservation Database, generating summary statistics and maps pertaining to low income housing in Florida. How does Florida compare to the rest of the Southeast, and how does it compare to the rest of the United States as a whole? (A few example questions to get you started: **Does Florida reserve more units for certain protected groups compared to other locations?** Are Florida units more likely to have received violations upon inspection? How does the proportion of units in each building reserved for low-income housing compare to other locations? Does fair market rent have any relation to the number of units available?)*\n",
    "\n",
    "*Task 2: Open ended EDA 1 - generate numerical summaries, distribution plots, correlation matrices, etc for the columns in this dataset. What is surprising? What is not surprising?*\n"
   ]
  },
  {
   "cell_type": "code",
   "execution_count": 1,
   "id": "circular-stylus",
   "metadata": {},
   "outputs": [],
   "source": [
    "import numpy as np \n",
    "import pandas as pd\n",
    "import seaborn as sns\n",
    "import matplotlib.pyplot as plt\n",
    "import plotly.express as px\n",
    "%matplotlib inline"
   ]
  },
  {
   "cell_type": "code",
   "execution_count": 2,
   "id": "collective-nightmare",
   "metadata": {},
   "outputs": [
    {
     "data": {
      "text/html": [
       "<div>\n",
       "<style scoped>\n",
       "    .dataframe tbody tr th:only-of-type {\n",
       "        vertical-align: middle;\n",
       "    }\n",
       "\n",
       "    .dataframe tbody tr th {\n",
       "        vertical-align: top;\n",
       "    }\n",
       "\n",
       "    .dataframe thead th {\n",
       "        text-align: right;\n",
       "    }\n",
       "</style>\n",
       "<table border=\"1\" class=\"dataframe\">\n",
       "  <thead>\n",
       "    <tr style=\"text-align: right;\">\n",
       "      <th></th>\n",
       "      <th>NHPDPropertyID</th>\n",
       "      <th>PropertyName</th>\n",
       "      <th>PropertyAddress</th>\n",
       "      <th>City</th>\n",
       "      <th>State</th>\n",
       "      <th>Zip</th>\n",
       "      <th>CBSACode</th>\n",
       "      <th>CBSAType</th>\n",
       "      <th>County</th>\n",
       "      <th>CountyCode</th>\n",
       "      <th>...</th>\n",
       "      <th>NumberActiveMR</th>\n",
       "      <th>NumberInconclusiveMR</th>\n",
       "      <th>NumberInactiveMR</th>\n",
       "      <th>Mr_1_Status</th>\n",
       "      <th>Mr_1_ProgramName</th>\n",
       "      <th>Mr_1_AssistedUnits</th>\n",
       "      <th>Mr_2_Status</th>\n",
       "      <th>Mr_2_ProgramName</th>\n",
       "      <th>Mr_2_AssistedUnits</th>\n",
       "      <th>OldNHPDPropertyID</th>\n",
       "    </tr>\n",
       "  </thead>\n",
       "  <tbody>\n",
       "    <tr>\n",
       "      <th>0</th>\n",
       "      <td>1000000</td>\n",
       "      <td>IVY ESTATES</td>\n",
       "      <td>6729 Zeigler Blvd</td>\n",
       "      <td>Mobile</td>\n",
       "      <td>AL</td>\n",
       "      <td>36608-4253</td>\n",
       "      <td>33660.0</td>\n",
       "      <td>Metropolitan Statistical Area</td>\n",
       "      <td>Mobile</td>\n",
       "      <td>1097.0</td>\n",
       "      <td>...</td>\n",
       "      <td>0</td>\n",
       "      <td>0</td>\n",
       "      <td>0</td>\n",
       "      <td>NaN</td>\n",
       "      <td>NaN</td>\n",
       "      <td>NaN</td>\n",
       "      <td>NaN</td>\n",
       "      <td>NaN</td>\n",
       "      <td>NaN</td>\n",
       "      <td>NaN</td>\n",
       "    </tr>\n",
       "    <tr>\n",
       "      <th>1</th>\n",
       "      <td>1000001</td>\n",
       "      <td>RENDU TERRACE WEST</td>\n",
       "      <td>7400 Old Shell Rd</td>\n",
       "      <td>Mobile</td>\n",
       "      <td>AL</td>\n",
       "      <td>36608-4549</td>\n",
       "      <td>33660.0</td>\n",
       "      <td>Metropolitan Statistical Area</td>\n",
       "      <td>Mobile</td>\n",
       "      <td>1097.0</td>\n",
       "      <td>...</td>\n",
       "      <td>0</td>\n",
       "      <td>0</td>\n",
       "      <td>0</td>\n",
       "      <td>NaN</td>\n",
       "      <td>NaN</td>\n",
       "      <td>NaN</td>\n",
       "      <td>NaN</td>\n",
       "      <td>NaN</td>\n",
       "      <td>NaN</td>\n",
       "      <td>NaN</td>\n",
       "    </tr>\n",
       "    <tr>\n",
       "      <th>2</th>\n",
       "      <td>1000002</td>\n",
       "      <td>TWB RESIDENTIAL OPPORTUNITIES II</td>\n",
       "      <td>93 Canal Rd</td>\n",
       "      <td>Port Jefferson Station</td>\n",
       "      <td>NY</td>\n",
       "      <td>11776-3024</td>\n",
       "      <td>35620.0</td>\n",
       "      <td>Metropolitan</td>\n",
       "      <td>Suffolk</td>\n",
       "      <td>36103.0</td>\n",
       "      <td>...</td>\n",
       "      <td>0</td>\n",
       "      <td>0</td>\n",
       "      <td>0</td>\n",
       "      <td>NaN</td>\n",
       "      <td>NaN</td>\n",
       "      <td>NaN</td>\n",
       "      <td>NaN</td>\n",
       "      <td>NaN</td>\n",
       "      <td>NaN</td>\n",
       "      <td>NaN</td>\n",
       "    </tr>\n",
       "    <tr>\n",
       "      <th>3</th>\n",
       "      <td>1000003</td>\n",
       "      <td>THE DAISY HOUSE</td>\n",
       "      <td>615 Clarissa St</td>\n",
       "      <td>Rochester</td>\n",
       "      <td>NY</td>\n",
       "      <td>14608-2485</td>\n",
       "      <td>40380.0</td>\n",
       "      <td>Metropolitan</td>\n",
       "      <td>Monroe</td>\n",
       "      <td>36055.0</td>\n",
       "      <td>...</td>\n",
       "      <td>0</td>\n",
       "      <td>0</td>\n",
       "      <td>0</td>\n",
       "      <td>NaN</td>\n",
       "      <td>NaN</td>\n",
       "      <td>NaN</td>\n",
       "      <td>NaN</td>\n",
       "      <td>NaN</td>\n",
       "      <td>NaN</td>\n",
       "      <td>NaN</td>\n",
       "    </tr>\n",
       "    <tr>\n",
       "      <th>4</th>\n",
       "      <td>1000004</td>\n",
       "      <td>MAIN AVENUE APARTMENTS</td>\n",
       "      <td>105 E Walnut St</td>\n",
       "      <td>Sylacauga</td>\n",
       "      <td>AL</td>\n",
       "      <td>35150-3012</td>\n",
       "      <td>45180.0</td>\n",
       "      <td>Micropolitan Statistical Area</td>\n",
       "      <td>Talladega</td>\n",
       "      <td>1121.0</td>\n",
       "      <td>...</td>\n",
       "      <td>0</td>\n",
       "      <td>0</td>\n",
       "      <td>0</td>\n",
       "      <td>NaN</td>\n",
       "      <td>NaN</td>\n",
       "      <td>NaN</td>\n",
       "      <td>NaN</td>\n",
       "      <td>NaN</td>\n",
       "      <td>NaN</td>\n",
       "      <td>NaN</td>\n",
       "    </tr>\n",
       "  </tbody>\n",
       "</table>\n",
       "<p>5 rows × 252 columns</p>\n",
       "</div>"
      ],
      "text/plain": [
       "   NHPDPropertyID                      PropertyName    PropertyAddress  \\\n",
       "0         1000000                       IVY ESTATES  6729 Zeigler Blvd   \n",
       "1         1000001                RENDU TERRACE WEST  7400 Old Shell Rd   \n",
       "2         1000002  TWB RESIDENTIAL OPPORTUNITIES II        93 Canal Rd   \n",
       "3         1000003                   THE DAISY HOUSE    615 Clarissa St   \n",
       "4         1000004            MAIN AVENUE APARTMENTS    105 E Walnut St   \n",
       "\n",
       "                     City State         Zip  CBSACode  \\\n",
       "0                  Mobile    AL  36608-4253   33660.0   \n",
       "1                  Mobile    AL  36608-4549   33660.0   \n",
       "2  Port Jefferson Station    NY  11776-3024   35620.0   \n",
       "3               Rochester    NY  14608-2485   40380.0   \n",
       "4               Sylacauga    AL  35150-3012   45180.0   \n",
       "\n",
       "                        CBSAType     County  CountyCode  ...  NumberActiveMR  \\\n",
       "0  Metropolitan Statistical Area     Mobile      1097.0  ...               0   \n",
       "1  Metropolitan Statistical Area     Mobile      1097.0  ...               0   \n",
       "2                   Metropolitan    Suffolk     36103.0  ...               0   \n",
       "3                   Metropolitan     Monroe     36055.0  ...               0   \n",
       "4  Micropolitan Statistical Area  Talladega      1121.0  ...               0   \n",
       "\n",
       "  NumberInconclusiveMR  NumberInactiveMR  Mr_1_Status Mr_1_ProgramName  \\\n",
       "0                    0                 0          NaN              NaN   \n",
       "1                    0                 0          NaN              NaN   \n",
       "2                    0                 0          NaN              NaN   \n",
       "3                    0                 0          NaN              NaN   \n",
       "4                    0                 0          NaN              NaN   \n",
       "\n",
       "   Mr_1_AssistedUnits  Mr_2_Status  Mr_2_ProgramName  Mr_2_AssistedUnits  \\\n",
       "0                 NaN          NaN               NaN                 NaN   \n",
       "1                 NaN          NaN               NaN                 NaN   \n",
       "2                 NaN          NaN               NaN                 NaN   \n",
       "3                 NaN          NaN               NaN                 NaN   \n",
       "4                 NaN          NaN               NaN                 NaN   \n",
       "\n",
       "  OldNHPDPropertyID  \n",
       "0               NaN  \n",
       "1               NaN  \n",
       "2               NaN  \n",
       "3               NaN  \n",
       "4               NaN  \n",
       "\n",
       "[5 rows x 252 columns]"
      ]
     },
     "metadata": {},
     "output_type": "display_data"
    },
    {
     "name": "stdout",
     "output_type": "stream",
     "text": [
      "<class 'pandas.core.frame.DataFrame'>\n",
      "RangeIndex: 82287 entries, 0 to 82286\n",
      "Columns: 252 entries, NHPDPropertyID to OldNHPDPropertyID\n",
      "dtypes: datetime64[ns](42), float64(73), int64(41), object(96)\n",
      "memory usage: 158.2+ MB\n"
     ]
    },
    {
     "data": {
      "text/plain": [
       "None"
      ]
     },
     "metadata": {},
     "output_type": "display_data"
    }
   ],
   "source": [
    "# Load in data\n",
    "df = pd.read_excel('./data/National_Housing_Preservation_Database/Active_and_Inconclusive_Properties.xlsx')\n",
    "display(df.head())\n",
    "display(df.info())"
   ]
  },
  {
   "cell_type": "code",
   "execution_count": 3,
   "id": "administrative-saudi",
   "metadata": {},
   "outputs": [
    {
     "data": {
      "text/html": [
       "<div>\n",
       "<style scoped>\n",
       "    .dataframe tbody tr th:only-of-type {\n",
       "        vertical-align: middle;\n",
       "    }\n",
       "\n",
       "    .dataframe tbody tr th {\n",
       "        vertical-align: top;\n",
       "    }\n",
       "\n",
       "    .dataframe thead th {\n",
       "        text-align: right;\n",
       "    }\n",
       "</style>\n",
       "<table border=\"1\" class=\"dataframe\">\n",
       "  <thead>\n",
       "    <tr style=\"text-align: right;\">\n",
       "      <th></th>\n",
       "      <th>NHPDPropertyID</th>\n",
       "      <th>CBSACode</th>\n",
       "      <th>CountyCode</th>\n",
       "      <th>CensusTract</th>\n",
       "      <th>Latitude</th>\n",
       "      <th>Longitude</th>\n",
       "      <th>ActiveSubsidies</th>\n",
       "      <th>TotalInconclusiveSubsidies</th>\n",
       "      <th>TotalInactiveSubsidies</th>\n",
       "      <th>TotalUnits</th>\n",
       "      <th>...</th>\n",
       "      <th>NumberInconclusivePBV</th>\n",
       "      <th>NumberInactivePBV</th>\n",
       "      <th>Pbv_1_AssistedUnits</th>\n",
       "      <th>Pbv_2_AssistedUnits</th>\n",
       "      <th>NumberActiveMR</th>\n",
       "      <th>NumberInconclusiveMR</th>\n",
       "      <th>NumberInactiveMR</th>\n",
       "      <th>Mr_1_AssistedUnits</th>\n",
       "      <th>Mr_2_AssistedUnits</th>\n",
       "      <th>OldNHPDPropertyID</th>\n",
       "    </tr>\n",
       "  </thead>\n",
       "  <tbody>\n",
       "    <tr>\n",
       "      <th>count</th>\n",
       "      <td>8.228700e+04</td>\n",
       "      <td>72919.000000</td>\n",
       "      <td>82229.000000</td>\n",
       "      <td>8.222400e+04</td>\n",
       "      <td>82287.000000</td>\n",
       "      <td>82287.000000</td>\n",
       "      <td>82287.000000</td>\n",
       "      <td>82287.000000</td>\n",
       "      <td>82287.000000</td>\n",
       "      <td>82287.000000</td>\n",
       "      <td>...</td>\n",
       "      <td>82287.0</td>\n",
       "      <td>82287.0</td>\n",
       "      <td>2784.000000</td>\n",
       "      <td>173.000000</td>\n",
       "      <td>82287.000000</td>\n",
       "      <td>82287.0</td>\n",
       "      <td>82287.0</td>\n",
       "      <td>500.000000</td>\n",
       "      <td>9.000000</td>\n",
       "      <td>58370.000000</td>\n",
       "    </tr>\n",
       "    <tr>\n",
       "      <th>mean</th>\n",
       "      <td>1.074656e+06</td>\n",
       "      <td>30447.401281</td>\n",
       "      <td>28953.566759</td>\n",
       "      <td>2.895217e+10</td>\n",
       "      <td>38.483402</td>\n",
       "      <td>-90.228069</td>\n",
       "      <td>1.386355</td>\n",
       "      <td>0.077485</td>\n",
       "      <td>0.369098</td>\n",
       "      <td>66.711145</td>\n",
       "      <td>...</td>\n",
       "      <td>0.0</td>\n",
       "      <td>0.0</td>\n",
       "      <td>43.463003</td>\n",
       "      <td>35.011561</td>\n",
       "      <td>0.006234</td>\n",
       "      <td>0.0</td>\n",
       "      <td>0.0</td>\n",
       "      <td>34.208000</td>\n",
       "      <td>26.333333</td>\n",
       "      <td>52459.141083</td>\n",
       "    </tr>\n",
       "    <tr>\n",
       "      <th>std</th>\n",
       "      <td>4.021620e+04</td>\n",
       "      <td>11096.935896</td>\n",
       "      <td>15256.967835</td>\n",
       "      <td>1.525466e+10</td>\n",
       "      <td>4.975471</td>\n",
       "      <td>15.636717</td>\n",
       "      <td>0.895868</td>\n",
       "      <td>0.287468</td>\n",
       "      <td>0.734841</td>\n",
       "      <td>96.200003</td>\n",
       "      <td>...</td>\n",
       "      <td>0.0</td>\n",
       "      <td>0.0</td>\n",
       "      <td>41.703263</td>\n",
       "      <td>29.062280</td>\n",
       "      <td>0.081741</td>\n",
       "      <td>0.0</td>\n",
       "      <td>0.0</td>\n",
       "      <td>25.840049</td>\n",
       "      <td>19.685020</td>\n",
       "      <td>33880.224028</td>\n",
       "    </tr>\n",
       "    <tr>\n",
       "      <th>min</th>\n",
       "      <td>1.000000e+06</td>\n",
       "      <td>10100.000000</td>\n",
       "      <td>1001.000000</td>\n",
       "      <td>1.001020e+09</td>\n",
       "      <td>13.495030</td>\n",
       "      <td>-166.722478</td>\n",
       "      <td>0.000000</td>\n",
       "      <td>0.000000</td>\n",
       "      <td>0.000000</td>\n",
       "      <td>1.000000</td>\n",
       "      <td>...</td>\n",
       "      <td>0.0</td>\n",
       "      <td>0.0</td>\n",
       "      <td>11.000000</td>\n",
       "      <td>11.000000</td>\n",
       "      <td>0.000000</td>\n",
       "      <td>0.0</td>\n",
       "      <td>0.0</td>\n",
       "      <td>11.000000</td>\n",
       "      <td>12.000000</td>\n",
       "      <td>4.000000</td>\n",
       "    </tr>\n",
       "    <tr>\n",
       "      <th>25%</th>\n",
       "      <td>1.039279e+06</td>\n",
       "      <td>19740.000000</td>\n",
       "      <td>17053.000000</td>\n",
       "      <td>1.705396e+10</td>\n",
       "      <td>34.983064</td>\n",
       "      <td>-96.380764</td>\n",
       "      <td>1.000000</td>\n",
       "      <td>0.000000</td>\n",
       "      <td>0.000000</td>\n",
       "      <td>18.000000</td>\n",
       "      <td>...</td>\n",
       "      <td>0.0</td>\n",
       "      <td>0.0</td>\n",
       "      <td>17.000000</td>\n",
       "      <td>14.000000</td>\n",
       "      <td>0.000000</td>\n",
       "      <td>0.0</td>\n",
       "      <td>0.0</td>\n",
       "      <td>16.000000</td>\n",
       "      <td>13.000000</td>\n",
       "      <td>24226.250000</td>\n",
       "    </tr>\n",
       "    <tr>\n",
       "      <th>50%</th>\n",
       "      <td>1.073499e+06</td>\n",
       "      <td>32580.000000</td>\n",
       "      <td>29095.000000</td>\n",
       "      <td>2.909501e+10</td>\n",
       "      <td>39.312214</td>\n",
       "      <td>-86.490946</td>\n",
       "      <td>1.000000</td>\n",
       "      <td>0.000000</td>\n",
       "      <td>0.000000</td>\n",
       "      <td>40.000000</td>\n",
       "      <td>...</td>\n",
       "      <td>0.0</td>\n",
       "      <td>0.0</td>\n",
       "      <td>29.000000</td>\n",
       "      <td>24.000000</td>\n",
       "      <td>0.000000</td>\n",
       "      <td>0.0</td>\n",
       "      <td>0.0</td>\n",
       "      <td>25.000000</td>\n",
       "      <td>19.000000</td>\n",
       "      <td>49850.500000</td>\n",
       "    </tr>\n",
       "    <tr>\n",
       "      <th>75%</th>\n",
       "      <td>1.108144e+06</td>\n",
       "      <td>39300.000000</td>\n",
       "      <td>41015.000000</td>\n",
       "      <td>4.101395e+10</td>\n",
       "      <td>41.799999</td>\n",
       "      <td>-79.052250</td>\n",
       "      <td>2.000000</td>\n",
       "      <td>0.000000</td>\n",
       "      <td>1.000000</td>\n",
       "      <td>82.000000</td>\n",
       "      <td>...</td>\n",
       "      <td>0.0</td>\n",
       "      <td>0.0</td>\n",
       "      <td>53.000000</td>\n",
       "      <td>46.000000</td>\n",
       "      <td>0.000000</td>\n",
       "      <td>0.0</td>\n",
       "      <td>0.0</td>\n",
       "      <td>43.000000</td>\n",
       "      <td>22.000000</td>\n",
       "      <td>78774.750000</td>\n",
       "    </tr>\n",
       "    <tr>\n",
       "      <th>max</th>\n",
       "      <td>1.163400e+06</td>\n",
       "      <td>99999.000000</td>\n",
       "      <td>69120.000000</td>\n",
       "      <td>5.604595e+10</td>\n",
       "      <td>65.160556</td>\n",
       "      <td>145.751129</td>\n",
       "      <td>106.000000</td>\n",
       "      <td>13.000000</td>\n",
       "      <td>24.000000</td>\n",
       "      <td>5881.000000</td>\n",
       "      <td>...</td>\n",
       "      <td>0.0</td>\n",
       "      <td>0.0</td>\n",
       "      <td>449.000000</td>\n",
       "      <td>191.000000</td>\n",
       "      <td>5.000000</td>\n",
       "      <td>0.0</td>\n",
       "      <td>0.0</td>\n",
       "      <td>187.000000</td>\n",
       "      <td>62.000000</td>\n",
       "      <td>127185.000000</td>\n",
       "    </tr>\n",
       "  </tbody>\n",
       "</table>\n",
       "<p>8 rows × 114 columns</p>\n",
       "</div>"
      ],
      "text/plain": [
       "       NHPDPropertyID      CBSACode    CountyCode   CensusTract      Latitude  \\\n",
       "count    8.228700e+04  72919.000000  82229.000000  8.222400e+04  82287.000000   \n",
       "mean     1.074656e+06  30447.401281  28953.566759  2.895217e+10     38.483402   \n",
       "std      4.021620e+04  11096.935896  15256.967835  1.525466e+10      4.975471   \n",
       "min      1.000000e+06  10100.000000   1001.000000  1.001020e+09     13.495030   \n",
       "25%      1.039279e+06  19740.000000  17053.000000  1.705396e+10     34.983064   \n",
       "50%      1.073499e+06  32580.000000  29095.000000  2.909501e+10     39.312214   \n",
       "75%      1.108144e+06  39300.000000  41015.000000  4.101395e+10     41.799999   \n",
       "max      1.163400e+06  99999.000000  69120.000000  5.604595e+10     65.160556   \n",
       "\n",
       "          Longitude  ActiveSubsidies  TotalInconclusiveSubsidies  \\\n",
       "count  82287.000000     82287.000000                82287.000000   \n",
       "mean     -90.228069         1.386355                    0.077485   \n",
       "std       15.636717         0.895868                    0.287468   \n",
       "min     -166.722478         0.000000                    0.000000   \n",
       "25%      -96.380764         1.000000                    0.000000   \n",
       "50%      -86.490946         1.000000                    0.000000   \n",
       "75%      -79.052250         2.000000                    0.000000   \n",
       "max      145.751129       106.000000                   13.000000   \n",
       "\n",
       "       TotalInactiveSubsidies    TotalUnits  ...  NumberInconclusivePBV  \\\n",
       "count            82287.000000  82287.000000  ...                82287.0   \n",
       "mean                 0.369098     66.711145  ...                    0.0   \n",
       "std                  0.734841     96.200003  ...                    0.0   \n",
       "min                  0.000000      1.000000  ...                    0.0   \n",
       "25%                  0.000000     18.000000  ...                    0.0   \n",
       "50%                  0.000000     40.000000  ...                    0.0   \n",
       "75%                  1.000000     82.000000  ...                    0.0   \n",
       "max                 24.000000   5881.000000  ...                    0.0   \n",
       "\n",
       "       NumberInactivePBV  Pbv_1_AssistedUnits  Pbv_2_AssistedUnits  \\\n",
       "count            82287.0          2784.000000           173.000000   \n",
       "mean                 0.0            43.463003            35.011561   \n",
       "std                  0.0            41.703263            29.062280   \n",
       "min                  0.0            11.000000            11.000000   \n",
       "25%                  0.0            17.000000            14.000000   \n",
       "50%                  0.0            29.000000            24.000000   \n",
       "75%                  0.0            53.000000            46.000000   \n",
       "max                  0.0           449.000000           191.000000   \n",
       "\n",
       "       NumberActiveMR  NumberInconclusiveMR  NumberInactiveMR  \\\n",
       "count    82287.000000               82287.0           82287.0   \n",
       "mean         0.006234                   0.0               0.0   \n",
       "std          0.081741                   0.0               0.0   \n",
       "min          0.000000                   0.0               0.0   \n",
       "25%          0.000000                   0.0               0.0   \n",
       "50%          0.000000                   0.0               0.0   \n",
       "75%          0.000000                   0.0               0.0   \n",
       "max          5.000000                   0.0               0.0   \n",
       "\n",
       "       Mr_1_AssistedUnits  Mr_2_AssistedUnits  OldNHPDPropertyID  \n",
       "count          500.000000            9.000000       58370.000000  \n",
       "mean            34.208000           26.333333       52459.141083  \n",
       "std             25.840049           19.685020       33880.224028  \n",
       "min             11.000000           12.000000           4.000000  \n",
       "25%             16.000000           13.000000       24226.250000  \n",
       "50%             25.000000           19.000000       49850.500000  \n",
       "75%             43.000000           22.000000       78774.750000  \n",
       "max            187.000000           62.000000      127185.000000  \n",
       "\n",
       "[8 rows x 114 columns]"
      ]
     },
     "metadata": {},
     "output_type": "display_data"
    }
   ],
   "source": [
    "display(df.describe())"
   ]
  },
  {
   "cell_type": "code",
   "execution_count": 11,
   "id": "waiting-inflation",
   "metadata": {
    "scrolled": true
   },
   "outputs": [
    {
     "name": "stderr",
     "output_type": "stream",
     "text": [
      "/Users/lprichard/miniconda3/envs/a37_ml/lib/python3.7/site-packages/ipykernel_launcher.py:8: SettingWithCopyWarning: \n",
      "A value is trying to be set on a copy of a slice from a DataFrame.\n",
      "Try using .loc[row_indexer,col_indexer] = value instead\n",
      "\n",
      "See the caveats in the documentation: https://pandas.pydata.org/pandas-docs/stable/user_guide/indexing.html#returning-a-view-versus-a-copy\n",
      "  \n"
     ]
    },
    {
     "data": {
      "text/html": [
       "<div>\n",
       "<style scoped>\n",
       "    .dataframe tbody tr th:only-of-type {\n",
       "        vertical-align: middle;\n",
       "    }\n",
       "\n",
       "    .dataframe tbody tr th {\n",
       "        vertical-align: top;\n",
       "    }\n",
       "\n",
       "    .dataframe thead th {\n",
       "        text-align: right;\n",
       "    }\n",
       "</style>\n",
       "<table border=\"1\" class=\"dataframe\">\n",
       "  <thead>\n",
       "    <tr style=\"text-align: right;\">\n",
       "      <th></th>\n",
       "      <th>State</th>\n",
       "      <th>number</th>\n",
       "    </tr>\n",
       "  </thead>\n",
       "  <tbody>\n",
       "    <tr>\n",
       "      <th>4</th>\n",
       "      <td>CA</td>\n",
       "      <td>6492</td>\n",
       "    </tr>\n",
       "    <tr>\n",
       "      <th>35</th>\n",
       "      <td>NY</td>\n",
       "      <td>5658</td>\n",
       "    </tr>\n",
       "    <tr>\n",
       "      <th>44</th>\n",
       "      <td>TX</td>\n",
       "      <td>4047</td>\n",
       "    </tr>\n",
       "    <tr>\n",
       "      <th>36</th>\n",
       "      <td>OH</td>\n",
       "      <td>3664</td>\n",
       "    </tr>\n",
       "    <tr>\n",
       "      <th>28</th>\n",
       "      <td>NC</td>\n",
       "      <td>3037</td>\n",
       "    </tr>\n",
       "    <tr>\n",
       "      <th>9</th>\n",
       "      <td>FL</td>\n",
       "      <td>2987</td>\n",
       "    </tr>\n",
       "    <tr>\n",
       "      <th>39</th>\n",
       "      <td>PA</td>\n",
       "      <td>2890</td>\n",
       "    </tr>\n",
       "    <tr>\n",
       "      <th>14</th>\n",
       "      <td>IL</td>\n",
       "      <td>2763</td>\n",
       "    </tr>\n",
       "    <tr>\n",
       "      <th>24</th>\n",
       "      <td>MO</td>\n",
       "      <td>2569</td>\n",
       "    </tr>\n",
       "    <tr>\n",
       "      <th>19</th>\n",
       "      <td>MA</td>\n",
       "      <td>2556</td>\n",
       "    </tr>\n",
       "    <tr>\n",
       "      <th>22</th>\n",
       "      <td>MI</td>\n",
       "      <td>2358</td>\n",
       "    </tr>\n",
       "    <tr>\n",
       "      <th>10</th>\n",
       "      <td>GA</td>\n",
       "      <td>2197</td>\n",
       "    </tr>\n",
       "    <tr>\n",
       "      <th>49</th>\n",
       "      <td>WI</td>\n",
       "      <td>2193</td>\n",
       "    </tr>\n",
       "    <tr>\n",
       "      <th>15</th>\n",
       "      <td>IN</td>\n",
       "      <td>2177</td>\n",
       "    </tr>\n",
       "    <tr>\n",
       "      <th>32</th>\n",
       "      <td>NJ</td>\n",
       "      <td>2091</td>\n",
       "    </tr>\n",
       "    <tr>\n",
       "      <th>23</th>\n",
       "      <td>MN</td>\n",
       "      <td>2046</td>\n",
       "    </tr>\n",
       "    <tr>\n",
       "      <th>43</th>\n",
       "      <td>TN</td>\n",
       "      <td>1955</td>\n",
       "    </tr>\n",
       "    <tr>\n",
       "      <th>48</th>\n",
       "      <td>WA</td>\n",
       "      <td>1952</td>\n",
       "    </tr>\n",
       "    <tr>\n",
       "      <th>46</th>\n",
       "      <td>VA</td>\n",
       "      <td>1748</td>\n",
       "    </tr>\n",
       "    <tr>\n",
       "      <th>17</th>\n",
       "      <td>KY</td>\n",
       "      <td>1736</td>\n",
       "    </tr>\n",
       "    <tr>\n",
       "      <th>1</th>\n",
       "      <td>AL</td>\n",
       "      <td>1596</td>\n",
       "    </tr>\n",
       "    <tr>\n",
       "      <th>41</th>\n",
       "      <td>SC</td>\n",
       "      <td>1583</td>\n",
       "    </tr>\n",
       "    <tr>\n",
       "      <th>18</th>\n",
       "      <td>LA</td>\n",
       "      <td>1561</td>\n",
       "    </tr>\n",
       "    <tr>\n",
       "      <th>20</th>\n",
       "      <td>MD</td>\n",
       "      <td>1289</td>\n",
       "    </tr>\n",
       "    <tr>\n",
       "      <th>12</th>\n",
       "      <td>IA</td>\n",
       "      <td>1259</td>\n",
       "    </tr>\n",
       "    <tr>\n",
       "      <th>26</th>\n",
       "      <td>MS</td>\n",
       "      <td>1241</td>\n",
       "    </tr>\n",
       "    <tr>\n",
       "      <th>5</th>\n",
       "      <td>CO</td>\n",
       "      <td>1230</td>\n",
       "    </tr>\n",
       "    <tr>\n",
       "      <th>37</th>\n",
       "      <td>OK</td>\n",
       "      <td>1204</td>\n",
       "    </tr>\n",
       "    <tr>\n",
       "      <th>6</th>\n",
       "      <td>CT</td>\n",
       "      <td>1198</td>\n",
       "    </tr>\n",
       "    <tr>\n",
       "      <th>2</th>\n",
       "      <td>AR</td>\n",
       "      <td>1196</td>\n",
       "    </tr>\n",
       "    <tr>\n",
       "      <th>38</th>\n",
       "      <td>OR</td>\n",
       "      <td>1151</td>\n",
       "    </tr>\n",
       "    <tr>\n",
       "      <th>16</th>\n",
       "      <td>KS</td>\n",
       "      <td>1106</td>\n",
       "    </tr>\n",
       "    <tr>\n",
       "      <th>30</th>\n",
       "      <td>NE</td>\n",
       "      <td>958</td>\n",
       "    </tr>\n",
       "    <tr>\n",
       "      <th>3</th>\n",
       "      <td>AZ</td>\n",
       "      <td>808</td>\n",
       "    </tr>\n",
       "    <tr>\n",
       "      <th>21</th>\n",
       "      <td>ME</td>\n",
       "      <td>805</td>\n",
       "    </tr>\n",
       "    <tr>\n",
       "      <th>51</th>\n",
       "      <td>WV</td>\n",
       "      <td>719</td>\n",
       "    </tr>\n",
       "    <tr>\n",
       "      <th>45</th>\n",
       "      <td>UT</td>\n",
       "      <td>613</td>\n",
       "    </tr>\n",
       "    <tr>\n",
       "      <th>42</th>\n",
       "      <td>SD</td>\n",
       "      <td>605</td>\n",
       "    </tr>\n",
       "    <tr>\n",
       "      <th>31</th>\n",
       "      <td>NH</td>\n",
       "      <td>528</td>\n",
       "    </tr>\n",
       "    <tr>\n",
       "      <th>40</th>\n",
       "      <td>RI</td>\n",
       "      <td>524</td>\n",
       "    </tr>\n",
       "    <tr>\n",
       "      <th>13</th>\n",
       "      <td>ID</td>\n",
       "      <td>519</td>\n",
       "    </tr>\n",
       "    <tr>\n",
       "      <th>47</th>\n",
       "      <td>VT</td>\n",
       "      <td>503</td>\n",
       "    </tr>\n",
       "    <tr>\n",
       "      <th>33</th>\n",
       "      <td>NM</td>\n",
       "      <td>464</td>\n",
       "    </tr>\n",
       "    <tr>\n",
       "      <th>27</th>\n",
       "      <td>MT</td>\n",
       "      <td>438</td>\n",
       "    </tr>\n",
       "    <tr>\n",
       "      <th>29</th>\n",
       "      <td>ND</td>\n",
       "      <td>411</td>\n",
       "    </tr>\n",
       "    <tr>\n",
       "      <th>34</th>\n",
       "      <td>NV</td>\n",
       "      <td>383</td>\n",
       "    </tr>\n",
       "    <tr>\n",
       "      <th>7</th>\n",
       "      <td>DC</td>\n",
       "      <td>340</td>\n",
       "    </tr>\n",
       "    <tr>\n",
       "      <th>8</th>\n",
       "      <td>DE</td>\n",
       "      <td>255</td>\n",
       "    </tr>\n",
       "    <tr>\n",
       "      <th>52</th>\n",
       "      <td>WY</td>\n",
       "      <td>233</td>\n",
       "    </tr>\n",
       "    <tr>\n",
       "      <th>11</th>\n",
       "      <td>HI</td>\n",
       "      <td>229</td>\n",
       "    </tr>\n",
       "    <tr>\n",
       "      <th>0</th>\n",
       "      <td>AK</td>\n",
       "      <td>212</td>\n",
       "    </tr>\n",
       "    <tr>\n",
       "      <th>25</th>\n",
       "      <td>MP</td>\n",
       "      <td>9</td>\n",
       "    </tr>\n",
       "    <tr>\n",
       "      <th>50</th>\n",
       "      <td>WP</td>\n",
       "      <td>1</td>\n",
       "    </tr>\n",
       "  </tbody>\n",
       "</table>\n",
       "</div>"
      ],
      "text/plain": [
       "   State  number\n",
       "4     CA    6492\n",
       "35    NY    5658\n",
       "44    TX    4047\n",
       "36    OH    3664\n",
       "28    NC    3037\n",
       "9     FL    2987\n",
       "39    PA    2890\n",
       "14    IL    2763\n",
       "24    MO    2569\n",
       "19    MA    2556\n",
       "22    MI    2358\n",
       "10    GA    2197\n",
       "49    WI    2193\n",
       "15    IN    2177\n",
       "32    NJ    2091\n",
       "23    MN    2046\n",
       "43    TN    1955\n",
       "48    WA    1952\n",
       "46    VA    1748\n",
       "17    KY    1736\n",
       "1     AL    1596\n",
       "41    SC    1583\n",
       "18    LA    1561\n",
       "20    MD    1289\n",
       "12    IA    1259\n",
       "26    MS    1241\n",
       "5     CO    1230\n",
       "37    OK    1204\n",
       "6     CT    1198\n",
       "2     AR    1196\n",
       "38    OR    1151\n",
       "16    KS    1106\n",
       "30    NE     958\n",
       "3     AZ     808\n",
       "21    ME     805\n",
       "51    WV     719\n",
       "45    UT     613\n",
       "42    SD     605\n",
       "31    NH     528\n",
       "40    RI     524\n",
       "13    ID     519\n",
       "47    VT     503\n",
       "33    NM     464\n",
       "27    MT     438\n",
       "29    ND     411\n",
       "34    NV     383\n",
       "7     DC     340\n",
       "8     DE     255\n",
       "52    WY     233\n",
       "11    HI     229\n",
       "0     AK     212\n",
       "25    MP       9\n",
       "50    WP       1"
      ]
     },
     "execution_count": 11,
     "metadata": {},
     "output_type": "execute_result"
    }
   ],
   "source": [
    "# Investigate state names\n",
    "states=df['State'].unique()\n",
    "states.sort()\n",
    "print(len(states))\n",
    "\n",
    "# Get number of entries states per state and sort\n",
    "d1=df[['State']]\n",
    "d1['number']=1\n",
    "d1=d1.groupby('State', as_index=False).sum()\n",
    "d1=d1.sort_values('number', ascending=False)\n",
    "d1"
   ]
  },
  {
   "cell_type": "code",
   "execution_count": 12,
   "id": "wanted-custody",
   "metadata": {},
   "outputs": [
    {
     "data": {
      "text/html": [
       "<div>\n",
       "<style scoped>\n",
       "    .dataframe tbody tr th:only-of-type {\n",
       "        vertical-align: middle;\n",
       "    }\n",
       "\n",
       "    .dataframe tbody tr th {\n",
       "        vertical-align: top;\n",
       "    }\n",
       "\n",
       "    .dataframe thead th {\n",
       "        text-align: right;\n",
       "    }\n",
       "</style>\n",
       "<table border=\"1\" class=\"dataframe\">\n",
       "  <thead>\n",
       "    <tr style=\"text-align: right;\">\n",
       "      <th></th>\n",
       "      <th>NHPDPropertyID</th>\n",
       "      <th>PropertyName</th>\n",
       "      <th>PropertyAddress</th>\n",
       "      <th>City</th>\n",
       "      <th>State</th>\n",
       "      <th>Zip</th>\n",
       "      <th>CBSACode</th>\n",
       "      <th>CBSAType</th>\n",
       "      <th>County</th>\n",
       "      <th>CountyCode</th>\n",
       "      <th>...</th>\n",
       "      <th>NumberActiveMR</th>\n",
       "      <th>NumberInconclusiveMR</th>\n",
       "      <th>NumberInactiveMR</th>\n",
       "      <th>Mr_1_Status</th>\n",
       "      <th>Mr_1_ProgramName</th>\n",
       "      <th>Mr_1_AssistedUnits</th>\n",
       "      <th>Mr_2_Status</th>\n",
       "      <th>Mr_2_ProgramName</th>\n",
       "      <th>Mr_2_AssistedUnits</th>\n",
       "      <th>OldNHPDPropertyID</th>\n",
       "    </tr>\n",
       "  </thead>\n",
       "  <tbody>\n",
       "    <tr>\n",
       "      <th>70965</th>\n",
       "      <td>1118506</td>\n",
       "      <td>GHURA ELDERLY HOUSING</td>\n",
       "      <td>145 TRANKILUDAT ST</td>\n",
       "      <td>TAMUNING</td>\n",
       "      <td>WP</td>\n",
       "      <td>96913</td>\n",
       "      <td>NaN</td>\n",
       "      <td>NaN</td>\n",
       "      <td>NaN</td>\n",
       "      <td>NaN</td>\n",
       "      <td>...</td>\n",
       "      <td>0</td>\n",
       "      <td>0</td>\n",
       "      <td>0</td>\n",
       "      <td>NaN</td>\n",
       "      <td>NaN</td>\n",
       "      <td>NaN</td>\n",
       "      <td>NaN</td>\n",
       "      <td>NaN</td>\n",
       "      <td>NaN</td>\n",
       "      <td>NaN</td>\n",
       "    </tr>\n",
       "  </tbody>\n",
       "</table>\n",
       "<p>1 rows × 252 columns</p>\n",
       "</div>"
      ],
      "text/plain": [
       "       NHPDPropertyID           PropertyName     PropertyAddress      City  \\\n",
       "70965         1118506  GHURA ELDERLY HOUSING  145 TRANKILUDAT ST  TAMUNING   \n",
       "\n",
       "      State    Zip  CBSACode CBSAType County  CountyCode  ...  NumberActiveMR  \\\n",
       "70965    WP  96913       NaN      NaN    NaN         NaN  ...               0   \n",
       "\n",
       "      NumberInconclusiveMR  NumberInactiveMR  Mr_1_Status Mr_1_ProgramName  \\\n",
       "70965                    0                 0          NaN              NaN   \n",
       "\n",
       "       Mr_1_AssistedUnits  Mr_2_Status  Mr_2_ProgramName  Mr_2_AssistedUnits  \\\n",
       "70965                 NaN          NaN               NaN                 NaN   \n",
       "\n",
       "      OldNHPDPropertyID  \n",
       "70965               NaN  \n",
       "\n",
       "[1 rows x 252 columns]"
      ]
     },
     "metadata": {},
     "output_type": "display_data"
    },
    {
     "data": {
      "text/html": [
       "<div>\n",
       "<style scoped>\n",
       "    .dataframe tbody tr th:only-of-type {\n",
       "        vertical-align: middle;\n",
       "    }\n",
       "\n",
       "    .dataframe tbody tr th {\n",
       "        vertical-align: top;\n",
       "    }\n",
       "\n",
       "    .dataframe thead th {\n",
       "        text-align: right;\n",
       "    }\n",
       "</style>\n",
       "<table border=\"1\" class=\"dataframe\">\n",
       "  <thead>\n",
       "    <tr style=\"text-align: right;\">\n",
       "      <th></th>\n",
       "      <th>NHPDPropertyID</th>\n",
       "      <th>PropertyName</th>\n",
       "      <th>PropertyAddress</th>\n",
       "      <th>City</th>\n",
       "      <th>State</th>\n",
       "      <th>Zip</th>\n",
       "      <th>CBSACode</th>\n",
       "      <th>CBSAType</th>\n",
       "      <th>County</th>\n",
       "      <th>CountyCode</th>\n",
       "      <th>...</th>\n",
       "      <th>NumberActiveMR</th>\n",
       "      <th>NumberInconclusiveMR</th>\n",
       "      <th>NumberInactiveMR</th>\n",
       "      <th>Mr_1_Status</th>\n",
       "      <th>Mr_1_ProgramName</th>\n",
       "      <th>Mr_1_AssistedUnits</th>\n",
       "      <th>Mr_2_Status</th>\n",
       "      <th>Mr_2_ProgramName</th>\n",
       "      <th>Mr_2_AssistedUnits</th>\n",
       "      <th>OldNHPDPropertyID</th>\n",
       "    </tr>\n",
       "  </thead>\n",
       "  <tbody>\n",
       "    <tr>\n",
       "      <th>6943</th>\n",
       "      <td>1019578</td>\n",
       "      <td>ROTA</td>\n",
       "      <td>ROTA SECTION 8 SUB</td>\n",
       "      <td>ROTA</td>\n",
       "      <td>MP</td>\n",
       "      <td>96951</td>\n",
       "      <td>NaN</td>\n",
       "      <td>NaN</td>\n",
       "      <td>NaN</td>\n",
       "      <td>69100.0</td>\n",
       "      <td>...</td>\n",
       "      <td>0</td>\n",
       "      <td>0</td>\n",
       "      <td>0</td>\n",
       "      <td>NaN</td>\n",
       "      <td>NaN</td>\n",
       "      <td>NaN</td>\n",
       "      <td>NaN</td>\n",
       "      <td>NaN</td>\n",
       "      <td>NaN</td>\n",
       "      <td>NaN</td>\n",
       "    </tr>\n",
       "    <tr>\n",
       "      <th>6945</th>\n",
       "      <td>1019580</td>\n",
       "      <td>KOBLERVILLE</td>\n",
       "      <td>KOBLERVILLE S8 SUBDIVISION</td>\n",
       "      <td>SAIPAN</td>\n",
       "      <td>MP</td>\n",
       "      <td>96950</td>\n",
       "      <td>NaN</td>\n",
       "      <td>NaN</td>\n",
       "      <td>NaN</td>\n",
       "      <td>69110.0</td>\n",
       "      <td>...</td>\n",
       "      <td>0</td>\n",
       "      <td>0</td>\n",
       "      <td>0</td>\n",
       "      <td>NaN</td>\n",
       "      <td>NaN</td>\n",
       "      <td>NaN</td>\n",
       "      <td>NaN</td>\n",
       "      <td>NaN</td>\n",
       "      <td>NaN</td>\n",
       "      <td>NaN</td>\n",
       "    </tr>\n",
       "    <tr>\n",
       "      <th>6947</th>\n",
       "      <td>1019582</td>\n",
       "      <td>MIHAVILLE</td>\n",
       "      <td>MIHAVILLE S8 SUBDIVISION</td>\n",
       "      <td>SAIPAN</td>\n",
       "      <td>MP</td>\n",
       "      <td>96950</td>\n",
       "      <td>NaN</td>\n",
       "      <td>NaN</td>\n",
       "      <td>NaN</td>\n",
       "      <td>69110.0</td>\n",
       "      <td>...</td>\n",
       "      <td>0</td>\n",
       "      <td>0</td>\n",
       "      <td>0</td>\n",
       "      <td>NaN</td>\n",
       "      <td>NaN</td>\n",
       "      <td>NaN</td>\n",
       "      <td>NaN</td>\n",
       "      <td>NaN</td>\n",
       "      <td>NaN</td>\n",
       "      <td>NaN</td>\n",
       "    </tr>\n",
       "    <tr>\n",
       "      <th>6949</th>\n",
       "      <td>1019584</td>\n",
       "      <td>TINIAN</td>\n",
       "      <td>TINIAN, SAN JOSE VILLAGE</td>\n",
       "      <td>SAN JOSE, TINIAN</td>\n",
       "      <td>MP</td>\n",
       "      <td>96952</td>\n",
       "      <td>NaN</td>\n",
       "      <td>NaN</td>\n",
       "      <td>NaN</td>\n",
       "      <td>69120.0</td>\n",
       "      <td>...</td>\n",
       "      <td>0</td>\n",
       "      <td>0</td>\n",
       "      <td>0</td>\n",
       "      <td>NaN</td>\n",
       "      <td>NaN</td>\n",
       "      <td>NaN</td>\n",
       "      <td>NaN</td>\n",
       "      <td>NaN</td>\n",
       "      <td>NaN</td>\n",
       "      <td>NaN</td>\n",
       "    </tr>\n",
       "    <tr>\n",
       "      <th>59630</th>\n",
       "      <td>1105443</td>\n",
       "      <td>SANDY BEACH HOMES</td>\n",
       "      <td>1 SAN ISIDRO AVE</td>\n",
       "      <td>SAIPAN</td>\n",
       "      <td>MP</td>\n",
       "      <td>96950</td>\n",
       "      <td>NaN</td>\n",
       "      <td>NaN</td>\n",
       "      <td>NaN</td>\n",
       "      <td>NaN</td>\n",
       "      <td>...</td>\n",
       "      <td>0</td>\n",
       "      <td>0</td>\n",
       "      <td>0</td>\n",
       "      <td>NaN</td>\n",
       "      <td>NaN</td>\n",
       "      <td>NaN</td>\n",
       "      <td>NaN</td>\n",
       "      <td>NaN</td>\n",
       "      <td>NaN</td>\n",
       "      <td>NaN</td>\n",
       "    </tr>\n",
       "    <tr>\n",
       "      <th>77038</th>\n",
       "      <td>1130111</td>\n",
       "      <td>TASI HOMES</td>\n",
       "      <td>LOT 003 H 44 CHALAN HAGOI &amp; BEACH RD</td>\n",
       "      <td>SAIPAN</td>\n",
       "      <td>MP</td>\n",
       "      <td>96950</td>\n",
       "      <td>NaN</td>\n",
       "      <td>NaN</td>\n",
       "      <td>NaN</td>\n",
       "      <td>NaN</td>\n",
       "      <td>...</td>\n",
       "      <td>0</td>\n",
       "      <td>0</td>\n",
       "      <td>0</td>\n",
       "      <td>NaN</td>\n",
       "      <td>NaN</td>\n",
       "      <td>NaN</td>\n",
       "      <td>NaN</td>\n",
       "      <td>NaN</td>\n",
       "      <td>NaN</td>\n",
       "      <td>NaN</td>\n",
       "    </tr>\n",
       "    <tr>\n",
       "      <th>77039</th>\n",
       "      <td>1130112</td>\n",
       "      <td>SAIPAN COMFORT HOMES</td>\n",
       "      <td>CHALAN TUN ANTONIO</td>\n",
       "      <td>SAIPAN</td>\n",
       "      <td>MP</td>\n",
       "      <td>96950</td>\n",
       "      <td>NaN</td>\n",
       "      <td>NaN</td>\n",
       "      <td>NaN</td>\n",
       "      <td>NaN</td>\n",
       "      <td>...</td>\n",
       "      <td>0</td>\n",
       "      <td>0</td>\n",
       "      <td>0</td>\n",
       "      <td>NaN</td>\n",
       "      <td>NaN</td>\n",
       "      <td>NaN</td>\n",
       "      <td>NaN</td>\n",
       "      <td>NaN</td>\n",
       "      <td>NaN</td>\n",
       "      <td>NaN</td>\n",
       "    </tr>\n",
       "    <tr>\n",
       "      <th>77040</th>\n",
       "      <td>1130113</td>\n",
       "      <td>BLUE WATER HOMES LLC</td>\n",
       "      <td>MIDDLE RD GUALO RAI</td>\n",
       "      <td>SAIPAN</td>\n",
       "      <td>MP</td>\n",
       "      <td>96950</td>\n",
       "      <td>NaN</td>\n",
       "      <td>NaN</td>\n",
       "      <td>NaN</td>\n",
       "      <td>NaN</td>\n",
       "      <td>...</td>\n",
       "      <td>0</td>\n",
       "      <td>0</td>\n",
       "      <td>0</td>\n",
       "      <td>NaN</td>\n",
       "      <td>NaN</td>\n",
       "      <td>NaN</td>\n",
       "      <td>NaN</td>\n",
       "      <td>NaN</td>\n",
       "      <td>NaN</td>\n",
       "      <td>NaN</td>\n",
       "    </tr>\n",
       "    <tr>\n",
       "      <th>81647</th>\n",
       "      <td>1161606</td>\n",
       "      <td>ZEN HOMES</td>\n",
       "      <td>LOT 1877-R3 GUALO RAI RD GUALO RAI</td>\n",
       "      <td>SAIPAN</td>\n",
       "      <td>MP</td>\n",
       "      <td>96950</td>\n",
       "      <td>NaN</td>\n",
       "      <td>NaN</td>\n",
       "      <td>NaN</td>\n",
       "      <td>NaN</td>\n",
       "      <td>...</td>\n",
       "      <td>0</td>\n",
       "      <td>0</td>\n",
       "      <td>0</td>\n",
       "      <td>NaN</td>\n",
       "      <td>NaN</td>\n",
       "      <td>NaN</td>\n",
       "      <td>NaN</td>\n",
       "      <td>NaN</td>\n",
       "      <td>NaN</td>\n",
       "      <td>NaN</td>\n",
       "    </tr>\n",
       "  </tbody>\n",
       "</table>\n",
       "<p>9 rows × 252 columns</p>\n",
       "</div>"
      ],
      "text/plain": [
       "       NHPDPropertyID          PropertyName  \\\n",
       "6943          1019578                  ROTA   \n",
       "6945          1019580           KOBLERVILLE   \n",
       "6947          1019582             MIHAVILLE   \n",
       "6949          1019584                TINIAN   \n",
       "59630         1105443     SANDY BEACH HOMES   \n",
       "77038         1130111            TASI HOMES   \n",
       "77039         1130112  SAIPAN COMFORT HOMES   \n",
       "77040         1130113  BLUE WATER HOMES LLC   \n",
       "81647         1161606             ZEN HOMES   \n",
       "\n",
       "                            PropertyAddress              City State    Zip  \\\n",
       "6943                     ROTA SECTION 8 SUB              ROTA    MP  96951   \n",
       "6945             KOBLERVILLE S8 SUBDIVISION            SAIPAN    MP  96950   \n",
       "6947               MIHAVILLE S8 SUBDIVISION            SAIPAN    MP  96950   \n",
       "6949               TINIAN, SAN JOSE VILLAGE  SAN JOSE, TINIAN    MP  96952   \n",
       "59630                      1 SAN ISIDRO AVE            SAIPAN    MP  96950   \n",
       "77038  LOT 003 H 44 CHALAN HAGOI & BEACH RD            SAIPAN    MP  96950   \n",
       "77039                    CHALAN TUN ANTONIO            SAIPAN    MP  96950   \n",
       "77040                   MIDDLE RD GUALO RAI            SAIPAN    MP  96950   \n",
       "81647    LOT 1877-R3 GUALO RAI RD GUALO RAI            SAIPAN    MP  96950   \n",
       "\n",
       "       CBSACode CBSAType County  CountyCode  ...  NumberActiveMR  \\\n",
       "6943        NaN      NaN    NaN     69100.0  ...               0   \n",
       "6945        NaN      NaN    NaN     69110.0  ...               0   \n",
       "6947        NaN      NaN    NaN     69110.0  ...               0   \n",
       "6949        NaN      NaN    NaN     69120.0  ...               0   \n",
       "59630       NaN      NaN    NaN         NaN  ...               0   \n",
       "77038       NaN      NaN    NaN         NaN  ...               0   \n",
       "77039       NaN      NaN    NaN         NaN  ...               0   \n",
       "77040       NaN      NaN    NaN         NaN  ...               0   \n",
       "81647       NaN      NaN    NaN         NaN  ...               0   \n",
       "\n",
       "      NumberInconclusiveMR  NumberInactiveMR  Mr_1_Status Mr_1_ProgramName  \\\n",
       "6943                     0                 0          NaN              NaN   \n",
       "6945                     0                 0          NaN              NaN   \n",
       "6947                     0                 0          NaN              NaN   \n",
       "6949                     0                 0          NaN              NaN   \n",
       "59630                    0                 0          NaN              NaN   \n",
       "77038                    0                 0          NaN              NaN   \n",
       "77039                    0                 0          NaN              NaN   \n",
       "77040                    0                 0          NaN              NaN   \n",
       "81647                    0                 0          NaN              NaN   \n",
       "\n",
       "       Mr_1_AssistedUnits  Mr_2_Status  Mr_2_ProgramName  Mr_2_AssistedUnits  \\\n",
       "6943                  NaN          NaN               NaN                 NaN   \n",
       "6945                  NaN          NaN               NaN                 NaN   \n",
       "6947                  NaN          NaN               NaN                 NaN   \n",
       "6949                  NaN          NaN               NaN                 NaN   \n",
       "59630                 NaN          NaN               NaN                 NaN   \n",
       "77038                 NaN          NaN               NaN                 NaN   \n",
       "77039                 NaN          NaN               NaN                 NaN   \n",
       "77040                 NaN          NaN               NaN                 NaN   \n",
       "81647                 NaN          NaN               NaN                 NaN   \n",
       "\n",
       "      OldNHPDPropertyID  \n",
       "6943                NaN  \n",
       "6945                NaN  \n",
       "6947                NaN  \n",
       "6949                NaN  \n",
       "59630               NaN  \n",
       "77038               NaN  \n",
       "77039               NaN  \n",
       "77040               NaN  \n",
       "81647               NaN  \n",
       "\n",
       "[9 rows x 252 columns]"
      ]
     },
     "metadata": {},
     "output_type": "display_data"
    }
   ],
   "source": [
    "display(df[df['State']=='WP'])  # This state should actually be GU, Tamuning in Guam\n",
    "display(df[df['State']=='MP'])"
   ]
  },
  {
   "cell_type": "code",
   "execution_count": null,
   "id": "interstate-richards",
   "metadata": {},
   "outputs": [],
   "source": [
    "# Investigate city names\n",
    "cities=df['City'].unique()\n",
    "cities.sort()\n",
    "len(cities)"
   ]
  },
  {
   "cell_type": "code",
   "execution_count": 13,
   "id": "racial-beginning",
   "metadata": {},
   "outputs": [
    {
     "data": {
      "text/plain": [
       "Metropolitan Statistical Area    44927\n",
       "Metropolitan                     15292\n",
       "Micropolitan Statistical Area     5004\n",
       "Micropolitan                      4929\n",
       "Name: CBSAType, dtype: int64"
      ]
     },
     "metadata": {},
     "output_type": "display_data"
    },
    {
     "data": {
      "text/plain": [
       "01    9550\n",
       "02    9383\n",
       "03    7867\n",
       "04    6882\n",
       "07    5546\n",
       "05    5486\n",
       "06    4575\n",
       "08    4067\n",
       "09    2861\n",
       "13    2671\n",
       "00    2652\n",
       "10    2040\n",
       "12    1870\n",
       "15    1717\n",
       "11    1587\n",
       "16    1066\n",
       "14    1065\n",
       "18     990\n",
       "17     915\n",
       "24     692\n",
       "20     659\n",
       "21     612\n",
       "26     599\n",
       "19     576\n",
       "27     574\n",
       "25     553\n",
       "23     534\n",
       "34     519\n",
       "22     416\n",
       "98     340\n",
       "35     274\n",
       "36     262\n",
       "28     258\n",
       "29     232\n",
       "30     223\n",
       "51     206\n",
       "33     201\n",
       "37     175\n",
       "31     163\n",
       "47     136\n",
       "46     112\n",
       "32     111\n",
       "44     110\n",
       "40     105\n",
       "43      98\n",
       "50      87\n",
       "53      79\n",
       "52      73\n",
       "49      69\n",
       "41      63\n",
       "38      52\n",
       "45      46\n",
       "39      46\n",
       "48      44\n",
       "42      26\n",
       "AL       1\n",
       "Name: CongressionalDistrict, dtype: int64"
      ]
     },
     "metadata": {},
     "output_type": "display_data"
    },
    {
     "data": {
      "text/plain": [
       "Active          79525\n",
       "Inconclusive     2762\n",
       "Name: PropertyStatus, dtype: int64"
      ]
     },
     "metadata": {},
     "output_type": "display_data"
    },
    {
     "data": {
      "text/plain": [
       "Non-Profit          18900\n",
       "For Profit          18832\n",
       "Profit Motivated     7824\n",
       "Public Entity        6344\n",
       "Multiple             5796\n",
       "Limited Profit       5795\n",
       "Limited Dividend      688\n",
       "Unknown                 3\n",
       "Name: OwnerType, dtype: int64"
      ]
     },
     "metadata": {},
     "output_type": "display_data"
    },
    {
     "data": {
      "text/plain": [
       "Profit Motivated    13616\n",
       "For Profit           9572\n",
       "Non-Profit           8565\n",
       "Public Entity        6482\n",
       "Multiple             1075\n",
       "Limited Dividend      199\n",
       "Profit Seeking          1\n",
       "Name: ManagerType, dtype: int64"
      ]
     },
     "metadata": {},
     "output_type": "display_data"
    },
    {
     "data": {
      "text/plain": [
       "Family                                24836\n",
       "Elderly                               13738\n",
       "Elderly or disabled                    5834\n",
       "Disabled                               4334\n",
       "Mixed                                  2403\n",
       "Eldery or Disabled                      408\n",
       "FAMILY                                  130\n",
       "Congregate                               49\n",
       "Group Home                               31\n",
       "Homeless                                 30\n",
       "Health Care                              28\n",
       "Veterans                                 11\n",
       "MIXED                                     7\n",
       "Low Income                                6\n",
       "Senior                                    5\n",
       "Affordable                                2\n",
       "Mixed;Link                                2\n",
       "Indv. families - not eld/ handicap        2\n",
       "Homeless Veterans                         1\n",
       "Mixed Income                              1\n",
       "Family & Elderly                          1\n",
       "OTHER                                     1\n",
       "ELDERLY                                   1\n",
       "Name: TargetTenantType, dtype: int64"
      ]
     },
     "metadata": {},
     "output_type": "display_data"
    },
    {
     "data": {
      "text/plain": [
       "Active          21687\n",
       "Inconclusive      777\n",
       "Name: S8_1_Status, dtype: int64"
      ]
     },
     "metadata": {},
     "output_type": "display_data"
    }
   ],
   "source": [
    "# Investigating uniformity of entries\n",
    "display(df.CBSAType.value_counts())\n",
    "\n",
    "display(df.CongressionalDistrict.value_counts())\n",
    "\n",
    "display(df.PropertyStatus.value_counts())\n",
    "\n",
    "display(df.OwnerType.value_counts())\n",
    "\n",
    "display(df.ManagerType.value_counts())\n",
    "\n",
    "display(df.TargetTenantType.value_counts())\n",
    "\n",
    "display(df.S8_1_Status.value_counts())"
   ]
  },
  {
   "cell_type": "markdown",
   "id": "simplified-barcelona",
   "metadata": {},
   "source": [
    "**Data Cleaning**"
   ]
  },
  {
   "cell_type": "code",
   "execution_count": 17,
   "id": "limiting-overall",
   "metadata": {},
   "outputs": [
    {
     "name": "stderr",
     "output_type": "stream",
     "text": [
      "/Users/lprichard/miniconda3/envs/a37_ml/lib/python3.7/site-packages/ipykernel_launcher.py:16: FutureWarning: The default value of regex will change from True to False in a future version.\n",
      "  app.launch_new_instance()\n"
     ]
    }
   ],
   "source": [
    "# Homogenizing column formats\n",
    "data = copy.deepcopy(df)\n",
    "data['PropertyName'] = data['PropertyName'].str.upper()\n",
    "data['PropertyAddress'] = data['PropertyAddress'].str.title()\n",
    "data['City'] = data['City'].str.title()\n",
    "data['County'] = data['County'].str.title()\n",
    "data['Owner'] = data['Owner'].str.upper()\n",
    "data['ManagerName'] = data['ManagerName'].str.upper()\n",
    "\n",
    "# Replace state name for Guam\n",
    "data['State'].loc[data['State']=='WP'] = 'GU'\n",
    "\n",
    "# Target Tenant Type cleaning\n",
    "data['TargetTenantType'] = data['TargetTenantType'].str.replace(\"Eldery or Disabled\", \"Elderly or Disabled\")\n",
    "data['TargetTenantType'] = data['TargetTenantType'].str.replace(\"Mixed;Link\", \"Mixed\")\n",
    "data['TargetTenantType'] = data['TargetTenantType'].str.replace(\"Indv. families - not eld/ handicap\", \"Family\")\n",
    "data['TargetTenantType'] = data['TargetTenantType'].str.replace(\"Senior\", \"Elderly\")\n",
    "data['TargetTenantType'] = data['TargetTenantType'].str.replace(\"Family & Elderly\", \"Mixed\")\n",
    "data['TargetTenantType'] = data['TargetTenantType'].str.replace(\"Homeless Veterans\", \"Veterans\")\n",
    "data['TargetTenantType'] = data['TargetTenantType'].str.replace(\"Mixed Income\", \"Mixed\")\n",
    "data['TargetTenantType'] = data['TargetTenantType'].str.replace(\"OTHER\", \"Mixed\")\n",
    "data['TargetTenantType'] = data['TargetTenantType'].str.replace(\"Affordable\", \"Low Income\")\n",
    "data['TargetTenantType'] = data['TargetTenantType'].str.title()"
   ]
  },
  {
   "cell_type": "code",
   "execution_count": 19,
   "id": "greater-video",
   "metadata": {},
   "outputs": [
    {
     "data": {
      "text/html": [
       "<div>\n",
       "<style scoped>\n",
       "    .dataframe tbody tr th:only-of-type {\n",
       "        vertical-align: middle;\n",
       "    }\n",
       "\n",
       "    .dataframe tbody tr th {\n",
       "        vertical-align: top;\n",
       "    }\n",
       "\n",
       "    .dataframe thead th {\n",
       "        text-align: right;\n",
       "    }\n",
       "</style>\n",
       "<table border=\"1\" class=\"dataframe\">\n",
       "  <thead>\n",
       "    <tr style=\"text-align: right;\">\n",
       "      <th></th>\n",
       "      <th>NHPDPropertyID</th>\n",
       "      <th>PropertyName</th>\n",
       "      <th>PropertyAddress</th>\n",
       "      <th>City</th>\n",
       "      <th>State</th>\n",
       "      <th>Zip</th>\n",
       "      <th>CBSACode</th>\n",
       "      <th>CBSAType</th>\n",
       "      <th>County</th>\n",
       "      <th>CountyCode</th>\n",
       "      <th>...</th>\n",
       "      <th>NumberActiveMR</th>\n",
       "      <th>NumberInconclusiveMR</th>\n",
       "      <th>NumberInactiveMR</th>\n",
       "      <th>Mr_1_Status</th>\n",
       "      <th>Mr_1_ProgramName</th>\n",
       "      <th>Mr_1_AssistedUnits</th>\n",
       "      <th>Mr_2_Status</th>\n",
       "      <th>Mr_2_ProgramName</th>\n",
       "      <th>Mr_2_AssistedUnits</th>\n",
       "      <th>OldNHPDPropertyID</th>\n",
       "    </tr>\n",
       "  </thead>\n",
       "  <tbody>\n",
       "    <tr>\n",
       "      <th>0</th>\n",
       "      <td>1000000</td>\n",
       "      <td>IVY ESTATES</td>\n",
       "      <td>6729 Zeigler Blvd</td>\n",
       "      <td>Mobile</td>\n",
       "      <td>AL</td>\n",
       "      <td>36608-4253</td>\n",
       "      <td>33660.0</td>\n",
       "      <td>Metropolitan Statistical Area</td>\n",
       "      <td>Mobile</td>\n",
       "      <td>1097.0</td>\n",
       "      <td>...</td>\n",
       "      <td>0</td>\n",
       "      <td>0</td>\n",
       "      <td>0</td>\n",
       "      <td>NaN</td>\n",
       "      <td>NaN</td>\n",
       "      <td>NaN</td>\n",
       "      <td>NaN</td>\n",
       "      <td>NaN</td>\n",
       "      <td>NaN</td>\n",
       "      <td>NaN</td>\n",
       "    </tr>\n",
       "    <tr>\n",
       "      <th>1</th>\n",
       "      <td>1000001</td>\n",
       "      <td>RENDU TERRACE WEST</td>\n",
       "      <td>7400 Old Shell Rd</td>\n",
       "      <td>Mobile</td>\n",
       "      <td>AL</td>\n",
       "      <td>36608-4549</td>\n",
       "      <td>33660.0</td>\n",
       "      <td>Metropolitan Statistical Area</td>\n",
       "      <td>Mobile</td>\n",
       "      <td>1097.0</td>\n",
       "      <td>...</td>\n",
       "      <td>0</td>\n",
       "      <td>0</td>\n",
       "      <td>0</td>\n",
       "      <td>NaN</td>\n",
       "      <td>NaN</td>\n",
       "      <td>NaN</td>\n",
       "      <td>NaN</td>\n",
       "      <td>NaN</td>\n",
       "      <td>NaN</td>\n",
       "      <td>NaN</td>\n",
       "    </tr>\n",
       "    <tr>\n",
       "      <th>2</th>\n",
       "      <td>1000002</td>\n",
       "      <td>TWB RESIDENTIAL OPPORTUNITIES II</td>\n",
       "      <td>93 Canal Rd</td>\n",
       "      <td>Port Jefferson Station</td>\n",
       "      <td>NY</td>\n",
       "      <td>11776-3024</td>\n",
       "      <td>35620.0</td>\n",
       "      <td>Metropolitan</td>\n",
       "      <td>Suffolk</td>\n",
       "      <td>36103.0</td>\n",
       "      <td>...</td>\n",
       "      <td>0</td>\n",
       "      <td>0</td>\n",
       "      <td>0</td>\n",
       "      <td>NaN</td>\n",
       "      <td>NaN</td>\n",
       "      <td>NaN</td>\n",
       "      <td>NaN</td>\n",
       "      <td>NaN</td>\n",
       "      <td>NaN</td>\n",
       "      <td>NaN</td>\n",
       "    </tr>\n",
       "    <tr>\n",
       "      <th>3</th>\n",
       "      <td>1000003</td>\n",
       "      <td>THE DAISY HOUSE</td>\n",
       "      <td>615 Clarissa St</td>\n",
       "      <td>Rochester</td>\n",
       "      <td>NY</td>\n",
       "      <td>14608-2485</td>\n",
       "      <td>40380.0</td>\n",
       "      <td>Metropolitan</td>\n",
       "      <td>Monroe</td>\n",
       "      <td>36055.0</td>\n",
       "      <td>...</td>\n",
       "      <td>0</td>\n",
       "      <td>0</td>\n",
       "      <td>0</td>\n",
       "      <td>NaN</td>\n",
       "      <td>NaN</td>\n",
       "      <td>NaN</td>\n",
       "      <td>NaN</td>\n",
       "      <td>NaN</td>\n",
       "      <td>NaN</td>\n",
       "      <td>NaN</td>\n",
       "    </tr>\n",
       "    <tr>\n",
       "      <th>4</th>\n",
       "      <td>1000004</td>\n",
       "      <td>MAIN AVENUE APARTMENTS</td>\n",
       "      <td>105 E Walnut St</td>\n",
       "      <td>Sylacauga</td>\n",
       "      <td>AL</td>\n",
       "      <td>35150-3012</td>\n",
       "      <td>45180.0</td>\n",
       "      <td>Micropolitan Statistical Area</td>\n",
       "      <td>Talladega</td>\n",
       "      <td>1121.0</td>\n",
       "      <td>...</td>\n",
       "      <td>0</td>\n",
       "      <td>0</td>\n",
       "      <td>0</td>\n",
       "      <td>NaN</td>\n",
       "      <td>NaN</td>\n",
       "      <td>NaN</td>\n",
       "      <td>NaN</td>\n",
       "      <td>NaN</td>\n",
       "      <td>NaN</td>\n",
       "      <td>NaN</td>\n",
       "    </tr>\n",
       "  </tbody>\n",
       "</table>\n",
       "<p>5 rows × 252 columns</p>\n",
       "</div>"
      ],
      "text/plain": [
       "   NHPDPropertyID                      PropertyName    PropertyAddress  \\\n",
       "0         1000000                       IVY ESTATES  6729 Zeigler Blvd   \n",
       "1         1000001                RENDU TERRACE WEST  7400 Old Shell Rd   \n",
       "2         1000002  TWB RESIDENTIAL OPPORTUNITIES II        93 Canal Rd   \n",
       "3         1000003                   THE DAISY HOUSE    615 Clarissa St   \n",
       "4         1000004            MAIN AVENUE APARTMENTS    105 E Walnut St   \n",
       "\n",
       "                     City State         Zip  CBSACode  \\\n",
       "0                  Mobile    AL  36608-4253   33660.0   \n",
       "1                  Mobile    AL  36608-4549   33660.0   \n",
       "2  Port Jefferson Station    NY  11776-3024   35620.0   \n",
       "3               Rochester    NY  14608-2485   40380.0   \n",
       "4               Sylacauga    AL  35150-3012   45180.0   \n",
       "\n",
       "                        CBSAType     County  CountyCode  ...  NumberActiveMR  \\\n",
       "0  Metropolitan Statistical Area     Mobile      1097.0  ...               0   \n",
       "1  Metropolitan Statistical Area     Mobile      1097.0  ...               0   \n",
       "2                   Metropolitan    Suffolk     36103.0  ...               0   \n",
       "3                   Metropolitan     Monroe     36055.0  ...               0   \n",
       "4  Micropolitan Statistical Area  Talladega      1121.0  ...               0   \n",
       "\n",
       "  NumberInconclusiveMR  NumberInactiveMR  Mr_1_Status Mr_1_ProgramName  \\\n",
       "0                    0                 0          NaN              NaN   \n",
       "1                    0                 0          NaN              NaN   \n",
       "2                    0                 0          NaN              NaN   \n",
       "3                    0                 0          NaN              NaN   \n",
       "4                    0                 0          NaN              NaN   \n",
       "\n",
       "   Mr_1_AssistedUnits  Mr_2_Status  Mr_2_ProgramName  Mr_2_AssistedUnits  \\\n",
       "0                 NaN          NaN               NaN                 NaN   \n",
       "1                 NaN          NaN               NaN                 NaN   \n",
       "2                 NaN          NaN               NaN                 NaN   \n",
       "3                 NaN          NaN               NaN                 NaN   \n",
       "4                 NaN          NaN               NaN                 NaN   \n",
       "\n",
       "  OldNHPDPropertyID  \n",
       "0               NaN  \n",
       "1               NaN  \n",
       "2               NaN  \n",
       "3               NaN  \n",
       "4               NaN  \n",
       "\n",
       "[5 rows x 252 columns]"
      ]
     },
     "execution_count": 19,
     "metadata": {},
     "output_type": "execute_result"
    }
   ],
   "source": [
    "data.head()"
   ]
  },
  {
   "cell_type": "markdown",
   "id": "opposite-chocolate",
   "metadata": {},
   "source": [
    "**Does Florida reserve more units for certain protected groups compared to other locations?**\n",
    "\n",
    "How does Florida compare to the rest of the Southeast, and how does it compare to the rest of the United States as a whole?"
   ]
  },
  {
   "cell_type": "code",
   "execution_count": 47,
   "id": "hollywood-surprise",
   "metadata": {
    "scrolled": true
   },
   "outputs": [
    {
     "name": "stderr",
     "output_type": "stream",
     "text": [
      "/Users/lprichard/miniconda3/envs/a37_ml/lib/python3.7/site-packages/ipykernel_launcher.py:3: SettingWithCopyWarning:\n",
      "\n",
      "\n",
      "A value is trying to be set on a copy of a slice from a DataFrame.\n",
      "Try using .loc[row_indexer,col_indexer] = value instead\n",
      "\n",
      "See the caveats in the documentation: https://pandas.pydata.org/pandas-docs/stable/user_guide/indexing.html#returning-a-view-versus-a-copy\n",
      "\n"
     ]
    },
    {
     "data": {
      "text/plain": [
       "['Family',\n",
       " 'Elderly',\n",
       " 'Elderly Or Disabled',\n",
       " 'Disabled',\n",
       " 'Mixed',\n",
       " 'Congregate',\n",
       " 'Group Home',\n",
       " 'Homeless',\n",
       " 'Health Care',\n",
       " 'Veterans',\n",
       " 'Low Income']"
      ]
     },
     "execution_count": 47,
     "metadata": {},
     "output_type": "execute_result"
    }
   ],
   "source": [
    "# Get number of tenant types per state and sort\n",
    "data1=data[['TargetTenantType']]\n",
    "data1['number']=1\n",
    "data1=data1.groupby(['TargetTenantType'], as_index=False).sum()\n",
    "data1=data1.sort_values('number', ascending=False)\n",
    "data1['TargetTenantType'].to_list()"
   ]
  },
  {
   "cell_type": "code",
   "execution_count": 56,
   "id": "legendary-instruction",
   "metadata": {
    "scrolled": true
   },
   "outputs": [
    {
     "name": "stderr",
     "output_type": "stream",
     "text": [
      "/Users/lprichard/miniconda3/envs/a37_ml/lib/python3.7/site-packages/ipykernel_launcher.py:3: SettingWithCopyWarning:\n",
      "\n",
      "\n",
      "A value is trying to be set on a copy of a slice from a DataFrame.\n",
      "Try using .loc[row_indexer,col_indexer] = value instead\n",
      "\n",
      "See the caveats in the documentation: https://pandas.pydata.org/pandas-docs/stable/user_guide/indexing.html#returning-a-view-versus-a-copy\n",
      "\n",
      "/Users/lprichard/miniconda3/envs/a37_ml/lib/python3.7/site-packages/pandas/core/indexing.py:1637: SettingWithCopyWarning:\n",
      "\n",
      "\n",
      "A value is trying to be set on a copy of a slice from a DataFrame\n",
      "\n",
      "See the caveats in the documentation: https://pandas.pydata.org/pandas-docs/stable/user_guide/indexing.html#returning-a-view-versus-a-copy\n",
      "\n"
     ]
    },
    {
     "data": {
      "text/html": [
       "<div>\n",
       "<style scoped>\n",
       "    .dataframe tbody tr th:only-of-type {\n",
       "        vertical-align: middle;\n",
       "    }\n",
       "\n",
       "    .dataframe tbody tr th {\n",
       "        vertical-align: top;\n",
       "    }\n",
       "\n",
       "    .dataframe thead th {\n",
       "        text-align: right;\n",
       "    }\n",
       "</style>\n",
       "<table border=\"1\" class=\"dataframe\">\n",
       "  <thead>\n",
       "    <tr style=\"text-align: right;\">\n",
       "      <th></th>\n",
       "      <th>TargetTenantType</th>\n",
       "      <th>State</th>\n",
       "      <th>Number</th>\n",
       "      <th>Region</th>\n",
       "    </tr>\n",
       "  </thead>\n",
       "  <tbody>\n",
       "    <tr>\n",
       "      <th>174</th>\n",
       "      <td>Family</td>\n",
       "      <td>CA</td>\n",
       "      <td>2730</td>\n",
       "      <td>US (non-SE)</td>\n",
       "    </tr>\n",
       "    <tr>\n",
       "      <th>179</th>\n",
       "      <td>Family</td>\n",
       "      <td>FL</td>\n",
       "      <td>1387</td>\n",
       "      <td>FL</td>\n",
       "    </tr>\n",
       "    <tr>\n",
       "      <th>198</th>\n",
       "      <td>Family</td>\n",
       "      <td>NC</td>\n",
       "      <td>1303</td>\n",
       "      <td>SE (not FL)</td>\n",
       "    </tr>\n",
       "    <tr>\n",
       "      <th>205</th>\n",
       "      <td>Family</td>\n",
       "      <td>NY</td>\n",
       "      <td>1218</td>\n",
       "      <td>US (non-SE)</td>\n",
       "    </tr>\n",
       "    <tr>\n",
       "      <th>214</th>\n",
       "      <td>Family</td>\n",
       "      <td>TX</td>\n",
       "      <td>1053</td>\n",
       "      <td>US (non-SE)</td>\n",
       "    </tr>\n",
       "    <tr>\n",
       "      <th>...</th>\n",
       "      <td>...</td>\n",
       "      <td>...</td>\n",
       "      <td>...</td>\n",
       "      <td>...</td>\n",
       "    </tr>\n",
       "    <tr>\n",
       "      <th>254</th>\n",
       "      <td>Low Income</td>\n",
       "      <td>MA</td>\n",
       "      <td>1</td>\n",
       "      <td>US (non-SE)</td>\n",
       "    </tr>\n",
       "    <tr>\n",
       "      <th>255</th>\n",
       "      <td>Low Income</td>\n",
       "      <td>MO</td>\n",
       "      <td>1</td>\n",
       "      <td>US (non-SE)</td>\n",
       "    </tr>\n",
       "    <tr>\n",
       "      <th>256</th>\n",
       "      <td>Low Income</td>\n",
       "      <td>NJ</td>\n",
       "      <td>1</td>\n",
       "      <td>US (non-SE)</td>\n",
       "    </tr>\n",
       "    <tr>\n",
       "      <th>257</th>\n",
       "      <td>Low Income</td>\n",
       "      <td>OH</td>\n",
       "      <td>1</td>\n",
       "      <td>US (non-SE)</td>\n",
       "    </tr>\n",
       "    <tr>\n",
       "      <th>310</th>\n",
       "      <td>Veterans</td>\n",
       "      <td>WA</td>\n",
       "      <td>1</td>\n",
       "      <td>US (non-SE)</td>\n",
       "    </tr>\n",
       "  </tbody>\n",
       "</table>\n",
       "<p>311 rows × 4 columns</p>\n",
       "</div>"
      ],
      "text/plain": [
       "    TargetTenantType State  Number       Region\n",
       "174           Family    CA    2730  US (non-SE)\n",
       "179           Family    FL    1387           FL\n",
       "198           Family    NC    1303  SE (not FL)\n",
       "205           Family    NY    1218  US (non-SE)\n",
       "214           Family    TX    1053  US (non-SE)\n",
       "..               ...   ...     ...          ...\n",
       "254       Low Income    MA       1  US (non-SE)\n",
       "255       Low Income    MO       1  US (non-SE)\n",
       "256       Low Income    NJ       1  US (non-SE)\n",
       "257       Low Income    OH       1  US (non-SE)\n",
       "310         Veterans    WA       1  US (non-SE)\n",
       "\n",
       "[311 rows x 4 columns]"
      ]
     },
     "metadata": {},
     "output_type": "display_data"
    },
    {
     "data": {
      "text/html": [
       "<div>\n",
       "<style scoped>\n",
       "    .dataframe tbody tr th:only-of-type {\n",
       "        vertical-align: middle;\n",
       "    }\n",
       "\n",
       "    .dataframe tbody tr th {\n",
       "        vertical-align: top;\n",
       "    }\n",
       "\n",
       "    .dataframe thead th {\n",
       "        text-align: right;\n",
       "    }\n",
       "</style>\n",
       "<table border=\"1\" class=\"dataframe\">\n",
       "  <thead>\n",
       "    <tr style=\"text-align: right;\">\n",
       "      <th></th>\n",
       "      <th>TargetTenantType</th>\n",
       "      <th>State</th>\n",
       "      <th>Number</th>\n",
       "      <th>Region</th>\n",
       "    </tr>\n",
       "  </thead>\n",
       "  <tbody>\n",
       "    <tr>\n",
       "      <th>179</th>\n",
       "      <td>Family</td>\n",
       "      <td>FL</td>\n",
       "      <td>1387</td>\n",
       "      <td>FL</td>\n",
       "    </tr>\n",
       "    <tr>\n",
       "      <th>77</th>\n",
       "      <td>Elderly</td>\n",
       "      <td>FL</td>\n",
       "      <td>397</td>\n",
       "      <td>FL</td>\n",
       "    </tr>\n",
       "    <tr>\n",
       "      <th>27</th>\n",
       "      <td>Disabled</td>\n",
       "      <td>FL</td>\n",
       "      <td>155</td>\n",
       "      <td>FL</td>\n",
       "    </tr>\n",
       "    <tr>\n",
       "      <th>128</th>\n",
       "      <td>Elderly Or Disabled</td>\n",
       "      <td>FL</td>\n",
       "      <td>136</td>\n",
       "      <td>FL</td>\n",
       "    </tr>\n",
       "    <tr>\n",
       "      <th>268</th>\n",
       "      <td>Mixed</td>\n",
       "      <td>FL</td>\n",
       "      <td>107</td>\n",
       "      <td>FL</td>\n",
       "    </tr>\n",
       "    <tr>\n",
       "      <th>252</th>\n",
       "      <td>Homeless</td>\n",
       "      <td>FL</td>\n",
       "      <td>29</td>\n",
       "      <td>FL</td>\n",
       "    </tr>\n",
       "    <tr>\n",
       "      <th>2</th>\n",
       "      <td>Congregate</td>\n",
       "      <td>FL</td>\n",
       "      <td>1</td>\n",
       "      <td>FL</td>\n",
       "    </tr>\n",
       "    <tr>\n",
       "      <th>236</th>\n",
       "      <td>Health Care</td>\n",
       "      <td>FL</td>\n",
       "      <td>1</td>\n",
       "      <td>FL</td>\n",
       "    </tr>\n",
       "  </tbody>\n",
       "</table>\n",
       "</div>"
      ],
      "text/plain": [
       "        TargetTenantType State  Number Region\n",
       "179               Family    FL    1387     FL\n",
       "77               Elderly    FL     397     FL\n",
       "27              Disabled    FL     155     FL\n",
       "128  Elderly Or Disabled    FL     136     FL\n",
       "268                Mixed    FL     107     FL\n",
       "252             Homeless    FL      29     FL\n",
       "2             Congregate    FL       1     FL\n",
       "236          Health Care    FL       1     FL"
      ]
     },
     "metadata": {},
     "output_type": "display_data"
    }
   ],
   "source": [
    "# Get Number of restaurants per state and sort\n",
    "data2=data[['TargetTenantType', 'State']]\n",
    "data2['Number']=1\n",
    "data2=data2.groupby(['TargetTenantType', 'State'], as_index=False).sum()\n",
    "data2=data2.sort_values('Number', ascending=False)\n",
    "\n",
    "# Add in Region variable\n",
    "data2['Region'] = ''\n",
    "data2['Region'].loc[~data2['State'].str.contains('MP|GU')] = 'US (non-SE)'  # Remove territories\n",
    "data2['Region'].loc[data2['State']=='FL'] = 'FL'                   # Isolate Florida\n",
    "data2['Region'].loc[data2['State'].str.contains('AL|AR|GA|KY|LA|MS|NC|SC|TN|VA|WV', regex=True)] = 'SE (not FL)'  # Isolate southeast states\n",
    "\n",
    "display(data2)\n",
    "display(data2[data2['State']=='FL'])"
   ]
  },
  {
   "cell_type": "code",
   "execution_count": 69,
   "id": "recent-woman",
   "metadata": {},
   "outputs": [
    {
     "name": "stdout",
     "output_type": "stream",
     "text": [
      "AL|AR|GA|KY|LA|MS|NC|SC|TN|VA|WV\n",
      "Family|Elderly|Elderly Or Disabled|Disabled|Mixed\n",
      "Congregate|Group Home|Homeless|Health Care|Veterans|Low Income\n"
     ]
    }
   ],
   "source": [
    "# Southeast states\n",
    "selist = ['AL', 'AR', 'GA', 'KY', 'LA', 'MS', 'NC', 'SC', 'TN', 'VA', 'WV']\n",
    "print('|'.join(selist))\n",
    "\n",
    "# Splitting category lists\n",
    "tlist = ['Family', 'Elderly','Elderly Or Disabled','Disabled','Mixed']\n",
    "tlist1 = ['Congregate','Group Home','Homeless','Health Care','Veterans','Low Income']\n",
    "print('|'.join(tlist))\n",
    "print('|'.join(tlist1))"
   ]
  },
  {
   "cell_type": "code",
   "execution_count": 68,
   "id": "surprising-process",
   "metadata": {},
   "outputs": [
    {
     "data": {
      "application/vnd.plotly.v1+json": {
       "config": {
        "plotlyServerURL": "https://plot.ly"
       },
       "data": [
        {
         "alignmentgroup": "True",
         "hovertemplate": "Region=US (non-SE)<br>TargetTenantType=%{x}<br>Number=%{y}<extra></extra>",
         "legendgroup": "US (non-SE)",
         "marker": {
          "color": "#636efa",
          "pattern": {
           "shape": ""
          }
         },
         "name": "US (non-SE)",
         "offsetgroup": "US (non-SE)",
         "orientation": "v",
         "showlegend": true,
         "textposition": "auto",
         "type": "bar",
         "x": [
          "Family",
          "Family",
          "Family",
          "Elderly",
          "Family",
          "Family",
          "Elderly",
          "Family",
          "Elderly",
          "Family",
          "Family",
          "Elderly Or Disabled",
          "Elderly",
          "Family",
          "Family",
          "Family",
          "Elderly Or Disabled",
          "Elderly",
          "Elderly",
          "Elderly",
          "Elderly",
          "Elderly",
          "Elderly",
          "Elderly",
          "Family",
          "Family",
          "Elderly",
          "Family",
          "Elderly Or Disabled",
          "Family",
          "Family",
          "Family",
          "Elderly",
          "Elderly",
          "Elderly Or Disabled",
          "Elderly",
          "Elderly",
          "Family",
          "Family",
          "Family",
          "Elderly",
          "Mixed",
          "Family",
          "Disabled",
          "Elderly Or Disabled",
          "Family",
          "Elderly",
          "Family",
          "Family",
          "Family",
          "Mixed",
          "Elderly",
          "Disabled",
          "Elderly",
          "Family",
          "Disabled",
          "Family",
          "Mixed",
          "Elderly",
          "Disabled",
          "Elderly Or Disabled",
          "Family",
          "Disabled",
          "Elderly",
          "Family",
          "Elderly",
          "Family",
          "Elderly Or Disabled",
          "Elderly",
          "Elderly Or Disabled",
          "Family",
          "Disabled",
          "Elderly Or Disabled",
          "Disabled",
          "Elderly Or Disabled",
          "Elderly",
          "Disabled",
          "Family",
          "Elderly Or Disabled",
          "Disabled",
          "Elderly",
          "Elderly",
          "Family",
          "Family",
          "Elderly Or Disabled",
          "Elderly",
          "Mixed",
          "Family",
          "Family",
          "Disabled",
          "Elderly Or Disabled",
          "Elderly",
          "Elderly Or Disabled",
          "Elderly Or Disabled",
          "Mixed",
          "Disabled",
          "Elderly",
          "Elderly Or Disabled",
          "Disabled",
          "Elderly Or Disabled",
          "Mixed",
          "Disabled",
          "Elderly Or Disabled",
          "Family",
          "Elderly",
          "Mixed",
          "Disabled",
          "Disabled",
          "Elderly Or Disabled",
          "Elderly Or Disabled",
          "Elderly",
          "Disabled",
          "Elderly Or Disabled",
          "Disabled",
          "Elderly Or Disabled",
          "Elderly",
          "Elderly Or Disabled",
          "Elderly Or Disabled",
          "Mixed",
          "Elderly Or Disabled",
          "Mixed",
          "Mixed",
          "Elderly Or Disabled",
          "Disabled",
          "Mixed",
          "Disabled",
          "Family",
          "Disabled",
          "Disabled",
          "Mixed",
          "Disabled",
          "Elderly Or Disabled",
          "Disabled",
          "Elderly Or Disabled",
          "Family",
          "Elderly",
          "Disabled",
          "Disabled",
          "Elderly",
          "Mixed",
          "Disabled",
          "Elderly",
          "Elderly Or Disabled",
          "Elderly Or Disabled",
          "Disabled",
          "Disabled",
          "Elderly",
          "Elderly Or Disabled",
          "Elderly Or Disabled",
          "Disabled",
          "Elderly Or Disabled",
          "Mixed",
          "Elderly",
          "Disabled",
          "Mixed",
          "Disabled",
          "Mixed",
          "Elderly Or Disabled",
          "Elderly Or Disabled",
          "Mixed",
          "Elderly Or Disabled",
          "Disabled",
          "Elderly Or Disabled",
          "Disabled",
          "Mixed",
          "Disabled",
          "Disabled",
          "Disabled",
          "Disabled",
          "Disabled",
          "Mixed",
          "Mixed",
          "Mixed",
          "Mixed",
          "Elderly Or Disabled",
          "Mixed",
          "Mixed",
          "Mixed",
          "Mixed",
          "Mixed",
          "Mixed",
          "Mixed",
          "Mixed",
          "Elderly Or Disabled",
          "Mixed",
          "Mixed",
          "Mixed",
          "Mixed",
          "Mixed",
          "Mixed"
         ],
         "xaxis": "x",
         "y": [
          2730,
          1218,
          1053,
          891,
          888,
          833,
          817,
          732,
          725,
          710,
          701,
          680,
          644,
          591,
          556,
          551,
          527,
          504,
          502,
          498,
          484,
          472,
          443,
          437,
          426,
          414,
          391,
          383,
          375,
          373,
          372,
          358,
          355,
          347,
          343,
          335,
          322,
          315,
          310,
          290,
          284,
          279,
          276,
          268,
          259,
          254,
          254,
          253,
          250,
          248,
          231,
          225,
          220,
          218,
          218,
          210,
          198,
          195,
          195,
          193,
          193,
          182,
          176,
          171,
          162,
          157,
          157,
          156,
          155,
          155,
          152,
          150,
          148,
          146,
          141,
          138,
          135,
          135,
          134,
          118,
          118,
          117,
          117,
          105,
          105,
          104,
          103,
          102,
          101,
          101,
          99,
          99,
          97,
          95,
          93,
          90,
          86,
          84,
          81,
          81,
          79,
          75,
          74,
          72,
          72,
          71,
          69,
          69,
          68,
          66,
          65,
          65,
          65,
          62,
          62,
          60,
          60,
          59,
          59,
          57,
          55,
          53,
          53,
          52,
          50,
          50,
          49,
          48,
          48,
          46,
          46,
          43,
          43,
          43,
          43,
          41,
          40,
          39,
          38,
          36,
          36,
          36,
          35,
          35,
          34,
          34,
          33,
          32,
          32,
          29,
          26,
          25,
          25,
          24,
          23,
          22,
          21,
          20,
          19,
          19,
          18,
          18,
          18,
          17,
          14,
          14,
          14,
          13,
          13,
          10,
          9,
          8,
          8,
          8,
          8,
          6,
          6,
          5,
          4,
          3,
          3,
          3,
          2,
          2,
          2,
          1,
          1,
          1,
          1,
          1
         ],
         "yaxis": "y"
        },
        {
         "alignmentgroup": "True",
         "hovertemplate": "Region=SE (not FL)<br>TargetTenantType=%{x}<br>Number=%{y}<extra></extra>",
         "legendgroup": "SE (not FL)",
         "marker": {
          "color": "#EF553B",
          "pattern": {
           "shape": ""
          }
         },
         "name": "SE (not FL)",
         "offsetgroup": "SE (not FL)",
         "orientation": "v",
         "showlegend": true,
         "textposition": "auto",
         "type": "bar",
         "x": [
          "Family",
          "Family",
          "Family",
          "Family",
          "Family",
          "Family",
          "Family",
          "Family",
          "Family",
          "Family",
          "Elderly Or Disabled",
          "Disabled",
          "Elderly",
          "Elderly",
          "Elderly",
          "Family",
          "Elderly",
          "Mixed",
          "Elderly",
          "Elderly",
          "Elderly Or Disabled",
          "Elderly",
          "Elderly",
          "Elderly",
          "Mixed",
          "Elderly Or Disabled",
          "Elderly",
          "Elderly",
          "Disabled",
          "Elderly Or Disabled",
          "Elderly Or Disabled",
          "Elderly Or Disabled",
          "Disabled",
          "Disabled",
          "Elderly Or Disabled",
          "Disabled",
          "Mixed",
          "Disabled",
          "Elderly Or Disabled",
          "Mixed",
          "Disabled",
          "Disabled",
          "Elderly Or Disabled",
          "Disabled",
          "Mixed",
          "Elderly Or Disabled",
          "Disabled",
          "Mixed",
          "Elderly Or Disabled",
          "Disabled",
          "Mixed",
          "Mixed",
          "Mixed",
          "Mixed"
         ],
         "xaxis": "x",
         "y": [
          1303,
          837,
          673,
          586,
          544,
          539,
          520,
          499,
          481,
          442,
          389,
          386,
          330,
          296,
          282,
          274,
          254,
          251,
          220,
          218,
          215,
          210,
          194,
          182,
          167,
          159,
          156,
          146,
          138,
          136,
          134,
          132,
          126,
          115,
          114,
          112,
          111,
          107,
          104,
          100,
          95,
          84,
          73,
          68,
          52,
          50,
          43,
          35,
          33,
          33,
          20,
          18,
          16,
          14
         ],
         "yaxis": "y"
        },
        {
         "alignmentgroup": "True",
         "hovertemplate": "Region=FL<br>TargetTenantType=%{x}<br>Number=%{y}<extra></extra>",
         "legendgroup": "FL",
         "marker": {
          "color": "#00cc96",
          "pattern": {
           "shape": ""
          }
         },
         "name": "FL",
         "offsetgroup": "FL",
         "orientation": "v",
         "showlegend": true,
         "textposition": "auto",
         "type": "bar",
         "x": [
          "Family",
          "Elderly",
          "Disabled",
          "Elderly Or Disabled",
          "Mixed"
         ],
         "xaxis": "x",
         "y": [
          1387,
          397,
          155,
          136,
          107
         ],
         "yaxis": "y"
        }
       ],
       "layout": {
        "barmode": "group",
        "legend": {
         "title": {
          "text": "Region"
         },
         "tracegroupgap": 0
        },
        "template": {
         "data": {
          "bar": [
           {
            "error_x": {
             "color": "#2a3f5f"
            },
            "error_y": {
             "color": "#2a3f5f"
            },
            "marker": {
             "line": {
              "color": "#E5ECF6",
              "width": 0.5
             },
             "pattern": {
              "fillmode": "overlay",
              "size": 10,
              "solidity": 0.2
             }
            },
            "type": "bar"
           }
          ],
          "barpolar": [
           {
            "marker": {
             "line": {
              "color": "#E5ECF6",
              "width": 0.5
             },
             "pattern": {
              "fillmode": "overlay",
              "size": 10,
              "solidity": 0.2
             }
            },
            "type": "barpolar"
           }
          ],
          "carpet": [
           {
            "aaxis": {
             "endlinecolor": "#2a3f5f",
             "gridcolor": "white",
             "linecolor": "white",
             "minorgridcolor": "white",
             "startlinecolor": "#2a3f5f"
            },
            "baxis": {
             "endlinecolor": "#2a3f5f",
             "gridcolor": "white",
             "linecolor": "white",
             "minorgridcolor": "white",
             "startlinecolor": "#2a3f5f"
            },
            "type": "carpet"
           }
          ],
          "choropleth": [
           {
            "colorbar": {
             "outlinewidth": 0,
             "ticks": ""
            },
            "type": "choropleth"
           }
          ],
          "contour": [
           {
            "colorbar": {
             "outlinewidth": 0,
             "ticks": ""
            },
            "colorscale": [
             [
              0,
              "#0d0887"
             ],
             [
              0.1111111111111111,
              "#46039f"
             ],
             [
              0.2222222222222222,
              "#7201a8"
             ],
             [
              0.3333333333333333,
              "#9c179e"
             ],
             [
              0.4444444444444444,
              "#bd3786"
             ],
             [
              0.5555555555555556,
              "#d8576b"
             ],
             [
              0.6666666666666666,
              "#ed7953"
             ],
             [
              0.7777777777777778,
              "#fb9f3a"
             ],
             [
              0.8888888888888888,
              "#fdca26"
             ],
             [
              1,
              "#f0f921"
             ]
            ],
            "type": "contour"
           }
          ],
          "contourcarpet": [
           {
            "colorbar": {
             "outlinewidth": 0,
             "ticks": ""
            },
            "type": "contourcarpet"
           }
          ],
          "heatmap": [
           {
            "colorbar": {
             "outlinewidth": 0,
             "ticks": ""
            },
            "colorscale": [
             [
              0,
              "#0d0887"
             ],
             [
              0.1111111111111111,
              "#46039f"
             ],
             [
              0.2222222222222222,
              "#7201a8"
             ],
             [
              0.3333333333333333,
              "#9c179e"
             ],
             [
              0.4444444444444444,
              "#bd3786"
             ],
             [
              0.5555555555555556,
              "#d8576b"
             ],
             [
              0.6666666666666666,
              "#ed7953"
             ],
             [
              0.7777777777777778,
              "#fb9f3a"
             ],
             [
              0.8888888888888888,
              "#fdca26"
             ],
             [
              1,
              "#f0f921"
             ]
            ],
            "type": "heatmap"
           }
          ],
          "heatmapgl": [
           {
            "colorbar": {
             "outlinewidth": 0,
             "ticks": ""
            },
            "colorscale": [
             [
              0,
              "#0d0887"
             ],
             [
              0.1111111111111111,
              "#46039f"
             ],
             [
              0.2222222222222222,
              "#7201a8"
             ],
             [
              0.3333333333333333,
              "#9c179e"
             ],
             [
              0.4444444444444444,
              "#bd3786"
             ],
             [
              0.5555555555555556,
              "#d8576b"
             ],
             [
              0.6666666666666666,
              "#ed7953"
             ],
             [
              0.7777777777777778,
              "#fb9f3a"
             ],
             [
              0.8888888888888888,
              "#fdca26"
             ],
             [
              1,
              "#f0f921"
             ]
            ],
            "type": "heatmapgl"
           }
          ],
          "histogram": [
           {
            "marker": {
             "pattern": {
              "fillmode": "overlay",
              "size": 10,
              "solidity": 0.2
             }
            },
            "type": "histogram"
           }
          ],
          "histogram2d": [
           {
            "colorbar": {
             "outlinewidth": 0,
             "ticks": ""
            },
            "colorscale": [
             [
              0,
              "#0d0887"
             ],
             [
              0.1111111111111111,
              "#46039f"
             ],
             [
              0.2222222222222222,
              "#7201a8"
             ],
             [
              0.3333333333333333,
              "#9c179e"
             ],
             [
              0.4444444444444444,
              "#bd3786"
             ],
             [
              0.5555555555555556,
              "#d8576b"
             ],
             [
              0.6666666666666666,
              "#ed7953"
             ],
             [
              0.7777777777777778,
              "#fb9f3a"
             ],
             [
              0.8888888888888888,
              "#fdca26"
             ],
             [
              1,
              "#f0f921"
             ]
            ],
            "type": "histogram2d"
           }
          ],
          "histogram2dcontour": [
           {
            "colorbar": {
             "outlinewidth": 0,
             "ticks": ""
            },
            "colorscale": [
             [
              0,
              "#0d0887"
             ],
             [
              0.1111111111111111,
              "#46039f"
             ],
             [
              0.2222222222222222,
              "#7201a8"
             ],
             [
              0.3333333333333333,
              "#9c179e"
             ],
             [
              0.4444444444444444,
              "#bd3786"
             ],
             [
              0.5555555555555556,
              "#d8576b"
             ],
             [
              0.6666666666666666,
              "#ed7953"
             ],
             [
              0.7777777777777778,
              "#fb9f3a"
             ],
             [
              0.8888888888888888,
              "#fdca26"
             ],
             [
              1,
              "#f0f921"
             ]
            ],
            "type": "histogram2dcontour"
           }
          ],
          "mesh3d": [
           {
            "colorbar": {
             "outlinewidth": 0,
             "ticks": ""
            },
            "type": "mesh3d"
           }
          ],
          "parcoords": [
           {
            "line": {
             "colorbar": {
              "outlinewidth": 0,
              "ticks": ""
             }
            },
            "type": "parcoords"
           }
          ],
          "pie": [
           {
            "automargin": true,
            "type": "pie"
           }
          ],
          "scatter": [
           {
            "marker": {
             "colorbar": {
              "outlinewidth": 0,
              "ticks": ""
             }
            },
            "type": "scatter"
           }
          ],
          "scatter3d": [
           {
            "line": {
             "colorbar": {
              "outlinewidth": 0,
              "ticks": ""
             }
            },
            "marker": {
             "colorbar": {
              "outlinewidth": 0,
              "ticks": ""
             }
            },
            "type": "scatter3d"
           }
          ],
          "scattercarpet": [
           {
            "marker": {
             "colorbar": {
              "outlinewidth": 0,
              "ticks": ""
             }
            },
            "type": "scattercarpet"
           }
          ],
          "scattergeo": [
           {
            "marker": {
             "colorbar": {
              "outlinewidth": 0,
              "ticks": ""
             }
            },
            "type": "scattergeo"
           }
          ],
          "scattergl": [
           {
            "marker": {
             "colorbar": {
              "outlinewidth": 0,
              "ticks": ""
             }
            },
            "type": "scattergl"
           }
          ],
          "scattermapbox": [
           {
            "marker": {
             "colorbar": {
              "outlinewidth": 0,
              "ticks": ""
             }
            },
            "type": "scattermapbox"
           }
          ],
          "scatterpolar": [
           {
            "marker": {
             "colorbar": {
              "outlinewidth": 0,
              "ticks": ""
             }
            },
            "type": "scatterpolar"
           }
          ],
          "scatterpolargl": [
           {
            "marker": {
             "colorbar": {
              "outlinewidth": 0,
              "ticks": ""
             }
            },
            "type": "scatterpolargl"
           }
          ],
          "scatterternary": [
           {
            "marker": {
             "colorbar": {
              "outlinewidth": 0,
              "ticks": ""
             }
            },
            "type": "scatterternary"
           }
          ],
          "surface": [
           {
            "colorbar": {
             "outlinewidth": 0,
             "ticks": ""
            },
            "colorscale": [
             [
              0,
              "#0d0887"
             ],
             [
              0.1111111111111111,
              "#46039f"
             ],
             [
              0.2222222222222222,
              "#7201a8"
             ],
             [
              0.3333333333333333,
              "#9c179e"
             ],
             [
              0.4444444444444444,
              "#bd3786"
             ],
             [
              0.5555555555555556,
              "#d8576b"
             ],
             [
              0.6666666666666666,
              "#ed7953"
             ],
             [
              0.7777777777777778,
              "#fb9f3a"
             ],
             [
              0.8888888888888888,
              "#fdca26"
             ],
             [
              1,
              "#f0f921"
             ]
            ],
            "type": "surface"
           }
          ],
          "table": [
           {
            "cells": {
             "fill": {
              "color": "#EBF0F8"
             },
             "line": {
              "color": "white"
             }
            },
            "header": {
             "fill": {
              "color": "#C8D4E3"
             },
             "line": {
              "color": "white"
             }
            },
            "type": "table"
           }
          ]
         },
         "layout": {
          "annotationdefaults": {
           "arrowcolor": "#2a3f5f",
           "arrowhead": 0,
           "arrowwidth": 1
          },
          "autotypenumbers": "strict",
          "coloraxis": {
           "colorbar": {
            "outlinewidth": 0,
            "ticks": ""
           }
          },
          "colorscale": {
           "diverging": [
            [
             0,
             "#8e0152"
            ],
            [
             0.1,
             "#c51b7d"
            ],
            [
             0.2,
             "#de77ae"
            ],
            [
             0.3,
             "#f1b6da"
            ],
            [
             0.4,
             "#fde0ef"
            ],
            [
             0.5,
             "#f7f7f7"
            ],
            [
             0.6,
             "#e6f5d0"
            ],
            [
             0.7,
             "#b8e186"
            ],
            [
             0.8,
             "#7fbc41"
            ],
            [
             0.9,
             "#4d9221"
            ],
            [
             1,
             "#276419"
            ]
           ],
           "sequential": [
            [
             0,
             "#0d0887"
            ],
            [
             0.1111111111111111,
             "#46039f"
            ],
            [
             0.2222222222222222,
             "#7201a8"
            ],
            [
             0.3333333333333333,
             "#9c179e"
            ],
            [
             0.4444444444444444,
             "#bd3786"
            ],
            [
             0.5555555555555556,
             "#d8576b"
            ],
            [
             0.6666666666666666,
             "#ed7953"
            ],
            [
             0.7777777777777778,
             "#fb9f3a"
            ],
            [
             0.8888888888888888,
             "#fdca26"
            ],
            [
             1,
             "#f0f921"
            ]
           ],
           "sequentialminus": [
            [
             0,
             "#0d0887"
            ],
            [
             0.1111111111111111,
             "#46039f"
            ],
            [
             0.2222222222222222,
             "#7201a8"
            ],
            [
             0.3333333333333333,
             "#9c179e"
            ],
            [
             0.4444444444444444,
             "#bd3786"
            ],
            [
             0.5555555555555556,
             "#d8576b"
            ],
            [
             0.6666666666666666,
             "#ed7953"
            ],
            [
             0.7777777777777778,
             "#fb9f3a"
            ],
            [
             0.8888888888888888,
             "#fdca26"
            ],
            [
             1,
             "#f0f921"
            ]
           ]
          },
          "colorway": [
           "#636efa",
           "#EF553B",
           "#00cc96",
           "#ab63fa",
           "#FFA15A",
           "#19d3f3",
           "#FF6692",
           "#B6E880",
           "#FF97FF",
           "#FECB52"
          ],
          "font": {
           "color": "#2a3f5f"
          },
          "geo": {
           "bgcolor": "white",
           "lakecolor": "white",
           "landcolor": "#E5ECF6",
           "showlakes": true,
           "showland": true,
           "subunitcolor": "white"
          },
          "hoverlabel": {
           "align": "left"
          },
          "hovermode": "closest",
          "mapbox": {
           "style": "light"
          },
          "paper_bgcolor": "white",
          "plot_bgcolor": "#E5ECF6",
          "polar": {
           "angularaxis": {
            "gridcolor": "white",
            "linecolor": "white",
            "ticks": ""
           },
           "bgcolor": "#E5ECF6",
           "radialaxis": {
            "gridcolor": "white",
            "linecolor": "white",
            "ticks": ""
           }
          },
          "scene": {
           "xaxis": {
            "backgroundcolor": "#E5ECF6",
            "gridcolor": "white",
            "gridwidth": 2,
            "linecolor": "white",
            "showbackground": true,
            "ticks": "",
            "zerolinecolor": "white"
           },
           "yaxis": {
            "backgroundcolor": "#E5ECF6",
            "gridcolor": "white",
            "gridwidth": 2,
            "linecolor": "white",
            "showbackground": true,
            "ticks": "",
            "zerolinecolor": "white"
           },
           "zaxis": {
            "backgroundcolor": "#E5ECF6",
            "gridcolor": "white",
            "gridwidth": 2,
            "linecolor": "white",
            "showbackground": true,
            "ticks": "",
            "zerolinecolor": "white"
           }
          },
          "shapedefaults": {
           "line": {
            "color": "#2a3f5f"
           }
          },
          "ternary": {
           "aaxis": {
            "gridcolor": "white",
            "linecolor": "white",
            "ticks": ""
           },
           "baxis": {
            "gridcolor": "white",
            "linecolor": "white",
            "ticks": ""
           },
           "bgcolor": "#E5ECF6",
           "caxis": {
            "gridcolor": "white",
            "linecolor": "white",
            "ticks": ""
           }
          },
          "title": {
           "x": 0.05
          },
          "xaxis": {
           "automargin": true,
           "gridcolor": "white",
           "linecolor": "white",
           "ticks": "",
           "title": {
            "standoff": 15
           },
           "zerolinecolor": "white",
           "zerolinewidth": 2
          },
          "yaxis": {
           "automargin": true,
           "gridcolor": "white",
           "linecolor": "white",
           "ticks": "",
           "title": {
            "standoff": 15
           },
           "zerolinecolor": "white",
           "zerolinewidth": 2
          }
         }
        },
        "title": {
         "text": "Protected Groups Allocated Housing in USA"
        },
        "xaxis": {
         "anchor": "y",
         "categoryarray": [
          "Family",
          "Elderly",
          "Elderly Or Disabled",
          "Disabled",
          "Mixed"
         ],
         "categoryorder": "array",
         "domain": [
          0,
          1
         ],
         "title": {
          "text": "TargetTenantType"
         }
        },
        "yaxis": {
         "anchor": "x",
         "domain": [
          0,
          1
         ],
         "title": {
          "text": "Number"
         }
        }
       }
      },
      "text/html": [
       "<div>                            <div id=\"9daa72f7-64dc-4d38-8b29-edef6de0956a\" class=\"plotly-graph-div\" style=\"height:525px; width:100%;\"></div>            <script type=\"text/javascript\">                require([\"plotly\"], function(Plotly) {                    window.PLOTLYENV=window.PLOTLYENV || {};                                    if (document.getElementById(\"9daa72f7-64dc-4d38-8b29-edef6de0956a\")) {                    Plotly.newPlot(                        \"9daa72f7-64dc-4d38-8b29-edef6de0956a\",                        [{\"alignmentgroup\":\"True\",\"hovertemplate\":\"Region=US (non-SE)<br>TargetTenantType=%{x}<br>Number=%{y}<extra></extra>\",\"legendgroup\":\"US (non-SE)\",\"marker\":{\"color\":\"#636efa\",\"pattern\":{\"shape\":\"\"}},\"name\":\"US (non-SE)\",\"offsetgroup\":\"US (non-SE)\",\"orientation\":\"v\",\"showlegend\":true,\"textposition\":\"auto\",\"type\":\"bar\",\"x\":[\"Family\",\"Family\",\"Family\",\"Elderly\",\"Family\",\"Family\",\"Elderly\",\"Family\",\"Elderly\",\"Family\",\"Family\",\"Elderly Or Disabled\",\"Elderly\",\"Family\",\"Family\",\"Family\",\"Elderly Or Disabled\",\"Elderly\",\"Elderly\",\"Elderly\",\"Elderly\",\"Elderly\",\"Elderly\",\"Elderly\",\"Family\",\"Family\",\"Elderly\",\"Family\",\"Elderly Or Disabled\",\"Family\",\"Family\",\"Family\",\"Elderly\",\"Elderly\",\"Elderly Or Disabled\",\"Elderly\",\"Elderly\",\"Family\",\"Family\",\"Family\",\"Elderly\",\"Mixed\",\"Family\",\"Disabled\",\"Elderly Or Disabled\",\"Family\",\"Elderly\",\"Family\",\"Family\",\"Family\",\"Mixed\",\"Elderly\",\"Disabled\",\"Elderly\",\"Family\",\"Disabled\",\"Family\",\"Mixed\",\"Elderly\",\"Disabled\",\"Elderly Or Disabled\",\"Family\",\"Disabled\",\"Elderly\",\"Family\",\"Elderly\",\"Family\",\"Elderly Or Disabled\",\"Elderly\",\"Elderly Or Disabled\",\"Family\",\"Disabled\",\"Elderly Or Disabled\",\"Disabled\",\"Elderly Or Disabled\",\"Elderly\",\"Disabled\",\"Family\",\"Elderly Or Disabled\",\"Disabled\",\"Elderly\",\"Elderly\",\"Family\",\"Family\",\"Elderly Or Disabled\",\"Elderly\",\"Mixed\",\"Family\",\"Family\",\"Disabled\",\"Elderly Or Disabled\",\"Elderly\",\"Elderly Or Disabled\",\"Elderly Or Disabled\",\"Mixed\",\"Disabled\",\"Elderly\",\"Elderly Or Disabled\",\"Disabled\",\"Elderly Or Disabled\",\"Mixed\",\"Disabled\",\"Elderly Or Disabled\",\"Family\",\"Elderly\",\"Mixed\",\"Disabled\",\"Disabled\",\"Elderly Or Disabled\",\"Elderly Or Disabled\",\"Elderly\",\"Disabled\",\"Elderly Or Disabled\",\"Disabled\",\"Elderly Or Disabled\",\"Elderly\",\"Elderly Or Disabled\",\"Elderly Or Disabled\",\"Mixed\",\"Elderly Or Disabled\",\"Mixed\",\"Mixed\",\"Elderly Or Disabled\",\"Disabled\",\"Mixed\",\"Disabled\",\"Family\",\"Disabled\",\"Disabled\",\"Mixed\",\"Disabled\",\"Elderly Or Disabled\",\"Disabled\",\"Elderly Or Disabled\",\"Family\",\"Elderly\",\"Disabled\",\"Disabled\",\"Elderly\",\"Mixed\",\"Disabled\",\"Elderly\",\"Elderly Or Disabled\",\"Elderly Or Disabled\",\"Disabled\",\"Disabled\",\"Elderly\",\"Elderly Or Disabled\",\"Elderly Or Disabled\",\"Disabled\",\"Elderly Or Disabled\",\"Mixed\",\"Elderly\",\"Disabled\",\"Mixed\",\"Disabled\",\"Mixed\",\"Elderly Or Disabled\",\"Elderly Or Disabled\",\"Mixed\",\"Elderly Or Disabled\",\"Disabled\",\"Elderly Or Disabled\",\"Disabled\",\"Mixed\",\"Disabled\",\"Disabled\",\"Disabled\",\"Disabled\",\"Disabled\",\"Mixed\",\"Mixed\",\"Mixed\",\"Mixed\",\"Elderly Or Disabled\",\"Mixed\",\"Mixed\",\"Mixed\",\"Mixed\",\"Mixed\",\"Mixed\",\"Mixed\",\"Mixed\",\"Elderly Or Disabled\",\"Mixed\",\"Mixed\",\"Mixed\",\"Mixed\",\"Mixed\",\"Mixed\"],\"xaxis\":\"x\",\"y\":[2730,1218,1053,891,888,833,817,732,725,710,701,680,644,591,556,551,527,504,502,498,484,472,443,437,426,414,391,383,375,373,372,358,355,347,343,335,322,315,310,290,284,279,276,268,259,254,254,253,250,248,231,225,220,218,218,210,198,195,195,193,193,182,176,171,162,157,157,156,155,155,152,150,148,146,141,138,135,135,134,118,118,117,117,105,105,104,103,102,101,101,99,99,97,95,93,90,86,84,81,81,79,75,74,72,72,71,69,69,68,66,65,65,65,62,62,60,60,59,59,57,55,53,53,52,50,50,49,48,48,46,46,43,43,43,43,41,40,39,38,36,36,36,35,35,34,34,33,32,32,29,26,25,25,24,23,22,21,20,19,19,18,18,18,17,14,14,14,13,13,10,9,8,8,8,8,6,6,5,4,3,3,3,2,2,2,1,1,1,1,1],\"yaxis\":\"y\"},{\"alignmentgroup\":\"True\",\"hovertemplate\":\"Region=SE (not FL)<br>TargetTenantType=%{x}<br>Number=%{y}<extra></extra>\",\"legendgroup\":\"SE (not FL)\",\"marker\":{\"color\":\"#EF553B\",\"pattern\":{\"shape\":\"\"}},\"name\":\"SE (not FL)\",\"offsetgroup\":\"SE (not FL)\",\"orientation\":\"v\",\"showlegend\":true,\"textposition\":\"auto\",\"type\":\"bar\",\"x\":[\"Family\",\"Family\",\"Family\",\"Family\",\"Family\",\"Family\",\"Family\",\"Family\",\"Family\",\"Family\",\"Elderly Or Disabled\",\"Disabled\",\"Elderly\",\"Elderly\",\"Elderly\",\"Family\",\"Elderly\",\"Mixed\",\"Elderly\",\"Elderly\",\"Elderly Or Disabled\",\"Elderly\",\"Elderly\",\"Elderly\",\"Mixed\",\"Elderly Or Disabled\",\"Elderly\",\"Elderly\",\"Disabled\",\"Elderly Or Disabled\",\"Elderly Or Disabled\",\"Elderly Or Disabled\",\"Disabled\",\"Disabled\",\"Elderly Or Disabled\",\"Disabled\",\"Mixed\",\"Disabled\",\"Elderly Or Disabled\",\"Mixed\",\"Disabled\",\"Disabled\",\"Elderly Or Disabled\",\"Disabled\",\"Mixed\",\"Elderly Or Disabled\",\"Disabled\",\"Mixed\",\"Elderly Or Disabled\",\"Disabled\",\"Mixed\",\"Mixed\",\"Mixed\",\"Mixed\"],\"xaxis\":\"x\",\"y\":[1303,837,673,586,544,539,520,499,481,442,389,386,330,296,282,274,254,251,220,218,215,210,194,182,167,159,156,146,138,136,134,132,126,115,114,112,111,107,104,100,95,84,73,68,52,50,43,35,33,33,20,18,16,14],\"yaxis\":\"y\"},{\"alignmentgroup\":\"True\",\"hovertemplate\":\"Region=FL<br>TargetTenantType=%{x}<br>Number=%{y}<extra></extra>\",\"legendgroup\":\"FL\",\"marker\":{\"color\":\"#00cc96\",\"pattern\":{\"shape\":\"\"}},\"name\":\"FL\",\"offsetgroup\":\"FL\",\"orientation\":\"v\",\"showlegend\":true,\"textposition\":\"auto\",\"type\":\"bar\",\"x\":[\"Family\",\"Elderly\",\"Disabled\",\"Elderly Or Disabled\",\"Mixed\"],\"xaxis\":\"x\",\"y\":[1387,397,155,136,107],\"yaxis\":\"y\"}],                        {\"barmode\":\"group\",\"legend\":{\"title\":{\"text\":\"Region\"},\"tracegroupgap\":0},\"template\":{\"data\":{\"bar\":[{\"error_x\":{\"color\":\"#2a3f5f\"},\"error_y\":{\"color\":\"#2a3f5f\"},\"marker\":{\"line\":{\"color\":\"#E5ECF6\",\"width\":0.5},\"pattern\":{\"fillmode\":\"overlay\",\"size\":10,\"solidity\":0.2}},\"type\":\"bar\"}],\"barpolar\":[{\"marker\":{\"line\":{\"color\":\"#E5ECF6\",\"width\":0.5},\"pattern\":{\"fillmode\":\"overlay\",\"size\":10,\"solidity\":0.2}},\"type\":\"barpolar\"}],\"carpet\":[{\"aaxis\":{\"endlinecolor\":\"#2a3f5f\",\"gridcolor\":\"white\",\"linecolor\":\"white\",\"minorgridcolor\":\"white\",\"startlinecolor\":\"#2a3f5f\"},\"baxis\":{\"endlinecolor\":\"#2a3f5f\",\"gridcolor\":\"white\",\"linecolor\":\"white\",\"minorgridcolor\":\"white\",\"startlinecolor\":\"#2a3f5f\"},\"type\":\"carpet\"}],\"choropleth\":[{\"colorbar\":{\"outlinewidth\":0,\"ticks\":\"\"},\"type\":\"choropleth\"}],\"contour\":[{\"colorbar\":{\"outlinewidth\":0,\"ticks\":\"\"},\"colorscale\":[[0.0,\"#0d0887\"],[0.1111111111111111,\"#46039f\"],[0.2222222222222222,\"#7201a8\"],[0.3333333333333333,\"#9c179e\"],[0.4444444444444444,\"#bd3786\"],[0.5555555555555556,\"#d8576b\"],[0.6666666666666666,\"#ed7953\"],[0.7777777777777778,\"#fb9f3a\"],[0.8888888888888888,\"#fdca26\"],[1.0,\"#f0f921\"]],\"type\":\"contour\"}],\"contourcarpet\":[{\"colorbar\":{\"outlinewidth\":0,\"ticks\":\"\"},\"type\":\"contourcarpet\"}],\"heatmap\":[{\"colorbar\":{\"outlinewidth\":0,\"ticks\":\"\"},\"colorscale\":[[0.0,\"#0d0887\"],[0.1111111111111111,\"#46039f\"],[0.2222222222222222,\"#7201a8\"],[0.3333333333333333,\"#9c179e\"],[0.4444444444444444,\"#bd3786\"],[0.5555555555555556,\"#d8576b\"],[0.6666666666666666,\"#ed7953\"],[0.7777777777777778,\"#fb9f3a\"],[0.8888888888888888,\"#fdca26\"],[1.0,\"#f0f921\"]],\"type\":\"heatmap\"}],\"heatmapgl\":[{\"colorbar\":{\"outlinewidth\":0,\"ticks\":\"\"},\"colorscale\":[[0.0,\"#0d0887\"],[0.1111111111111111,\"#46039f\"],[0.2222222222222222,\"#7201a8\"],[0.3333333333333333,\"#9c179e\"],[0.4444444444444444,\"#bd3786\"],[0.5555555555555556,\"#d8576b\"],[0.6666666666666666,\"#ed7953\"],[0.7777777777777778,\"#fb9f3a\"],[0.8888888888888888,\"#fdca26\"],[1.0,\"#f0f921\"]],\"type\":\"heatmapgl\"}],\"histogram\":[{\"marker\":{\"pattern\":{\"fillmode\":\"overlay\",\"size\":10,\"solidity\":0.2}},\"type\":\"histogram\"}],\"histogram2d\":[{\"colorbar\":{\"outlinewidth\":0,\"ticks\":\"\"},\"colorscale\":[[0.0,\"#0d0887\"],[0.1111111111111111,\"#46039f\"],[0.2222222222222222,\"#7201a8\"],[0.3333333333333333,\"#9c179e\"],[0.4444444444444444,\"#bd3786\"],[0.5555555555555556,\"#d8576b\"],[0.6666666666666666,\"#ed7953\"],[0.7777777777777778,\"#fb9f3a\"],[0.8888888888888888,\"#fdca26\"],[1.0,\"#f0f921\"]],\"type\":\"histogram2d\"}],\"histogram2dcontour\":[{\"colorbar\":{\"outlinewidth\":0,\"ticks\":\"\"},\"colorscale\":[[0.0,\"#0d0887\"],[0.1111111111111111,\"#46039f\"],[0.2222222222222222,\"#7201a8\"],[0.3333333333333333,\"#9c179e\"],[0.4444444444444444,\"#bd3786\"],[0.5555555555555556,\"#d8576b\"],[0.6666666666666666,\"#ed7953\"],[0.7777777777777778,\"#fb9f3a\"],[0.8888888888888888,\"#fdca26\"],[1.0,\"#f0f921\"]],\"type\":\"histogram2dcontour\"}],\"mesh3d\":[{\"colorbar\":{\"outlinewidth\":0,\"ticks\":\"\"},\"type\":\"mesh3d\"}],\"parcoords\":[{\"line\":{\"colorbar\":{\"outlinewidth\":0,\"ticks\":\"\"}},\"type\":\"parcoords\"}],\"pie\":[{\"automargin\":true,\"type\":\"pie\"}],\"scatter\":[{\"marker\":{\"colorbar\":{\"outlinewidth\":0,\"ticks\":\"\"}},\"type\":\"scatter\"}],\"scatter3d\":[{\"line\":{\"colorbar\":{\"outlinewidth\":0,\"ticks\":\"\"}},\"marker\":{\"colorbar\":{\"outlinewidth\":0,\"ticks\":\"\"}},\"type\":\"scatter3d\"}],\"scattercarpet\":[{\"marker\":{\"colorbar\":{\"outlinewidth\":0,\"ticks\":\"\"}},\"type\":\"scattercarpet\"}],\"scattergeo\":[{\"marker\":{\"colorbar\":{\"outlinewidth\":0,\"ticks\":\"\"}},\"type\":\"scattergeo\"}],\"scattergl\":[{\"marker\":{\"colorbar\":{\"outlinewidth\":0,\"ticks\":\"\"}},\"type\":\"scattergl\"}],\"scattermapbox\":[{\"marker\":{\"colorbar\":{\"outlinewidth\":0,\"ticks\":\"\"}},\"type\":\"scattermapbox\"}],\"scatterpolar\":[{\"marker\":{\"colorbar\":{\"outlinewidth\":0,\"ticks\":\"\"}},\"type\":\"scatterpolar\"}],\"scatterpolargl\":[{\"marker\":{\"colorbar\":{\"outlinewidth\":0,\"ticks\":\"\"}},\"type\":\"scatterpolargl\"}],\"scatterternary\":[{\"marker\":{\"colorbar\":{\"outlinewidth\":0,\"ticks\":\"\"}},\"type\":\"scatterternary\"}],\"surface\":[{\"colorbar\":{\"outlinewidth\":0,\"ticks\":\"\"},\"colorscale\":[[0.0,\"#0d0887\"],[0.1111111111111111,\"#46039f\"],[0.2222222222222222,\"#7201a8\"],[0.3333333333333333,\"#9c179e\"],[0.4444444444444444,\"#bd3786\"],[0.5555555555555556,\"#d8576b\"],[0.6666666666666666,\"#ed7953\"],[0.7777777777777778,\"#fb9f3a\"],[0.8888888888888888,\"#fdca26\"],[1.0,\"#f0f921\"]],\"type\":\"surface\"}],\"table\":[{\"cells\":{\"fill\":{\"color\":\"#EBF0F8\"},\"line\":{\"color\":\"white\"}},\"header\":{\"fill\":{\"color\":\"#C8D4E3\"},\"line\":{\"color\":\"white\"}},\"type\":\"table\"}]},\"layout\":{\"annotationdefaults\":{\"arrowcolor\":\"#2a3f5f\",\"arrowhead\":0,\"arrowwidth\":1},\"autotypenumbers\":\"strict\",\"coloraxis\":{\"colorbar\":{\"outlinewidth\":0,\"ticks\":\"\"}},\"colorscale\":{\"diverging\":[[0,\"#8e0152\"],[0.1,\"#c51b7d\"],[0.2,\"#de77ae\"],[0.3,\"#f1b6da\"],[0.4,\"#fde0ef\"],[0.5,\"#f7f7f7\"],[0.6,\"#e6f5d0\"],[0.7,\"#b8e186\"],[0.8,\"#7fbc41\"],[0.9,\"#4d9221\"],[1,\"#276419\"]],\"sequential\":[[0.0,\"#0d0887\"],[0.1111111111111111,\"#46039f\"],[0.2222222222222222,\"#7201a8\"],[0.3333333333333333,\"#9c179e\"],[0.4444444444444444,\"#bd3786\"],[0.5555555555555556,\"#d8576b\"],[0.6666666666666666,\"#ed7953\"],[0.7777777777777778,\"#fb9f3a\"],[0.8888888888888888,\"#fdca26\"],[1.0,\"#f0f921\"]],\"sequentialminus\":[[0.0,\"#0d0887\"],[0.1111111111111111,\"#46039f\"],[0.2222222222222222,\"#7201a8\"],[0.3333333333333333,\"#9c179e\"],[0.4444444444444444,\"#bd3786\"],[0.5555555555555556,\"#d8576b\"],[0.6666666666666666,\"#ed7953\"],[0.7777777777777778,\"#fb9f3a\"],[0.8888888888888888,\"#fdca26\"],[1.0,\"#f0f921\"]]},\"colorway\":[\"#636efa\",\"#EF553B\",\"#00cc96\",\"#ab63fa\",\"#FFA15A\",\"#19d3f3\",\"#FF6692\",\"#B6E880\",\"#FF97FF\",\"#FECB52\"],\"font\":{\"color\":\"#2a3f5f\"},\"geo\":{\"bgcolor\":\"white\",\"lakecolor\":\"white\",\"landcolor\":\"#E5ECF6\",\"showlakes\":true,\"showland\":true,\"subunitcolor\":\"white\"},\"hoverlabel\":{\"align\":\"left\"},\"hovermode\":\"closest\",\"mapbox\":{\"style\":\"light\"},\"paper_bgcolor\":\"white\",\"plot_bgcolor\":\"#E5ECF6\",\"polar\":{\"angularaxis\":{\"gridcolor\":\"white\",\"linecolor\":\"white\",\"ticks\":\"\"},\"bgcolor\":\"#E5ECF6\",\"radialaxis\":{\"gridcolor\":\"white\",\"linecolor\":\"white\",\"ticks\":\"\"}},\"scene\":{\"xaxis\":{\"backgroundcolor\":\"#E5ECF6\",\"gridcolor\":\"white\",\"gridwidth\":2,\"linecolor\":\"white\",\"showbackground\":true,\"ticks\":\"\",\"zerolinecolor\":\"white\"},\"yaxis\":{\"backgroundcolor\":\"#E5ECF6\",\"gridcolor\":\"white\",\"gridwidth\":2,\"linecolor\":\"white\",\"showbackground\":true,\"ticks\":\"\",\"zerolinecolor\":\"white\"},\"zaxis\":{\"backgroundcolor\":\"#E5ECF6\",\"gridcolor\":\"white\",\"gridwidth\":2,\"linecolor\":\"white\",\"showbackground\":true,\"ticks\":\"\",\"zerolinecolor\":\"white\"}},\"shapedefaults\":{\"line\":{\"color\":\"#2a3f5f\"}},\"ternary\":{\"aaxis\":{\"gridcolor\":\"white\",\"linecolor\":\"white\",\"ticks\":\"\"},\"baxis\":{\"gridcolor\":\"white\",\"linecolor\":\"white\",\"ticks\":\"\"},\"bgcolor\":\"#E5ECF6\",\"caxis\":{\"gridcolor\":\"white\",\"linecolor\":\"white\",\"ticks\":\"\"}},\"title\":{\"x\":0.05},\"xaxis\":{\"automargin\":true,\"gridcolor\":\"white\",\"linecolor\":\"white\",\"ticks\":\"\",\"title\":{\"standoff\":15},\"zerolinecolor\":\"white\",\"zerolinewidth\":2},\"yaxis\":{\"automargin\":true,\"gridcolor\":\"white\",\"linecolor\":\"white\",\"ticks\":\"\",\"title\":{\"standoff\":15},\"zerolinecolor\":\"white\",\"zerolinewidth\":2}}},\"title\":{\"text\":\"Protected Groups Allocated Housing in USA\"},\"xaxis\":{\"anchor\":\"y\",\"categoryarray\":[\"Family\",\"Elderly\",\"Elderly Or Disabled\",\"Disabled\",\"Mixed\"],\"categoryorder\":\"array\",\"domain\":[0.0,1.0],\"title\":{\"text\":\"TargetTenantType\"}},\"yaxis\":{\"anchor\":\"x\",\"domain\":[0.0,1.0],\"title\":{\"text\":\"Number\"}}},                        {\"responsive\": true}                    ).then(function(){\n",
       "                            \n",
       "var gd = document.getElementById('9daa72f7-64dc-4d38-8b29-edef6de0956a');\n",
       "var x = new MutationObserver(function (mutations, observer) {{\n",
       "        var display = window.getComputedStyle(gd).display;\n",
       "        if (!display || display === 'none') {{\n",
       "            console.log([gd, 'removed!']);\n",
       "            Plotly.purge(gd);\n",
       "            observer.disconnect();\n",
       "        }}\n",
       "}});\n",
       "\n",
       "// Listen for the removal of the full notebook cells\n",
       "var notebookContainer = gd.closest('#notebook-container');\n",
       "if (notebookContainer) {{\n",
       "    x.observe(notebookContainer, {childList: true});\n",
       "}}\n",
       "\n",
       "// Listen for the clearing of the current output cell\n",
       "var outputEl = gd.closest('.output');\n",
       "if (outputEl) {{\n",
       "    x.observe(outputEl, {childList: true});\n",
       "}}\n",
       "\n",
       "                        })                };                });            </script>        </div>"
      ]
     },
     "metadata": {},
     "output_type": "display_data"
    },
    {
     "data": {
      "application/vnd.plotly.v1+json": {
       "config": {
        "plotlyServerURL": "https://plot.ly"
       },
       "data": [
        {
         "alignmentgroup": "True",
         "hovertemplate": "Region=US (non-SE)<br>TargetTenantType=%{x}<br>Number=%{y}<extra></extra>",
         "legendgroup": "US (non-SE)",
         "marker": {
          "color": "#636efa",
          "pattern": {
           "shape": ""
          }
         },
         "name": "US (non-SE)",
         "offsetgroup": "US (non-SE)",
         "orientation": "v",
         "showlegend": true,
         "textposition": "auto",
         "type": "bar",
         "x": [
          "Congregate",
          "Veterans",
          "Group Home",
          "Congregate",
          "Congregate",
          "Group Home",
          "Congregate",
          "Health Care",
          "Group Home",
          "Health Care",
          "Group Home",
          "Group Home",
          "Congregate",
          "Health Care",
          "Health Care",
          "Group Home",
          "Congregate",
          "Congregate",
          "Health Care",
          "Veterans",
          "Veterans",
          "Congregate",
          "Group Home",
          "Group Home",
          "Congregate",
          "Low Income",
          "Congregate",
          "Congregate",
          "Congregate",
          "Health Care",
          "Health Care",
          "Health Care",
          "Health Care",
          "Health Care",
          "Health Care",
          "Health Care",
          "Health Care",
          "Homeless",
          "Low Income",
          "Low Income",
          "Low Income",
          "Low Income",
          "Veterans"
         ],
         "xaxis": "x",
         "y": [
          17,
          9,
          7,
          6,
          4,
          4,
          4,
          4,
          3,
          3,
          3,
          3,
          3,
          2,
          2,
          2,
          2,
          2,
          2,
          1,
          1,
          1,
          1,
          1,
          1,
          1,
          1,
          1,
          1,
          1,
          1,
          1,
          1,
          1,
          1,
          1,
          1,
          1,
          1,
          1,
          1,
          1,
          1
         ],
         "yaxis": "y"
        },
        {
         "alignmentgroup": "True",
         "hovertemplate": "Region=SE (not FL)<br>TargetTenantType=%{x}<br>Number=%{y}<extra></extra>",
         "legendgroup": "SE (not FL)",
         "marker": {
          "color": "#EF553B",
          "pattern": {
           "shape": ""
          }
         },
         "name": "SE (not FL)",
         "offsetgroup": "SE (not FL)",
         "orientation": "v",
         "showlegend": true,
         "textposition": "auto",
         "type": "bar",
         "x": [
          "Group Home",
          "Group Home",
          "Low Income",
          "Health Care",
          "Health Care",
          "Congregate",
          "Group Home",
          "Congregate",
          "Congregate",
          "Congregate",
          "Congregate",
          "Health Care",
          "Health Care",
          "Low Income"
         ],
         "xaxis": "x",
         "y": [
          4,
          2,
          2,
          2,
          2,
          1,
          1,
          1,
          1,
          1,
          1,
          1,
          1,
          1
         ],
         "yaxis": "y"
        },
        {
         "alignmentgroup": "True",
         "hovertemplate": "Region=FL<br>TargetTenantType=%{x}<br>Number=%{y}<extra></extra>",
         "legendgroup": "FL",
         "marker": {
          "color": "#00cc96",
          "pattern": {
           "shape": ""
          }
         },
         "name": "FL",
         "offsetgroup": "FL",
         "orientation": "v",
         "showlegend": true,
         "textposition": "auto",
         "type": "bar",
         "x": [
          "Homeless",
          "Congregate",
          "Health Care"
         ],
         "xaxis": "x",
         "y": [
          29,
          1,
          1
         ],
         "yaxis": "y"
        }
       ],
       "layout": {
        "barmode": "group",
        "legend": {
         "title": {
          "text": "Region"
         },
         "tracegroupgap": 0
        },
        "template": {
         "data": {
          "bar": [
           {
            "error_x": {
             "color": "#2a3f5f"
            },
            "error_y": {
             "color": "#2a3f5f"
            },
            "marker": {
             "line": {
              "color": "#E5ECF6",
              "width": 0.5
             },
             "pattern": {
              "fillmode": "overlay",
              "size": 10,
              "solidity": 0.2
             }
            },
            "type": "bar"
           }
          ],
          "barpolar": [
           {
            "marker": {
             "line": {
              "color": "#E5ECF6",
              "width": 0.5
             },
             "pattern": {
              "fillmode": "overlay",
              "size": 10,
              "solidity": 0.2
             }
            },
            "type": "barpolar"
           }
          ],
          "carpet": [
           {
            "aaxis": {
             "endlinecolor": "#2a3f5f",
             "gridcolor": "white",
             "linecolor": "white",
             "minorgridcolor": "white",
             "startlinecolor": "#2a3f5f"
            },
            "baxis": {
             "endlinecolor": "#2a3f5f",
             "gridcolor": "white",
             "linecolor": "white",
             "minorgridcolor": "white",
             "startlinecolor": "#2a3f5f"
            },
            "type": "carpet"
           }
          ],
          "choropleth": [
           {
            "colorbar": {
             "outlinewidth": 0,
             "ticks": ""
            },
            "type": "choropleth"
           }
          ],
          "contour": [
           {
            "colorbar": {
             "outlinewidth": 0,
             "ticks": ""
            },
            "colorscale": [
             [
              0,
              "#0d0887"
             ],
             [
              0.1111111111111111,
              "#46039f"
             ],
             [
              0.2222222222222222,
              "#7201a8"
             ],
             [
              0.3333333333333333,
              "#9c179e"
             ],
             [
              0.4444444444444444,
              "#bd3786"
             ],
             [
              0.5555555555555556,
              "#d8576b"
             ],
             [
              0.6666666666666666,
              "#ed7953"
             ],
             [
              0.7777777777777778,
              "#fb9f3a"
             ],
             [
              0.8888888888888888,
              "#fdca26"
             ],
             [
              1,
              "#f0f921"
             ]
            ],
            "type": "contour"
           }
          ],
          "contourcarpet": [
           {
            "colorbar": {
             "outlinewidth": 0,
             "ticks": ""
            },
            "type": "contourcarpet"
           }
          ],
          "heatmap": [
           {
            "colorbar": {
             "outlinewidth": 0,
             "ticks": ""
            },
            "colorscale": [
             [
              0,
              "#0d0887"
             ],
             [
              0.1111111111111111,
              "#46039f"
             ],
             [
              0.2222222222222222,
              "#7201a8"
             ],
             [
              0.3333333333333333,
              "#9c179e"
             ],
             [
              0.4444444444444444,
              "#bd3786"
             ],
             [
              0.5555555555555556,
              "#d8576b"
             ],
             [
              0.6666666666666666,
              "#ed7953"
             ],
             [
              0.7777777777777778,
              "#fb9f3a"
             ],
             [
              0.8888888888888888,
              "#fdca26"
             ],
             [
              1,
              "#f0f921"
             ]
            ],
            "type": "heatmap"
           }
          ],
          "heatmapgl": [
           {
            "colorbar": {
             "outlinewidth": 0,
             "ticks": ""
            },
            "colorscale": [
             [
              0,
              "#0d0887"
             ],
             [
              0.1111111111111111,
              "#46039f"
             ],
             [
              0.2222222222222222,
              "#7201a8"
             ],
             [
              0.3333333333333333,
              "#9c179e"
             ],
             [
              0.4444444444444444,
              "#bd3786"
             ],
             [
              0.5555555555555556,
              "#d8576b"
             ],
             [
              0.6666666666666666,
              "#ed7953"
             ],
             [
              0.7777777777777778,
              "#fb9f3a"
             ],
             [
              0.8888888888888888,
              "#fdca26"
             ],
             [
              1,
              "#f0f921"
             ]
            ],
            "type": "heatmapgl"
           }
          ],
          "histogram": [
           {
            "marker": {
             "pattern": {
              "fillmode": "overlay",
              "size": 10,
              "solidity": 0.2
             }
            },
            "type": "histogram"
           }
          ],
          "histogram2d": [
           {
            "colorbar": {
             "outlinewidth": 0,
             "ticks": ""
            },
            "colorscale": [
             [
              0,
              "#0d0887"
             ],
             [
              0.1111111111111111,
              "#46039f"
             ],
             [
              0.2222222222222222,
              "#7201a8"
             ],
             [
              0.3333333333333333,
              "#9c179e"
             ],
             [
              0.4444444444444444,
              "#bd3786"
             ],
             [
              0.5555555555555556,
              "#d8576b"
             ],
             [
              0.6666666666666666,
              "#ed7953"
             ],
             [
              0.7777777777777778,
              "#fb9f3a"
             ],
             [
              0.8888888888888888,
              "#fdca26"
             ],
             [
              1,
              "#f0f921"
             ]
            ],
            "type": "histogram2d"
           }
          ],
          "histogram2dcontour": [
           {
            "colorbar": {
             "outlinewidth": 0,
             "ticks": ""
            },
            "colorscale": [
             [
              0,
              "#0d0887"
             ],
             [
              0.1111111111111111,
              "#46039f"
             ],
             [
              0.2222222222222222,
              "#7201a8"
             ],
             [
              0.3333333333333333,
              "#9c179e"
             ],
             [
              0.4444444444444444,
              "#bd3786"
             ],
             [
              0.5555555555555556,
              "#d8576b"
             ],
             [
              0.6666666666666666,
              "#ed7953"
             ],
             [
              0.7777777777777778,
              "#fb9f3a"
             ],
             [
              0.8888888888888888,
              "#fdca26"
             ],
             [
              1,
              "#f0f921"
             ]
            ],
            "type": "histogram2dcontour"
           }
          ],
          "mesh3d": [
           {
            "colorbar": {
             "outlinewidth": 0,
             "ticks": ""
            },
            "type": "mesh3d"
           }
          ],
          "parcoords": [
           {
            "line": {
             "colorbar": {
              "outlinewidth": 0,
              "ticks": ""
             }
            },
            "type": "parcoords"
           }
          ],
          "pie": [
           {
            "automargin": true,
            "type": "pie"
           }
          ],
          "scatter": [
           {
            "marker": {
             "colorbar": {
              "outlinewidth": 0,
              "ticks": ""
             }
            },
            "type": "scatter"
           }
          ],
          "scatter3d": [
           {
            "line": {
             "colorbar": {
              "outlinewidth": 0,
              "ticks": ""
             }
            },
            "marker": {
             "colorbar": {
              "outlinewidth": 0,
              "ticks": ""
             }
            },
            "type": "scatter3d"
           }
          ],
          "scattercarpet": [
           {
            "marker": {
             "colorbar": {
              "outlinewidth": 0,
              "ticks": ""
             }
            },
            "type": "scattercarpet"
           }
          ],
          "scattergeo": [
           {
            "marker": {
             "colorbar": {
              "outlinewidth": 0,
              "ticks": ""
             }
            },
            "type": "scattergeo"
           }
          ],
          "scattergl": [
           {
            "marker": {
             "colorbar": {
              "outlinewidth": 0,
              "ticks": ""
             }
            },
            "type": "scattergl"
           }
          ],
          "scattermapbox": [
           {
            "marker": {
             "colorbar": {
              "outlinewidth": 0,
              "ticks": ""
             }
            },
            "type": "scattermapbox"
           }
          ],
          "scatterpolar": [
           {
            "marker": {
             "colorbar": {
              "outlinewidth": 0,
              "ticks": ""
             }
            },
            "type": "scatterpolar"
           }
          ],
          "scatterpolargl": [
           {
            "marker": {
             "colorbar": {
              "outlinewidth": 0,
              "ticks": ""
             }
            },
            "type": "scatterpolargl"
           }
          ],
          "scatterternary": [
           {
            "marker": {
             "colorbar": {
              "outlinewidth": 0,
              "ticks": ""
             }
            },
            "type": "scatterternary"
           }
          ],
          "surface": [
           {
            "colorbar": {
             "outlinewidth": 0,
             "ticks": ""
            },
            "colorscale": [
             [
              0,
              "#0d0887"
             ],
             [
              0.1111111111111111,
              "#46039f"
             ],
             [
              0.2222222222222222,
              "#7201a8"
             ],
             [
              0.3333333333333333,
              "#9c179e"
             ],
             [
              0.4444444444444444,
              "#bd3786"
             ],
             [
              0.5555555555555556,
              "#d8576b"
             ],
             [
              0.6666666666666666,
              "#ed7953"
             ],
             [
              0.7777777777777778,
              "#fb9f3a"
             ],
             [
              0.8888888888888888,
              "#fdca26"
             ],
             [
              1,
              "#f0f921"
             ]
            ],
            "type": "surface"
           }
          ],
          "table": [
           {
            "cells": {
             "fill": {
              "color": "#EBF0F8"
             },
             "line": {
              "color": "white"
             }
            },
            "header": {
             "fill": {
              "color": "#C8D4E3"
             },
             "line": {
              "color": "white"
             }
            },
            "type": "table"
           }
          ]
         },
         "layout": {
          "annotationdefaults": {
           "arrowcolor": "#2a3f5f",
           "arrowhead": 0,
           "arrowwidth": 1
          },
          "autotypenumbers": "strict",
          "coloraxis": {
           "colorbar": {
            "outlinewidth": 0,
            "ticks": ""
           }
          },
          "colorscale": {
           "diverging": [
            [
             0,
             "#8e0152"
            ],
            [
             0.1,
             "#c51b7d"
            ],
            [
             0.2,
             "#de77ae"
            ],
            [
             0.3,
             "#f1b6da"
            ],
            [
             0.4,
             "#fde0ef"
            ],
            [
             0.5,
             "#f7f7f7"
            ],
            [
             0.6,
             "#e6f5d0"
            ],
            [
             0.7,
             "#b8e186"
            ],
            [
             0.8,
             "#7fbc41"
            ],
            [
             0.9,
             "#4d9221"
            ],
            [
             1,
             "#276419"
            ]
           ],
           "sequential": [
            [
             0,
             "#0d0887"
            ],
            [
             0.1111111111111111,
             "#46039f"
            ],
            [
             0.2222222222222222,
             "#7201a8"
            ],
            [
             0.3333333333333333,
             "#9c179e"
            ],
            [
             0.4444444444444444,
             "#bd3786"
            ],
            [
             0.5555555555555556,
             "#d8576b"
            ],
            [
             0.6666666666666666,
             "#ed7953"
            ],
            [
             0.7777777777777778,
             "#fb9f3a"
            ],
            [
             0.8888888888888888,
             "#fdca26"
            ],
            [
             1,
             "#f0f921"
            ]
           ],
           "sequentialminus": [
            [
             0,
             "#0d0887"
            ],
            [
             0.1111111111111111,
             "#46039f"
            ],
            [
             0.2222222222222222,
             "#7201a8"
            ],
            [
             0.3333333333333333,
             "#9c179e"
            ],
            [
             0.4444444444444444,
             "#bd3786"
            ],
            [
             0.5555555555555556,
             "#d8576b"
            ],
            [
             0.6666666666666666,
             "#ed7953"
            ],
            [
             0.7777777777777778,
             "#fb9f3a"
            ],
            [
             0.8888888888888888,
             "#fdca26"
            ],
            [
             1,
             "#f0f921"
            ]
           ]
          },
          "colorway": [
           "#636efa",
           "#EF553B",
           "#00cc96",
           "#ab63fa",
           "#FFA15A",
           "#19d3f3",
           "#FF6692",
           "#B6E880",
           "#FF97FF",
           "#FECB52"
          ],
          "font": {
           "color": "#2a3f5f"
          },
          "geo": {
           "bgcolor": "white",
           "lakecolor": "white",
           "landcolor": "#E5ECF6",
           "showlakes": true,
           "showland": true,
           "subunitcolor": "white"
          },
          "hoverlabel": {
           "align": "left"
          },
          "hovermode": "closest",
          "mapbox": {
           "style": "light"
          },
          "paper_bgcolor": "white",
          "plot_bgcolor": "#E5ECF6",
          "polar": {
           "angularaxis": {
            "gridcolor": "white",
            "linecolor": "white",
            "ticks": ""
           },
           "bgcolor": "#E5ECF6",
           "radialaxis": {
            "gridcolor": "white",
            "linecolor": "white",
            "ticks": ""
           }
          },
          "scene": {
           "xaxis": {
            "backgroundcolor": "#E5ECF6",
            "gridcolor": "white",
            "gridwidth": 2,
            "linecolor": "white",
            "showbackground": true,
            "ticks": "",
            "zerolinecolor": "white"
           },
           "yaxis": {
            "backgroundcolor": "#E5ECF6",
            "gridcolor": "white",
            "gridwidth": 2,
            "linecolor": "white",
            "showbackground": true,
            "ticks": "",
            "zerolinecolor": "white"
           },
           "zaxis": {
            "backgroundcolor": "#E5ECF6",
            "gridcolor": "white",
            "gridwidth": 2,
            "linecolor": "white",
            "showbackground": true,
            "ticks": "",
            "zerolinecolor": "white"
           }
          },
          "shapedefaults": {
           "line": {
            "color": "#2a3f5f"
           }
          },
          "ternary": {
           "aaxis": {
            "gridcolor": "white",
            "linecolor": "white",
            "ticks": ""
           },
           "baxis": {
            "gridcolor": "white",
            "linecolor": "white",
            "ticks": ""
           },
           "bgcolor": "#E5ECF6",
           "caxis": {
            "gridcolor": "white",
            "linecolor": "white",
            "ticks": ""
           }
          },
          "title": {
           "x": 0.05
          },
          "xaxis": {
           "automargin": true,
           "gridcolor": "white",
           "linecolor": "white",
           "ticks": "",
           "title": {
            "standoff": 15
           },
           "zerolinecolor": "white",
           "zerolinewidth": 2
          },
          "yaxis": {
           "automargin": true,
           "gridcolor": "white",
           "linecolor": "white",
           "ticks": "",
           "title": {
            "standoff": 15
           },
           "zerolinecolor": "white",
           "zerolinewidth": 2
          }
         }
        },
        "title": {
         "text": "Protected Groups Allocated Housing in USA"
        },
        "xaxis": {
         "anchor": "y",
         "categoryarray": [
          "Congregate",
          "Group Home",
          "Homeless",
          "Health Care",
          "Veterans",
          "Low Income"
         ],
         "categoryorder": "array",
         "domain": [
          0,
          1
         ],
         "title": {
          "text": "TargetTenantType"
         }
        },
        "yaxis": {
         "anchor": "x",
         "domain": [
          0,
          1
         ],
         "title": {
          "text": "Number"
         }
        }
       }
      },
      "text/html": [
       "<div>                            <div id=\"3c09d4f3-c52b-404b-8b2f-dfd891797486\" class=\"plotly-graph-div\" style=\"height:525px; width:100%;\"></div>            <script type=\"text/javascript\">                require([\"plotly\"], function(Plotly) {                    window.PLOTLYENV=window.PLOTLYENV || {};                                    if (document.getElementById(\"3c09d4f3-c52b-404b-8b2f-dfd891797486\")) {                    Plotly.newPlot(                        \"3c09d4f3-c52b-404b-8b2f-dfd891797486\",                        [{\"alignmentgroup\":\"True\",\"hovertemplate\":\"Region=US (non-SE)<br>TargetTenantType=%{x}<br>Number=%{y}<extra></extra>\",\"legendgroup\":\"US (non-SE)\",\"marker\":{\"color\":\"#636efa\",\"pattern\":{\"shape\":\"\"}},\"name\":\"US (non-SE)\",\"offsetgroup\":\"US (non-SE)\",\"orientation\":\"v\",\"showlegend\":true,\"textposition\":\"auto\",\"type\":\"bar\",\"x\":[\"Congregate\",\"Veterans\",\"Group Home\",\"Congregate\",\"Congregate\",\"Group Home\",\"Congregate\",\"Health Care\",\"Group Home\",\"Health Care\",\"Group Home\",\"Group Home\",\"Congregate\",\"Health Care\",\"Health Care\",\"Group Home\",\"Congregate\",\"Congregate\",\"Health Care\",\"Veterans\",\"Veterans\",\"Congregate\",\"Group Home\",\"Group Home\",\"Congregate\",\"Low Income\",\"Congregate\",\"Congregate\",\"Congregate\",\"Health Care\",\"Health Care\",\"Health Care\",\"Health Care\",\"Health Care\",\"Health Care\",\"Health Care\",\"Health Care\",\"Homeless\",\"Low Income\",\"Low Income\",\"Low Income\",\"Low Income\",\"Veterans\"],\"xaxis\":\"x\",\"y\":[17,9,7,6,4,4,4,4,3,3,3,3,3,2,2,2,2,2,2,1,1,1,1,1,1,1,1,1,1,1,1,1,1,1,1,1,1,1,1,1,1,1,1],\"yaxis\":\"y\"},{\"alignmentgroup\":\"True\",\"hovertemplate\":\"Region=SE (not FL)<br>TargetTenantType=%{x}<br>Number=%{y}<extra></extra>\",\"legendgroup\":\"SE (not FL)\",\"marker\":{\"color\":\"#EF553B\",\"pattern\":{\"shape\":\"\"}},\"name\":\"SE (not FL)\",\"offsetgroup\":\"SE (not FL)\",\"orientation\":\"v\",\"showlegend\":true,\"textposition\":\"auto\",\"type\":\"bar\",\"x\":[\"Group Home\",\"Group Home\",\"Low Income\",\"Health Care\",\"Health Care\",\"Congregate\",\"Group Home\",\"Congregate\",\"Congregate\",\"Congregate\",\"Congregate\",\"Health Care\",\"Health Care\",\"Low Income\"],\"xaxis\":\"x\",\"y\":[4,2,2,2,2,1,1,1,1,1,1,1,1,1],\"yaxis\":\"y\"},{\"alignmentgroup\":\"True\",\"hovertemplate\":\"Region=FL<br>TargetTenantType=%{x}<br>Number=%{y}<extra></extra>\",\"legendgroup\":\"FL\",\"marker\":{\"color\":\"#00cc96\",\"pattern\":{\"shape\":\"\"}},\"name\":\"FL\",\"offsetgroup\":\"FL\",\"orientation\":\"v\",\"showlegend\":true,\"textposition\":\"auto\",\"type\":\"bar\",\"x\":[\"Homeless\",\"Congregate\",\"Health Care\"],\"xaxis\":\"x\",\"y\":[29,1,1],\"yaxis\":\"y\"}],                        {\"barmode\":\"group\",\"legend\":{\"title\":{\"text\":\"Region\"},\"tracegroupgap\":0},\"template\":{\"data\":{\"bar\":[{\"error_x\":{\"color\":\"#2a3f5f\"},\"error_y\":{\"color\":\"#2a3f5f\"},\"marker\":{\"line\":{\"color\":\"#E5ECF6\",\"width\":0.5},\"pattern\":{\"fillmode\":\"overlay\",\"size\":10,\"solidity\":0.2}},\"type\":\"bar\"}],\"barpolar\":[{\"marker\":{\"line\":{\"color\":\"#E5ECF6\",\"width\":0.5},\"pattern\":{\"fillmode\":\"overlay\",\"size\":10,\"solidity\":0.2}},\"type\":\"barpolar\"}],\"carpet\":[{\"aaxis\":{\"endlinecolor\":\"#2a3f5f\",\"gridcolor\":\"white\",\"linecolor\":\"white\",\"minorgridcolor\":\"white\",\"startlinecolor\":\"#2a3f5f\"},\"baxis\":{\"endlinecolor\":\"#2a3f5f\",\"gridcolor\":\"white\",\"linecolor\":\"white\",\"minorgridcolor\":\"white\",\"startlinecolor\":\"#2a3f5f\"},\"type\":\"carpet\"}],\"choropleth\":[{\"colorbar\":{\"outlinewidth\":0,\"ticks\":\"\"},\"type\":\"choropleth\"}],\"contour\":[{\"colorbar\":{\"outlinewidth\":0,\"ticks\":\"\"},\"colorscale\":[[0.0,\"#0d0887\"],[0.1111111111111111,\"#46039f\"],[0.2222222222222222,\"#7201a8\"],[0.3333333333333333,\"#9c179e\"],[0.4444444444444444,\"#bd3786\"],[0.5555555555555556,\"#d8576b\"],[0.6666666666666666,\"#ed7953\"],[0.7777777777777778,\"#fb9f3a\"],[0.8888888888888888,\"#fdca26\"],[1.0,\"#f0f921\"]],\"type\":\"contour\"}],\"contourcarpet\":[{\"colorbar\":{\"outlinewidth\":0,\"ticks\":\"\"},\"type\":\"contourcarpet\"}],\"heatmap\":[{\"colorbar\":{\"outlinewidth\":0,\"ticks\":\"\"},\"colorscale\":[[0.0,\"#0d0887\"],[0.1111111111111111,\"#46039f\"],[0.2222222222222222,\"#7201a8\"],[0.3333333333333333,\"#9c179e\"],[0.4444444444444444,\"#bd3786\"],[0.5555555555555556,\"#d8576b\"],[0.6666666666666666,\"#ed7953\"],[0.7777777777777778,\"#fb9f3a\"],[0.8888888888888888,\"#fdca26\"],[1.0,\"#f0f921\"]],\"type\":\"heatmap\"}],\"heatmapgl\":[{\"colorbar\":{\"outlinewidth\":0,\"ticks\":\"\"},\"colorscale\":[[0.0,\"#0d0887\"],[0.1111111111111111,\"#46039f\"],[0.2222222222222222,\"#7201a8\"],[0.3333333333333333,\"#9c179e\"],[0.4444444444444444,\"#bd3786\"],[0.5555555555555556,\"#d8576b\"],[0.6666666666666666,\"#ed7953\"],[0.7777777777777778,\"#fb9f3a\"],[0.8888888888888888,\"#fdca26\"],[1.0,\"#f0f921\"]],\"type\":\"heatmapgl\"}],\"histogram\":[{\"marker\":{\"pattern\":{\"fillmode\":\"overlay\",\"size\":10,\"solidity\":0.2}},\"type\":\"histogram\"}],\"histogram2d\":[{\"colorbar\":{\"outlinewidth\":0,\"ticks\":\"\"},\"colorscale\":[[0.0,\"#0d0887\"],[0.1111111111111111,\"#46039f\"],[0.2222222222222222,\"#7201a8\"],[0.3333333333333333,\"#9c179e\"],[0.4444444444444444,\"#bd3786\"],[0.5555555555555556,\"#d8576b\"],[0.6666666666666666,\"#ed7953\"],[0.7777777777777778,\"#fb9f3a\"],[0.8888888888888888,\"#fdca26\"],[1.0,\"#f0f921\"]],\"type\":\"histogram2d\"}],\"histogram2dcontour\":[{\"colorbar\":{\"outlinewidth\":0,\"ticks\":\"\"},\"colorscale\":[[0.0,\"#0d0887\"],[0.1111111111111111,\"#46039f\"],[0.2222222222222222,\"#7201a8\"],[0.3333333333333333,\"#9c179e\"],[0.4444444444444444,\"#bd3786\"],[0.5555555555555556,\"#d8576b\"],[0.6666666666666666,\"#ed7953\"],[0.7777777777777778,\"#fb9f3a\"],[0.8888888888888888,\"#fdca26\"],[1.0,\"#f0f921\"]],\"type\":\"histogram2dcontour\"}],\"mesh3d\":[{\"colorbar\":{\"outlinewidth\":0,\"ticks\":\"\"},\"type\":\"mesh3d\"}],\"parcoords\":[{\"line\":{\"colorbar\":{\"outlinewidth\":0,\"ticks\":\"\"}},\"type\":\"parcoords\"}],\"pie\":[{\"automargin\":true,\"type\":\"pie\"}],\"scatter\":[{\"marker\":{\"colorbar\":{\"outlinewidth\":0,\"ticks\":\"\"}},\"type\":\"scatter\"}],\"scatter3d\":[{\"line\":{\"colorbar\":{\"outlinewidth\":0,\"ticks\":\"\"}},\"marker\":{\"colorbar\":{\"outlinewidth\":0,\"ticks\":\"\"}},\"type\":\"scatter3d\"}],\"scattercarpet\":[{\"marker\":{\"colorbar\":{\"outlinewidth\":0,\"ticks\":\"\"}},\"type\":\"scattercarpet\"}],\"scattergeo\":[{\"marker\":{\"colorbar\":{\"outlinewidth\":0,\"ticks\":\"\"}},\"type\":\"scattergeo\"}],\"scattergl\":[{\"marker\":{\"colorbar\":{\"outlinewidth\":0,\"ticks\":\"\"}},\"type\":\"scattergl\"}],\"scattermapbox\":[{\"marker\":{\"colorbar\":{\"outlinewidth\":0,\"ticks\":\"\"}},\"type\":\"scattermapbox\"}],\"scatterpolar\":[{\"marker\":{\"colorbar\":{\"outlinewidth\":0,\"ticks\":\"\"}},\"type\":\"scatterpolar\"}],\"scatterpolargl\":[{\"marker\":{\"colorbar\":{\"outlinewidth\":0,\"ticks\":\"\"}},\"type\":\"scatterpolargl\"}],\"scatterternary\":[{\"marker\":{\"colorbar\":{\"outlinewidth\":0,\"ticks\":\"\"}},\"type\":\"scatterternary\"}],\"surface\":[{\"colorbar\":{\"outlinewidth\":0,\"ticks\":\"\"},\"colorscale\":[[0.0,\"#0d0887\"],[0.1111111111111111,\"#46039f\"],[0.2222222222222222,\"#7201a8\"],[0.3333333333333333,\"#9c179e\"],[0.4444444444444444,\"#bd3786\"],[0.5555555555555556,\"#d8576b\"],[0.6666666666666666,\"#ed7953\"],[0.7777777777777778,\"#fb9f3a\"],[0.8888888888888888,\"#fdca26\"],[1.0,\"#f0f921\"]],\"type\":\"surface\"}],\"table\":[{\"cells\":{\"fill\":{\"color\":\"#EBF0F8\"},\"line\":{\"color\":\"white\"}},\"header\":{\"fill\":{\"color\":\"#C8D4E3\"},\"line\":{\"color\":\"white\"}},\"type\":\"table\"}]},\"layout\":{\"annotationdefaults\":{\"arrowcolor\":\"#2a3f5f\",\"arrowhead\":0,\"arrowwidth\":1},\"autotypenumbers\":\"strict\",\"coloraxis\":{\"colorbar\":{\"outlinewidth\":0,\"ticks\":\"\"}},\"colorscale\":{\"diverging\":[[0,\"#8e0152\"],[0.1,\"#c51b7d\"],[0.2,\"#de77ae\"],[0.3,\"#f1b6da\"],[0.4,\"#fde0ef\"],[0.5,\"#f7f7f7\"],[0.6,\"#e6f5d0\"],[0.7,\"#b8e186\"],[0.8,\"#7fbc41\"],[0.9,\"#4d9221\"],[1,\"#276419\"]],\"sequential\":[[0.0,\"#0d0887\"],[0.1111111111111111,\"#46039f\"],[0.2222222222222222,\"#7201a8\"],[0.3333333333333333,\"#9c179e\"],[0.4444444444444444,\"#bd3786\"],[0.5555555555555556,\"#d8576b\"],[0.6666666666666666,\"#ed7953\"],[0.7777777777777778,\"#fb9f3a\"],[0.8888888888888888,\"#fdca26\"],[1.0,\"#f0f921\"]],\"sequentialminus\":[[0.0,\"#0d0887\"],[0.1111111111111111,\"#46039f\"],[0.2222222222222222,\"#7201a8\"],[0.3333333333333333,\"#9c179e\"],[0.4444444444444444,\"#bd3786\"],[0.5555555555555556,\"#d8576b\"],[0.6666666666666666,\"#ed7953\"],[0.7777777777777778,\"#fb9f3a\"],[0.8888888888888888,\"#fdca26\"],[1.0,\"#f0f921\"]]},\"colorway\":[\"#636efa\",\"#EF553B\",\"#00cc96\",\"#ab63fa\",\"#FFA15A\",\"#19d3f3\",\"#FF6692\",\"#B6E880\",\"#FF97FF\",\"#FECB52\"],\"font\":{\"color\":\"#2a3f5f\"},\"geo\":{\"bgcolor\":\"white\",\"lakecolor\":\"white\",\"landcolor\":\"#E5ECF6\",\"showlakes\":true,\"showland\":true,\"subunitcolor\":\"white\"},\"hoverlabel\":{\"align\":\"left\"},\"hovermode\":\"closest\",\"mapbox\":{\"style\":\"light\"},\"paper_bgcolor\":\"white\",\"plot_bgcolor\":\"#E5ECF6\",\"polar\":{\"angularaxis\":{\"gridcolor\":\"white\",\"linecolor\":\"white\",\"ticks\":\"\"},\"bgcolor\":\"#E5ECF6\",\"radialaxis\":{\"gridcolor\":\"white\",\"linecolor\":\"white\",\"ticks\":\"\"}},\"scene\":{\"xaxis\":{\"backgroundcolor\":\"#E5ECF6\",\"gridcolor\":\"white\",\"gridwidth\":2,\"linecolor\":\"white\",\"showbackground\":true,\"ticks\":\"\",\"zerolinecolor\":\"white\"},\"yaxis\":{\"backgroundcolor\":\"#E5ECF6\",\"gridcolor\":\"white\",\"gridwidth\":2,\"linecolor\":\"white\",\"showbackground\":true,\"ticks\":\"\",\"zerolinecolor\":\"white\"},\"zaxis\":{\"backgroundcolor\":\"#E5ECF6\",\"gridcolor\":\"white\",\"gridwidth\":2,\"linecolor\":\"white\",\"showbackground\":true,\"ticks\":\"\",\"zerolinecolor\":\"white\"}},\"shapedefaults\":{\"line\":{\"color\":\"#2a3f5f\"}},\"ternary\":{\"aaxis\":{\"gridcolor\":\"white\",\"linecolor\":\"white\",\"ticks\":\"\"},\"baxis\":{\"gridcolor\":\"white\",\"linecolor\":\"white\",\"ticks\":\"\"},\"bgcolor\":\"#E5ECF6\",\"caxis\":{\"gridcolor\":\"white\",\"linecolor\":\"white\",\"ticks\":\"\"}},\"title\":{\"x\":0.05},\"xaxis\":{\"automargin\":true,\"gridcolor\":\"white\",\"linecolor\":\"white\",\"ticks\":\"\",\"title\":{\"standoff\":15},\"zerolinecolor\":\"white\",\"zerolinewidth\":2},\"yaxis\":{\"automargin\":true,\"gridcolor\":\"white\",\"linecolor\":\"white\",\"ticks\":\"\",\"title\":{\"standoff\":15},\"zerolinecolor\":\"white\",\"zerolinewidth\":2}}},\"title\":{\"text\":\"Protected Groups Allocated Housing in USA\"},\"xaxis\":{\"anchor\":\"y\",\"categoryarray\":[\"Congregate\",\"Group Home\",\"Homeless\",\"Health Care\",\"Veterans\",\"Low Income\"],\"categoryorder\":\"array\",\"domain\":[0.0,1.0],\"title\":{\"text\":\"TargetTenantType\"}},\"yaxis\":{\"anchor\":\"x\",\"domain\":[0.0,1.0],\"title\":{\"text\":\"Number\"}}},                        {\"responsive\": true}                    ).then(function(){\n",
       "                            \n",
       "var gd = document.getElementById('3c09d4f3-c52b-404b-8b2f-dfd891797486');\n",
       "var x = new MutationObserver(function (mutations, observer) {{\n",
       "        var display = window.getComputedStyle(gd).display;\n",
       "        if (!display || display === 'none') {{\n",
       "            console.log([gd, 'removed!']);\n",
       "            Plotly.purge(gd);\n",
       "            observer.disconnect();\n",
       "        }}\n",
       "}});\n",
       "\n",
       "// Listen for the removal of the full notebook cells\n",
       "var notebookContainer = gd.closest('#notebook-container');\n",
       "if (notebookContainer) {{\n",
       "    x.observe(notebookContainer, {childList: true});\n",
       "}}\n",
       "\n",
       "// Listen for the clearing of the current output cell\n",
       "var outputEl = gd.closest('.output');\n",
       "if (outputEl) {{\n",
       "    x.observe(outputEl, {childList: true});\n",
       "}}\n",
       "\n",
       "                        })                };                });            </script>        </div>"
      ]
     },
     "metadata": {},
     "output_type": "display_data"
    }
   ],
   "source": [
    "# Plot each protected group, allocated housing split by region\n",
    "fig = px.bar(data2.loc[data2['Region']!=''].loc[data2['TargetTenantType'].str.contains('Family|Elderly|Elderly Or Disabled|Disabled|Mixed', regex=True)], \n",
    "             x='TargetTenantType', y='Number',title=\"Protected Groups Allocated Housing in USA\", color='Region', barmode=\"group\", \n",
    "             category_orders={\"TargetTenantType\": ['Family', 'Elderly','Elderly Or Disabled','Disabled','Mixed'],\n",
    "                    \"Region\": ['US (non-SE)', 'SE (not FL)', \"FL\"]})\n",
    "fig.show()\n",
    "\n",
    "fig = px.bar(data2.loc[data2['Region']!=''].loc[data2['TargetTenantType'].str.contains('Congregate|Group Home|Homeless|Health Care|Veterans|Low Income', regex=True)], \n",
    "             x='TargetTenantType', y='Number',title=\"Protected Groups Allocated Housing in USA\", color='Region', barmode=\"group\", \n",
    "             category_orders={\"TargetTenantType\": ['Congregate','Group Home','Homeless','Health Care','Veterans','Low Income'],\n",
    "                    \"Region\": ['US (non-SE)', 'SE (not FL)', \"FL\"]})\n",
    "fig.show()"
   ]
  },
  {
   "cell_type": "markdown",
   "id": "widespread-complaint",
   "metadata": {},
   "source": [
    "_________________________\n",
    "_________________________\n",
    "**Code from others: Collating useful data**"
   ]
  },
  {
   "cell_type": "code",
   "execution_count": null,
   "id": "damaged-sister",
   "metadata": {},
   "outputs": [],
   "source": [
    "# Useful Columns from Anabel\n",
    "# ActiveSubsidies\n",
    "# TotalInconclusiveSubsidies\n",
    "# TotalInactiveSubsidies\n",
    "# TotalUnits\n",
    "# OwnerType\n",
    "# ManagerType (ManagerName?)\n",
    "# ReacScore1\n",
    "# ReacScore2\n",
    "# ReacScore3\n",
    "# StudioOneBedroomUnits\n",
    "# TwoBedroomUnits\n",
    "# ThreePlusBedroomUnits\n",
    "# PercentofELIHouseholds (Percent of Extremely Low Income Households)\n",
    "# TargetTenantType\n",
    "# FairMarketRent_2BR\n",
    "# OccupancyRate\n",
    "# AverageMonthsOfTenancy\n",
    "# s202_1_principalbalance"
   ]
  },
  {
   "cell_type": "code",
   "execution_count": 20,
   "id": "parliamentary-drink",
   "metadata": {},
   "outputs": [
    {
     "name": "stderr",
     "output_type": "stream",
     "text": [
      "Downloading...\n",
      "From: https://drive.google.com/uc?id=1abt4fLPO__KxBLz9SXue5VKeZN3cUcCF&export=download\n",
      "To: /Users/lprichard/Dropbox/Data_Science/DataKind_18Sep21/data/hills_loss.csv\n",
      "100%|██████████| 207k/207k [00:00<00:00, 2.41MB/s]\n",
      "Downloading...\n",
      "From: https://drive.google.com/uc?id=1gLojTGS6HQ1s60gmIxFCq2xObB1634BU&export=download\n",
      "To: /Users/lprichard/Dropbox/Data_Science/DataKind_18Sep21/data/miami_loss.csv\n",
      "100%|██████████| 321k/321k [00:00<00:00, 4.01MB/s]\n",
      "Downloading...\n",
      "From: https://drive.google.com/uc?id=15ee2QrH8a_yuIfptGwAsVF-tWGTEYXCy&export=download\n",
      "To: /Users/lprichard/Dropbox/Data_Science/DataKind_18Sep21/data/orange_loss.csv\n",
      "100%|██████████| 143k/143k [00:00<00:00, 1.94MB/s]\n"
     ]
    }
   ],
   "source": [
    "# Code from Merrick Usta\n",
    "import gdown\n",
    "#Read housing loss data\n",
    "#Hillsborough\n",
    "url = 'https://drive.google.com/uc?id=1abt4fLPO__KxBLz9SXue5VKeZN3cUcCF&export=download'\n",
    "output = './data/hills_loss.csv'\n",
    "gdown.download(url, output, quiet=False)\n",
    "#Miami-Dade\n",
    "url = 'https://drive.google.com/uc?id=1gLojTGS6HQ1s60gmIxFCq2xObB1634BU&export=download'\n",
    "output = './data/miami_loss.csv'\n",
    "gdown.download(url, output, quiet=False)\n",
    "#Orange\n",
    "url = 'https://drive.google.com/uc?id=15ee2QrH8a_yuIfptGwAsVF-tWGTEYXCy&export=download'\n",
    "output = './data/orange_loss.csv'\n",
    "gdown.download(url, output, quiet=False)\n",
    "housing_loss=pd.concat([pd.read_csv('./data/hills_loss.csv'),\n",
    "                       pd.read_csv('./data/miami_loss.csv'),\n",
    "                       pd.read_csv('./data/orange_loss.csv')])\n",
    "#Get census tracts, compare with those in NHPD data\n",
    "housing_loss.rename(columns={'census_tract_GEOID':'CensusTract'},inplace=True)\n",
    "\n",
    "# LP added\n",
    "nhpd_data = data.copy()\n",
    "nhpd_data = nhpd_data.merge(housing_loss,how=\"inner\",on=['CensusTract'])"
   ]
  },
  {
   "cell_type": "code",
   "execution_count": 21,
   "id": "accessory-possession",
   "metadata": {},
   "outputs": [
    {
     "data": {
      "text/html": [
       "<div>\n",
       "<style scoped>\n",
       "    .dataframe tbody tr th:only-of-type {\n",
       "        vertical-align: middle;\n",
       "    }\n",
       "\n",
       "    .dataframe tbody tr th {\n",
       "        vertical-align: top;\n",
       "    }\n",
       "\n",
       "    .dataframe thead th {\n",
       "        text-align: right;\n",
       "    }\n",
       "</style>\n",
       "<table border=\"1\" class=\"dataframe\">\n",
       "  <thead>\n",
       "    <tr style=\"text-align: right;\">\n",
       "      <th></th>\n",
       "      <th>NHPDPropertyID</th>\n",
       "      <th>PropertyName</th>\n",
       "      <th>PropertyAddress</th>\n",
       "      <th>City</th>\n",
       "      <th>State</th>\n",
       "      <th>Zip</th>\n",
       "      <th>CBSACode</th>\n",
       "      <th>CBSAType</th>\n",
       "      <th>County</th>\n",
       "      <th>CountyCode</th>\n",
       "      <th>...</th>\n",
       "      <th>lien-foreclosure-rate-2019</th>\n",
       "      <th>avg-eviction-rate</th>\n",
       "      <th>ratio-to-mean-foreclosure-rate</th>\n",
       "      <th>ratio-to-mean-eviction-rate</th>\n",
       "      <th>avg-housing-loss-rate</th>\n",
       "      <th>evictions-pct-total-housing-loss</th>\n",
       "      <th>housing-loss-index</th>\n",
       "      <th>county_GEOID</th>\n",
       "      <th>county</th>\n",
       "      <th>state</th>\n",
       "    </tr>\n",
       "  </thead>\n",
       "  <tbody>\n",
       "    <tr>\n",
       "      <th>0</th>\n",
       "      <td>1000163</td>\n",
       "      <td>BUENA VISTA APARTMENTS</td>\n",
       "      <td>521 Sw 6Th St</td>\n",
       "      <td>Miami</td>\n",
       "      <td>FL</td>\n",
       "      <td>33130-2773</td>\n",
       "      <td>33100.0</td>\n",
       "      <td>Metropolitan Statistical Area</td>\n",
       "      <td>Miami-Dade</td>\n",
       "      <td>12086.0</td>\n",
       "      <td>...</td>\n",
       "      <td>0.0</td>\n",
       "      <td>1.444604</td>\n",
       "      <td>0.598472</td>\n",
       "      <td>0.989825</td>\n",
       "      <td>1.439467</td>\n",
       "      <td>0.902985</td>\n",
       "      <td>0.799893</td>\n",
       "      <td>12086</td>\n",
       "      <td>Miami-Dade County</td>\n",
       "      <td>Florida</td>\n",
       "    </tr>\n",
       "    <tr>\n",
       "      <th>1</th>\n",
       "      <td>1000165</td>\n",
       "      <td>VILLA BEATRIZ</td>\n",
       "      <td>776 Nw 2Nd St</td>\n",
       "      <td>Miami</td>\n",
       "      <td>FL</td>\n",
       "      <td>33128-1454</td>\n",
       "      <td>33100.0</td>\n",
       "      <td>Metropolitan Statistical Area</td>\n",
       "      <td>Miami-Dade</td>\n",
       "      <td>12086.0</td>\n",
       "      <td>...</td>\n",
       "      <td>0.0</td>\n",
       "      <td>1.444604</td>\n",
       "      <td>0.598472</td>\n",
       "      <td>0.989825</td>\n",
       "      <td>1.439467</td>\n",
       "      <td>0.902985</td>\n",
       "      <td>0.799893</td>\n",
       "      <td>12086</td>\n",
       "      <td>Miami-Dade County</td>\n",
       "      <td>Florida</td>\n",
       "    </tr>\n",
       "    <tr>\n",
       "      <th>2</th>\n",
       "      <td>1000613</td>\n",
       "      <td>JOE MORETTI II</td>\n",
       "      <td>535 Sw 6Th St</td>\n",
       "      <td>Miami</td>\n",
       "      <td>FL</td>\n",
       "      <td>33130-2745</td>\n",
       "      <td>33100.0</td>\n",
       "      <td>Metropolitan Statistical Area</td>\n",
       "      <td>Miami-Dade</td>\n",
       "      <td>12086.0</td>\n",
       "      <td>...</td>\n",
       "      <td>0.0</td>\n",
       "      <td>1.444604</td>\n",
       "      <td>0.598472</td>\n",
       "      <td>0.989825</td>\n",
       "      <td>1.439467</td>\n",
       "      <td>0.902985</td>\n",
       "      <td>0.799893</td>\n",
       "      <td>12086</td>\n",
       "      <td>Miami-Dade County</td>\n",
       "      <td>Florida</td>\n",
       "    </tr>\n",
       "    <tr>\n",
       "      <th>3</th>\n",
       "      <td>1014273</td>\n",
       "      <td>HUNTER RIVER WALK APARTMENTS</td>\n",
       "      <td>524 Nw 1St St</td>\n",
       "      <td>Miami</td>\n",
       "      <td>FL</td>\n",
       "      <td>33128-1572</td>\n",
       "      <td>33100.0</td>\n",
       "      <td>Metropolitan Statistical Area</td>\n",
       "      <td>Miami-Dade</td>\n",
       "      <td>12086.0</td>\n",
       "      <td>...</td>\n",
       "      <td>0.0</td>\n",
       "      <td>1.444604</td>\n",
       "      <td>0.598472</td>\n",
       "      <td>0.989825</td>\n",
       "      <td>1.439467</td>\n",
       "      <td>0.902985</td>\n",
       "      <td>0.799893</td>\n",
       "      <td>12086</td>\n",
       "      <td>Miami-Dade County</td>\n",
       "      <td>Florida</td>\n",
       "    </tr>\n",
       "    <tr>\n",
       "      <th>4</th>\n",
       "      <td>1018226</td>\n",
       "      <td>VILLA SARA</td>\n",
       "      <td>435 Sw 6Th St</td>\n",
       "      <td>Miami</td>\n",
       "      <td>FL</td>\n",
       "      <td>33130-2875</td>\n",
       "      <td>33100.0</td>\n",
       "      <td>Metropolitan Statistical Area</td>\n",
       "      <td>Miami-Dade</td>\n",
       "      <td>12086.0</td>\n",
       "      <td>...</td>\n",
       "      <td>0.0</td>\n",
       "      <td>1.444604</td>\n",
       "      <td>0.598472</td>\n",
       "      <td>0.989825</td>\n",
       "      <td>1.439467</td>\n",
       "      <td>0.902985</td>\n",
       "      <td>0.799893</td>\n",
       "      <td>12086</td>\n",
       "      <td>Miami-Dade County</td>\n",
       "      <td>Florida</td>\n",
       "    </tr>\n",
       "  </tbody>\n",
       "</table>\n",
       "<p>5 rows × 324 columns</p>\n",
       "</div>"
      ],
      "text/plain": [
       "   NHPDPropertyID                  PropertyName PropertyAddress   City State  \\\n",
       "0         1000163        BUENA VISTA APARTMENTS   521 Sw 6Th St  Miami    FL   \n",
       "1         1000165                 VILLA BEATRIZ   776 Nw 2Nd St  Miami    FL   \n",
       "2         1000613                JOE MORETTI II   535 Sw 6Th St  Miami    FL   \n",
       "3         1014273  HUNTER RIVER WALK APARTMENTS   524 Nw 1St St  Miami    FL   \n",
       "4         1018226                    VILLA SARA   435 Sw 6Th St  Miami    FL   \n",
       "\n",
       "          Zip  CBSACode                       CBSAType      County  \\\n",
       "0  33130-2773   33100.0  Metropolitan Statistical Area  Miami-Dade   \n",
       "1  33128-1454   33100.0  Metropolitan Statistical Area  Miami-Dade   \n",
       "2  33130-2745   33100.0  Metropolitan Statistical Area  Miami-Dade   \n",
       "3  33128-1572   33100.0  Metropolitan Statistical Area  Miami-Dade   \n",
       "4  33130-2875   33100.0  Metropolitan Statistical Area  Miami-Dade   \n",
       "\n",
       "   CountyCode  ...  lien-foreclosure-rate-2019 avg-eviction-rate  \\\n",
       "0     12086.0  ...                         0.0          1.444604   \n",
       "1     12086.0  ...                         0.0          1.444604   \n",
       "2     12086.0  ...                         0.0          1.444604   \n",
       "3     12086.0  ...                         0.0          1.444604   \n",
       "4     12086.0  ...                         0.0          1.444604   \n",
       "\n",
       "   ratio-to-mean-foreclosure-rate  ratio-to-mean-eviction-rate  \\\n",
       "0                        0.598472                     0.989825   \n",
       "1                        0.598472                     0.989825   \n",
       "2                        0.598472                     0.989825   \n",
       "3                        0.598472                     0.989825   \n",
       "4                        0.598472                     0.989825   \n",
       "\n",
       "  avg-housing-loss-rate  evictions-pct-total-housing-loss  housing-loss-index  \\\n",
       "0              1.439467                          0.902985            0.799893   \n",
       "1              1.439467                          0.902985            0.799893   \n",
       "2              1.439467                          0.902985            0.799893   \n",
       "3              1.439467                          0.902985            0.799893   \n",
       "4              1.439467                          0.902985            0.799893   \n",
       "\n",
       "   county_GEOID             county    state  \n",
       "0         12086  Miami-Dade County  Florida  \n",
       "1         12086  Miami-Dade County  Florida  \n",
       "2         12086  Miami-Dade County  Florida  \n",
       "3         12086  Miami-Dade County  Florida  \n",
       "4         12086  Miami-Dade County  Florida  \n",
       "\n",
       "[5 rows x 324 columns]"
      ]
     },
     "metadata": {},
     "output_type": "display_data"
    },
    {
     "name": "stdout",
     "output_type": "stream",
     "text": [
      "<class 'pandas.core.frame.DataFrame'>\n",
      "Int64Index: 910 entries, 0 to 909\n",
      "Columns: 324 entries, NHPDPropertyID to state\n",
      "dtypes: datetime64[ns](42), float64(113), int64(71), object(98)\n",
      "memory usage: 2.3+ MB\n"
     ]
    },
    {
     "data": {
      "text/plain": [
       "None"
      ]
     },
     "metadata": {},
     "output_type": "display_data"
    }
   ],
   "source": [
    "display(nhpd_data.head())\n",
    "display(nhpd_data.info())"
   ]
  },
  {
   "cell_type": "code",
   "execution_count": 22,
   "id": "isolated-extreme",
   "metadata": {},
   "outputs": [],
   "source": [
    "# Code from Nepur Neti\n",
    "# Make lists of columns to sum and those to average at a census tract level\n",
    "columns_to_sum = ['ActiveSubsidies', 'TotalInconclusiveSubsidies',\n",
    "       'TotalInactiveSubsidies', 'TotalUnits', \n",
    "       'NumberActiveSection8', 'NumberInconclusiveSection8',\n",
    "       'NumberInactiveSection8', 'NumberActiveSection202','NumberActiveHUDInsured',\n",
    "       'NumberInconclusiveHUDInsured', 'NumberInactiveHud',\n",
    "       'NumberActiveLihtc', 'NumberInconclusiveLihtc', 'NumberInactiveLihtc',\n",
    "       'NumberActiveSection515', \n",
    "       'NumberInactiveSection515', 'NumberActiveSection538',\n",
    "       'NumberActiveHome', 'NumberInconclusiveHome', 'NumberInactiveHome',\n",
    "       'NumberActivePublicHousing', \n",
    "       'NumberInactivePublicHousing', 'NumberActiveState', 'NumberInactiveState', 'NumberActivePBV', 'NumberActiveMR']\n",
    "columns_to_average = ['TotalUnits',\n",
    " 'StudioOneBedroomUnits',\n",
    " 'TwoBedroomUnits',\n",
    " 'ThreePlusBedroomUnits',\n",
    " 'FairMarketRent_2BR']\n",
    "\n",
    "#Create a dictionary to pass to agg function \n",
    "agg_dict = dict()\n",
    "\n",
    "for col in columns_to_sum:\n",
    "    agg_dict[col] = \"sum\"\n",
    "for col in columns_to_average:\n",
    "    agg_dict[col] = \"mean\"\n",
    "\n",
    " # Aggregate the dataframe at a census tract level using the aggregate dictionary we just created\n",
    "nhpd_fl_census_tract = nhpd_data.groupby(['CensusTract', 'County', 'CountyCode']).agg(agg_dict).reset_index()"
   ]
  },
  {
   "cell_type": "code",
   "execution_count": 23,
   "id": "genetic-diana",
   "metadata": {},
   "outputs": [
    {
     "data": {
      "text/html": [
       "<div>\n",
       "<style scoped>\n",
       "    .dataframe tbody tr th:only-of-type {\n",
       "        vertical-align: middle;\n",
       "    }\n",
       "\n",
       "    .dataframe tbody tr th {\n",
       "        vertical-align: top;\n",
       "    }\n",
       "\n",
       "    .dataframe thead th {\n",
       "        text-align: right;\n",
       "    }\n",
       "</style>\n",
       "<table border=\"1\" class=\"dataframe\">\n",
       "  <thead>\n",
       "    <tr style=\"text-align: right;\">\n",
       "      <th></th>\n",
       "      <th>CensusTract</th>\n",
       "      <th>County</th>\n",
       "      <th>CountyCode</th>\n",
       "      <th>ActiveSubsidies</th>\n",
       "      <th>TotalInconclusiveSubsidies</th>\n",
       "      <th>TotalInactiveSubsidies</th>\n",
       "      <th>TotalUnits</th>\n",
       "      <th>NumberActiveSection8</th>\n",
       "      <th>NumberInconclusiveSection8</th>\n",
       "      <th>NumberInactiveSection8</th>\n",
       "      <th>...</th>\n",
       "      <th>NumberActivePublicHousing</th>\n",
       "      <th>NumberInactivePublicHousing</th>\n",
       "      <th>NumberActiveState</th>\n",
       "      <th>NumberInactiveState</th>\n",
       "      <th>NumberActivePBV</th>\n",
       "      <th>NumberActiveMR</th>\n",
       "      <th>StudioOneBedroomUnits</th>\n",
       "      <th>TwoBedroomUnits</th>\n",
       "      <th>ThreePlusBedroomUnits</th>\n",
       "      <th>FairMarketRent_2BR</th>\n",
       "    </tr>\n",
       "  </thead>\n",
       "  <tbody>\n",
       "    <tr>\n",
       "      <th>0</th>\n",
       "      <td>1.205700e+10</td>\n",
       "      <td>Hillsborough</td>\n",
       "      <td>12057.0</td>\n",
       "      <td>8</td>\n",
       "      <td>0</td>\n",
       "      <td>1</td>\n",
       "      <td>55.571429</td>\n",
       "      <td>4</td>\n",
       "      <td>0</td>\n",
       "      <td>0</td>\n",
       "      <td>...</td>\n",
       "      <td>0</td>\n",
       "      <td>0</td>\n",
       "      <td>2</td>\n",
       "      <td>0</td>\n",
       "      <td>2</td>\n",
       "      <td>0</td>\n",
       "      <td>69.50</td>\n",
       "      <td>5.600000</td>\n",
       "      <td>0.000000</td>\n",
       "      <td>1220.0</td>\n",
       "    </tr>\n",
       "    <tr>\n",
       "      <th>1</th>\n",
       "      <td>1.205700e+10</td>\n",
       "      <td>Hillsborough</td>\n",
       "      <td>12057.0</td>\n",
       "      <td>4</td>\n",
       "      <td>0</td>\n",
       "      <td>3</td>\n",
       "      <td>63.000000</td>\n",
       "      <td>2</td>\n",
       "      <td>0</td>\n",
       "      <td>0</td>\n",
       "      <td>...</td>\n",
       "      <td>0</td>\n",
       "      <td>0</td>\n",
       "      <td>1</td>\n",
       "      <td>0</td>\n",
       "      <td>0</td>\n",
       "      <td>0</td>\n",
       "      <td>92.00</td>\n",
       "      <td>1.333333</td>\n",
       "      <td>0.000000</td>\n",
       "      <td>1070.0</td>\n",
       "    </tr>\n",
       "    <tr>\n",
       "      <th>2</th>\n",
       "      <td>1.205700e+10</td>\n",
       "      <td>Hillsborough</td>\n",
       "      <td>12057.0</td>\n",
       "      <td>1</td>\n",
       "      <td>0</td>\n",
       "      <td>0</td>\n",
       "      <td>84.000000</td>\n",
       "      <td>0</td>\n",
       "      <td>0</td>\n",
       "      <td>0</td>\n",
       "      <td>...</td>\n",
       "      <td>0</td>\n",
       "      <td>0</td>\n",
       "      <td>0</td>\n",
       "      <td>0</td>\n",
       "      <td>1</td>\n",
       "      <td>0</td>\n",
       "      <td>NaN</td>\n",
       "      <td>NaN</td>\n",
       "      <td>NaN</td>\n",
       "      <td>1070.0</td>\n",
       "    </tr>\n",
       "    <tr>\n",
       "      <th>3</th>\n",
       "      <td>1.205700e+10</td>\n",
       "      <td>Hillsborough</td>\n",
       "      <td>12057.0</td>\n",
       "      <td>1</td>\n",
       "      <td>0</td>\n",
       "      <td>0</td>\n",
       "      <td>2.000000</td>\n",
       "      <td>0</td>\n",
       "      <td>0</td>\n",
       "      <td>0</td>\n",
       "      <td>...</td>\n",
       "      <td>0</td>\n",
       "      <td>0</td>\n",
       "      <td>0</td>\n",
       "      <td>0</td>\n",
       "      <td>0</td>\n",
       "      <td>0</td>\n",
       "      <td>NaN</td>\n",
       "      <td>1.000000</td>\n",
       "      <td>1.000000</td>\n",
       "      <td>1070.0</td>\n",
       "    </tr>\n",
       "    <tr>\n",
       "      <th>4</th>\n",
       "      <td>1.205700e+10</td>\n",
       "      <td>Hillsborough</td>\n",
       "      <td>12057.0</td>\n",
       "      <td>1</td>\n",
       "      <td>0</td>\n",
       "      <td>0</td>\n",
       "      <td>96.000000</td>\n",
       "      <td>0</td>\n",
       "      <td>0</td>\n",
       "      <td>0</td>\n",
       "      <td>...</td>\n",
       "      <td>0</td>\n",
       "      <td>0</td>\n",
       "      <td>1</td>\n",
       "      <td>0</td>\n",
       "      <td>0</td>\n",
       "      <td>0</td>\n",
       "      <td>72.00</td>\n",
       "      <td>24.000000</td>\n",
       "      <td>0.000000</td>\n",
       "      <td>1220.0</td>\n",
       "    </tr>\n",
       "    <tr>\n",
       "      <th>...</th>\n",
       "      <td>...</td>\n",
       "      <td>...</td>\n",
       "      <td>...</td>\n",
       "      <td>...</td>\n",
       "      <td>...</td>\n",
       "      <td>...</td>\n",
       "      <td>...</td>\n",
       "      <td>...</td>\n",
       "      <td>...</td>\n",
       "      <td>...</td>\n",
       "      <td>...</td>\n",
       "      <td>...</td>\n",
       "      <td>...</td>\n",
       "      <td>...</td>\n",
       "      <td>...</td>\n",
       "      <td>...</td>\n",
       "      <td>...</td>\n",
       "      <td>...</td>\n",
       "      <td>...</td>\n",
       "      <td>...</td>\n",
       "      <td>...</td>\n",
       "    </tr>\n",
       "    <tr>\n",
       "      <th>349</th>\n",
       "      <td>1.209502e+10</td>\n",
       "      <td>Orange</td>\n",
       "      <td>12095.0</td>\n",
       "      <td>1</td>\n",
       "      <td>1</td>\n",
       "      <td>0</td>\n",
       "      <td>55.000000</td>\n",
       "      <td>0</td>\n",
       "      <td>1</td>\n",
       "      <td>0</td>\n",
       "      <td>...</td>\n",
       "      <td>0</td>\n",
       "      <td>0</td>\n",
       "      <td>1</td>\n",
       "      <td>0</td>\n",
       "      <td>0</td>\n",
       "      <td>0</td>\n",
       "      <td>55.00</td>\n",
       "      <td>0.000000</td>\n",
       "      <td>0.000000</td>\n",
       "      <td>1980.0</td>\n",
       "    </tr>\n",
       "    <tr>\n",
       "      <th>350</th>\n",
       "      <td>1.209502e+10</td>\n",
       "      <td>Orange</td>\n",
       "      <td>12095.0</td>\n",
       "      <td>2</td>\n",
       "      <td>0</td>\n",
       "      <td>2</td>\n",
       "      <td>95.500000</td>\n",
       "      <td>0</td>\n",
       "      <td>0</td>\n",
       "      <td>0</td>\n",
       "      <td>...</td>\n",
       "      <td>1</td>\n",
       "      <td>0</td>\n",
       "      <td>0</td>\n",
       "      <td>0</td>\n",
       "      <td>0</td>\n",
       "      <td>1</td>\n",
       "      <td>NaN</td>\n",
       "      <td>0.000000</td>\n",
       "      <td>0.000000</td>\n",
       "      <td>1130.0</td>\n",
       "    </tr>\n",
       "    <tr>\n",
       "      <th>351</th>\n",
       "      <td>1.209502e+10</td>\n",
       "      <td>Orange</td>\n",
       "      <td>12095.0</td>\n",
       "      <td>1</td>\n",
       "      <td>0</td>\n",
       "      <td>0</td>\n",
       "      <td>224.000000</td>\n",
       "      <td>0</td>\n",
       "      <td>0</td>\n",
       "      <td>0</td>\n",
       "      <td>...</td>\n",
       "      <td>1</td>\n",
       "      <td>0</td>\n",
       "      <td>0</td>\n",
       "      <td>0</td>\n",
       "      <td>0</td>\n",
       "      <td>0</td>\n",
       "      <td>NaN</td>\n",
       "      <td>NaN</td>\n",
       "      <td>NaN</td>\n",
       "      <td>1500.0</td>\n",
       "    </tr>\n",
       "    <tr>\n",
       "      <th>352</th>\n",
       "      <td>1.209502e+10</td>\n",
       "      <td>Orange</td>\n",
       "      <td>12095.0</td>\n",
       "      <td>11</td>\n",
       "      <td>1</td>\n",
       "      <td>2</td>\n",
       "      <td>128.375000</td>\n",
       "      <td>3</td>\n",
       "      <td>1</td>\n",
       "      <td>0</td>\n",
       "      <td>...</td>\n",
       "      <td>1</td>\n",
       "      <td>0</td>\n",
       "      <td>3</td>\n",
       "      <td>0</td>\n",
       "      <td>0</td>\n",
       "      <td>0</td>\n",
       "      <td>50.00</td>\n",
       "      <td>46.250000</td>\n",
       "      <td>36.428571</td>\n",
       "      <td>1160.0</td>\n",
       "    </tr>\n",
       "    <tr>\n",
       "      <th>353</th>\n",
       "      <td>1.209502e+10</td>\n",
       "      <td>Orange</td>\n",
       "      <td>12095.0</td>\n",
       "      <td>11</td>\n",
       "      <td>0</td>\n",
       "      <td>2</td>\n",
       "      <td>117.600000</td>\n",
       "      <td>2</td>\n",
       "      <td>0</td>\n",
       "      <td>0</td>\n",
       "      <td>...</td>\n",
       "      <td>0</td>\n",
       "      <td>0</td>\n",
       "      <td>2</td>\n",
       "      <td>0</td>\n",
       "      <td>0</td>\n",
       "      <td>0</td>\n",
       "      <td>84.25</td>\n",
       "      <td>66.500000</td>\n",
       "      <td>35.333333</td>\n",
       "      <td>1520.0</td>\n",
       "    </tr>\n",
       "  </tbody>\n",
       "</table>\n",
       "<p>354 rows × 33 columns</p>\n",
       "</div>"
      ],
      "text/plain": [
       "      CensusTract        County  CountyCode  ActiveSubsidies  \\\n",
       "0    1.205700e+10  Hillsborough     12057.0                8   \n",
       "1    1.205700e+10  Hillsborough     12057.0                4   \n",
       "2    1.205700e+10  Hillsborough     12057.0                1   \n",
       "3    1.205700e+10  Hillsborough     12057.0                1   \n",
       "4    1.205700e+10  Hillsborough     12057.0                1   \n",
       "..            ...           ...         ...              ...   \n",
       "349  1.209502e+10        Orange     12095.0                1   \n",
       "350  1.209502e+10        Orange     12095.0                2   \n",
       "351  1.209502e+10        Orange     12095.0                1   \n",
       "352  1.209502e+10        Orange     12095.0               11   \n",
       "353  1.209502e+10        Orange     12095.0               11   \n",
       "\n",
       "     TotalInconclusiveSubsidies  TotalInactiveSubsidies  TotalUnits  \\\n",
       "0                             0                       1   55.571429   \n",
       "1                             0                       3   63.000000   \n",
       "2                             0                       0   84.000000   \n",
       "3                             0                       0    2.000000   \n",
       "4                             0                       0   96.000000   \n",
       "..                          ...                     ...         ...   \n",
       "349                           1                       0   55.000000   \n",
       "350                           0                       2   95.500000   \n",
       "351                           0                       0  224.000000   \n",
       "352                           1                       2  128.375000   \n",
       "353                           0                       2  117.600000   \n",
       "\n",
       "     NumberActiveSection8  NumberInconclusiveSection8  NumberInactiveSection8  \\\n",
       "0                       4                           0                       0   \n",
       "1                       2                           0                       0   \n",
       "2                       0                           0                       0   \n",
       "3                       0                           0                       0   \n",
       "4                       0                           0                       0   \n",
       "..                    ...                         ...                     ...   \n",
       "349                     0                           1                       0   \n",
       "350                     0                           0                       0   \n",
       "351                     0                           0                       0   \n",
       "352                     3                           1                       0   \n",
       "353                     2                           0                       0   \n",
       "\n",
       "     ...  NumberActivePublicHousing  NumberInactivePublicHousing  \\\n",
       "0    ...                          0                            0   \n",
       "1    ...                          0                            0   \n",
       "2    ...                          0                            0   \n",
       "3    ...                          0                            0   \n",
       "4    ...                          0                            0   \n",
       "..   ...                        ...                          ...   \n",
       "349  ...                          0                            0   \n",
       "350  ...                          1                            0   \n",
       "351  ...                          1                            0   \n",
       "352  ...                          1                            0   \n",
       "353  ...                          0                            0   \n",
       "\n",
       "     NumberActiveState  NumberInactiveState  NumberActivePBV  NumberActiveMR  \\\n",
       "0                    2                    0                2               0   \n",
       "1                    1                    0                0               0   \n",
       "2                    0                    0                1               0   \n",
       "3                    0                    0                0               0   \n",
       "4                    1                    0                0               0   \n",
       "..                 ...                  ...              ...             ...   \n",
       "349                  1                    0                0               0   \n",
       "350                  0                    0                0               1   \n",
       "351                  0                    0                0               0   \n",
       "352                  3                    0                0               0   \n",
       "353                  2                    0                0               0   \n",
       "\n",
       "     StudioOneBedroomUnits  TwoBedroomUnits  ThreePlusBedroomUnits  \\\n",
       "0                    69.50         5.600000               0.000000   \n",
       "1                    92.00         1.333333               0.000000   \n",
       "2                      NaN              NaN                    NaN   \n",
       "3                      NaN         1.000000               1.000000   \n",
       "4                    72.00        24.000000               0.000000   \n",
       "..                     ...              ...                    ...   \n",
       "349                  55.00         0.000000               0.000000   \n",
       "350                    NaN         0.000000               0.000000   \n",
       "351                    NaN              NaN                    NaN   \n",
       "352                  50.00        46.250000              36.428571   \n",
       "353                  84.25        66.500000              35.333333   \n",
       "\n",
       "     FairMarketRent_2BR  \n",
       "0                1220.0  \n",
       "1                1070.0  \n",
       "2                1070.0  \n",
       "3                1070.0  \n",
       "4                1220.0  \n",
       "..                  ...  \n",
       "349              1980.0  \n",
       "350              1130.0  \n",
       "351              1500.0  \n",
       "352              1160.0  \n",
       "353              1520.0  \n",
       "\n",
       "[354 rows x 33 columns]"
      ]
     },
     "execution_count": 23,
     "metadata": {},
     "output_type": "execute_result"
    }
   ],
   "source": [
    "nhpd_fl_census_tract"
   ]
  }
 ],
 "metadata": {
  "kernelspec": {
   "display_name": "Python 3",
   "language": "python",
   "name": "python3"
  },
  "language_info": {
   "codemirror_mode": {
    "name": "ipython",
    "version": 3
   },
   "file_extension": ".py",
   "mimetype": "text/x-python",
   "name": "python",
   "nbconvert_exporter": "python",
   "pygments_lexer": "ipython3",
   "version": "3.7.9"
  }
 },
 "nbformat": 4,
 "nbformat_minor": 5
}
