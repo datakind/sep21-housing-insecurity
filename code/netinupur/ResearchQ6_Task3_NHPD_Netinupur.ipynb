{
 "cells": [
  {
   "cell_type": "markdown",
   "id": "efc212fe",
   "metadata": {},
   "source": [
    "### Read in NHPD data"
   ]
  },
  {
   "cell_type": "code",
   "execution_count": 189,
   "id": "8bfcd72d",
   "metadata": {},
   "outputs": [],
   "source": [
    "#Pandas display options\n",
    "import pandas as pd\n",
    "pd.options.display.max_rows = 999"
   ]
  },
  {
   "cell_type": "code",
   "execution_count": 190,
   "id": "2783cf60",
   "metadata": {},
   "outputs": [
    {
     "name": "stdout",
     "output_type": "stream",
     "text": [
      "Requirement already satisfied: gdown in /Users/netinupur/anaconda3/lib/python3.7/site-packages (3.10.1)\n",
      "Requirement already satisfied: six in /Users/netinupur/anaconda3/lib/python3.7/site-packages (from gdown) (1.15.0)\n",
      "Requirement already satisfied: requests[socks] in /Users/netinupur/anaconda3/lib/python3.7/site-packages (from gdown) (2.25.1)\n",
      "Requirement already satisfied: tqdm in /Users/netinupur/anaconda3/lib/python3.7/site-packages (from gdown) (4.59.0)\n",
      "Requirement already satisfied: filelock in /Users/netinupur/anaconda3/lib/python3.7/site-packages (from gdown) (3.0.12)\n",
      "Requirement already satisfied: chardet<5,>=3.0.2 in /Users/netinupur/anaconda3/lib/python3.7/site-packages (from requests[socks]->gdown) (3.0.4)\n",
      "Requirement already satisfied: urllib3<1.27,>=1.21.1 in /Users/netinupur/anaconda3/lib/python3.7/site-packages (from requests[socks]->gdown) (1.26.4)\n",
      "Requirement already satisfied: idna<3,>=2.5 in /Users/netinupur/anaconda3/lib/python3.7/site-packages (from requests[socks]->gdown) (2.10)\n",
      "Requirement already satisfied: certifi>=2017.4.17 in /Users/netinupur/anaconda3/lib/python3.7/site-packages (from requests[socks]->gdown) (2020.12.5)\n",
      "Requirement already satisfied: PySocks!=1.5.7,>=1.5.6 in /Users/netinupur/anaconda3/lib/python3.7/site-packages (from requests[socks]->gdown) (1.7.1)\n"
     ]
    }
   ],
   "source": [
    "#Use gdown to download the NHPD data\n",
    "!pip install gdown"
   ]
  },
  {
   "cell_type": "code",
   "execution_count": 191,
   "id": "d18da9bf",
   "metadata": {},
   "outputs": [
    {
     "name": "stderr",
     "output_type": "stream",
     "text": [
      "Downloading...\n",
      "From: https://drive.google.com/u/0/uc?id=19EMDNi6AT4pecx_iWltZv0GxLYqv4Eof&export=download\n",
      "To: /Users/netinupur/Desktop/sep21-housing-insecurity/code/netinupur/data/active_and_inconclusive_communities.xlsx\n",
      "44.4MB [00:01, 36.8MB/s]\n"
     ]
    },
    {
     "data": {
      "text/plain": [
       "'./data/active_and_inconclusive_communities.xlsx'"
      ]
     },
     "execution_count": 191,
     "metadata": {},
     "output_type": "execute_result"
    }
   ],
   "source": [
    "#Download the NHPD data into the ./data/ folder\n",
    "import gdown\n",
    "\n",
    "url = 'https://drive.google.com/u/0/uc?id=19EMDNi6AT4pecx_iWltZv0GxLYqv4Eof&export=download'\n",
    "output = './data/active_and_inconclusive_communities.xlsx'\n",
    "gdown.download(url, output, quiet=False)\n"
   ]
  },
  {
   "cell_type": "code",
   "execution_count": 192,
   "id": "cbabe69a",
   "metadata": {},
   "outputs": [],
   "source": [
    "#Read the downloaded file\n",
    "#nhpd_data=pd.read_excel('./data/active_and_inconclusive_communities.xlsx')"
   ]
  },
  {
   "cell_type": "code",
   "execution_count": 193,
   "id": "ff523d4b",
   "metadata": {},
   "outputs": [],
   "source": [
    "# If you have converted to csv locally use the below line, it is faster to read in \n",
    "nhpd_data = pd.read_csv(\"./data/active_and_inconclusive_communities.csv\")"
   ]
  },
  {
   "cell_type": "code",
   "execution_count": 194,
   "id": "62601d06",
   "metadata": {},
   "outputs": [],
   "source": [
    "# Subset to Hillsborough, Miami-Dade and Orange counties\n",
    "nhpd_data = nhpd_data[nhpd_data['County'].isin(['Hillsborough','Miami-Dade','Orange'])]"
   ]
  },
  {
   "cell_type": "markdown",
   "id": "19bc4a5a",
   "metadata": {},
   "source": [
    "### Column Selection"
   ]
  },
  {
   "cell_type": "code",
   "execution_count": 195,
   "id": "b600cbfa",
   "metadata": {},
   "outputs": [
    {
     "name": "stdout",
     "output_type": "stream",
     "text": [
      "Total Columns 252\n",
      "Total Columns after removing columns with high NAs 128\n"
     ]
    }
   ],
   "source": [
    "# NA cleaning \n",
    "# Subset cols which have less NAs than max_NA_percentage and drop them \n",
    "max_NA_percentage = 0.95\n",
    "print(\"Total Columns\", nhpd_data.shape[1])\n",
    "nhpd_data = nhpd_data.loc[:, nhpd_data.isnull().sum() < max_NA_percentage*nhpd_data.shape[0]]\n",
    "print(\"Total Columns after removing columns with high NAs\", nhpd_data.shape[1])"
   ]
  },
  {
   "cell_type": "code",
   "execution_count": 196,
   "id": "e4056872",
   "metadata": {},
   "outputs": [
    {
     "data": {
      "text/plain": [
       "['NHPDPropertyID',\n",
       " 'PropertyName',\n",
       " 'PropertyAddress',\n",
       " 'City',\n",
       " 'State',\n",
       " 'Zip',\n",
       " 'CBSACode',\n",
       " 'CBSAType',\n",
       " 'County',\n",
       " 'CountyCode',\n",
       " 'CensusTract',\n",
       " 'CongressionalDistrict',\n",
       " 'Latitude',\n",
       " 'Longitude',\n",
       " 'PropertyStatus',\n",
       " 'ActiveSubsidies',\n",
       " 'TotalInconclusiveSubsidies',\n",
       " 'TotalInactiveSubsidies',\n",
       " 'TotalUnits',\n",
       " 'EarliestStartDate',\n",
       " 'EarliestEndDate',\n",
       " 'LatestEndDate',\n",
       " 'Owner',\n",
       " 'OwnerType',\n",
       " 'ManagerName',\n",
       " 'ManagerType',\n",
       " 'HUDPropertyID',\n",
       " 'ReacScore1',\n",
       " 'ReacScore1Date',\n",
       " 'ReacScore2',\n",
       " 'ReacScore2Date',\n",
       " 'ReacScore3',\n",
       " 'ReacScore3Date',\n",
       " 'StudioOneBedroomUnits',\n",
       " 'TwoBedroomUnits',\n",
       " 'ThreePlusBedroomUnits',\n",
       " 'PercentofELIHouseholds',\n",
       " 'TargetTenantType',\n",
       " 'FairMarketRent_2BR',\n",
       " 'EarliestConstructionDate',\n",
       " 'LatestConstructionDate',\n",
       " 'OccupancyRate',\n",
       " 'AverageMonthsOfTenancy',\n",
       " 'NumberActiveSection8',\n",
       " 'NumberInconclusiveSection8',\n",
       " 'NumberInactiveSection8',\n",
       " 'S8_1_ID',\n",
       " 'S8_1_Status',\n",
       " 'S8_1_ProgramName',\n",
       " 'S8_1_RenewalStatus',\n",
       " 'S8_1_StartDate',\n",
       " 'S8_1_EndDate',\n",
       " 'S8_1_AssistedUnits',\n",
       " 'S8_1_RentToFMR',\n",
       " 'NumberActiveSection202',\n",
       " 'NumberInconclusiveSection202',\n",
       " 'NumberInactiveSection202',\n",
       " 'NumberActiveSection236',\n",
       " 'NumberInconclusiveSection236',\n",
       " 'NumberInactiveSection236',\n",
       " 'NumberActiveHUDInsured',\n",
       " 'NumberInconclusiveHUDInsured',\n",
       " 'NumberInactiveHud',\n",
       " 'FHA_1_ID',\n",
       " 'FHA_1_Status',\n",
       " 'FHA_1_ProgramName',\n",
       " 'FHA_1_StartDate',\n",
       " 'FHA_1_EndDate',\n",
       " 'FHA_1_AssistedUnits',\n",
       " 'FHA_1_PrincipalBalance',\n",
       " 'NumberActiveLihtc',\n",
       " 'NumberInconclusiveLihtc',\n",
       " 'NumberInactiveLihtc',\n",
       " 'LIHTC_1_ID',\n",
       " 'LIHTC_1_Status',\n",
       " 'LIHTC_1_ProgramName',\n",
       " 'LIHTC_1_StartDate',\n",
       " 'LIHTC_1_EndDate',\n",
       " 'LIHTC_1_AssistedUnits',\n",
       " 'LIHTC_1_ConstructionType',\n",
       " 'NumberActiveSection515',\n",
       " 'NumberInconclusiveSection515',\n",
       " 'NumberInactiveSection515',\n",
       " 'NumberActiveSection538',\n",
       " 'NumberInconclusiveSection538',\n",
       " 'NumberInactiveSection538',\n",
       " 'NumberActiveHome',\n",
       " 'NumberInconclusiveHome',\n",
       " 'NumberInactiveHome',\n",
       " 'HOME_1_ID',\n",
       " 'HOME_1_Status',\n",
       " 'HOME_1_ProgramName',\n",
       " 'HOME_1_StartDate',\n",
       " 'HOME_1_EndDate',\n",
       " 'HOME_1_AssistedUnits',\n",
       " 'HOME_1_ConstructionType',\n",
       " 'NumberActivePublicHousing',\n",
       " 'NumberInconclusivePublicHousing',\n",
       " 'NumberInactivePublicHousing',\n",
       " 'PH_1_ID',\n",
       " 'PH_1_Status',\n",
       " 'PH_1_ProgramName',\n",
       " 'PH_1_AssistedUnits',\n",
       " 'PH_1_PhaCode',\n",
       " 'NumberActiveState',\n",
       " 'NumberInconclusiveState',\n",
       " 'NumberInactiveState',\n",
       " 'State_1_ID',\n",
       " 'State_1_Status',\n",
       " 'State_1_ProgramName',\n",
       " 'State_1_StartDate',\n",
       " 'State_1_EndDate',\n",
       " 'State_1_AssistedUnits',\n",
       " 'State_1_InacStatusDesc',\n",
       " 'State_1_ConstructionType',\n",
       " 'State_2_ID',\n",
       " 'State_2_Status',\n",
       " 'State_2_ProgramName',\n",
       " 'State_2_StartDate',\n",
       " 'State_2_AssistedUnits',\n",
       " 'State_2_ConstructionType',\n",
       " 'NumberActivePBV',\n",
       " 'NumberInconclusivePBV',\n",
       " 'NumberInactivePBV',\n",
       " 'NumberActiveMR',\n",
       " 'NumberInconclusiveMR',\n",
       " 'NumberInactiveMR',\n",
       " 'OldNHPDPropertyID']"
      ]
     },
     "execution_count": 196,
     "metadata": {},
     "output_type": "execute_result"
    }
   ],
   "source": [
    "list(nhpd_data.columns)"
   ]
  },
  {
   "cell_type": "code",
   "execution_count": 197,
   "id": "b663f675",
   "metadata": {},
   "outputs": [],
   "source": [
    "#Incorporate Anabel and Sam's analysis of full and/or informative columns + which has usable data\n",
    "colstokeep=[\n",
    "'CountyCode',\n",
    "'CensusTract',\n",
    "'County',\n",
    "'ActiveSubsidies',\n",
    "'TotalInconclusiveSubsidies',\n",
    "'TotalInactiveSubsidies',\n",
    "'TotalUnits',\n",
    "'OwnerType',\n",
    "'TargetTenantType',\n",
    " 'ManagerType',\n",
    "'StudioOneBedroomUnits',\n",
    "'TwoBedroomUnits',\n",
    "'ThreePlusBedroomUnits',\n",
    "'FairMarketRent_2BR']\n",
    "nhpd_data=nhpd_data[colstokeep]"
   ]
  },
  {
   "cell_type": "code",
   "execution_count": 198,
   "id": "8e14014d",
   "metadata": {},
   "outputs": [
    {
     "data": {
      "text/plain": [
       "(1609, 14)"
      ]
     },
     "execution_count": 198,
     "metadata": {},
     "output_type": "execute_result"
    }
   ],
   "source": [
    "nhpd_data.shape"
   ]
  },
  {
   "cell_type": "code",
   "execution_count": 199,
   "id": "4d2e6216",
   "metadata": {},
   "outputs": [
    {
     "name": "stderr",
     "output_type": "stream",
     "text": [
      "/Users/netinupur/.local/lib/python3.7/site-packages/ipykernel_launcher.py:6: FutureWarning: The default value of regex will change from True to False in a future version.\n",
      "  \n"
     ]
    }
   ],
   "source": [
    "# Thanks to Laura Prichard - Homogenizing column formats\n",
    "\n",
    "# Target Tenant Type cleaning\n",
    "nhpd_data['TargetTenantType'] = nhpd_data['TargetTenantType'].str.replace(\"Eldery or Disabled\", \"Elderly or Disabled\")\n",
    "nhpd_data['TargetTenantType'] = nhpd_data['TargetTenantType'].str.replace(\"Mixed;Link\", \"Mixed\")\n",
    "nhpd_data['TargetTenantType'] = nhpd_data['TargetTenantType'].str.replace(\"Indv. families - not eld/ handicap\", \"Family\")\n",
    "nhpd_data['TargetTenantType'] = nhpd_data['TargetTenantType'].str.replace(\"Senior\", \"Elderly\")\n",
    "nhpd_data['TargetTenantType'] = nhpd_data['TargetTenantType'].str.replace(\"Family & Elderly\", \"Mixed\")\n",
    "nhpd_data['TargetTenantType'] = nhpd_data['TargetTenantType'].str.replace(\"Homeless Veterans\", \"Veterans\")\n",
    "nhpd_data['TargetTenantType'] = nhpd_data['TargetTenantType'].str.replace(\"Mixed Income\", \"Mixed\")\n",
    "nhpd_data['TargetTenantType'] = nhpd_data['TargetTenantType'].str.replace(\"OTHER\", \"Mixed\")\n",
    "nhpd_data['TargetTenantType'] = nhpd_data['TargetTenantType'].str.replace(\"Affordable\", \"Low Income\")\n",
    "nhpd_data['TargetTenantType'] = nhpd_data['TargetTenantType'].str.title()"
   ]
  },
  {
   "cell_type": "markdown",
   "id": "dc5e8c10",
   "metadata": {},
   "source": [
    "### Column Aggregation per census Tract"
   ]
  },
  {
   "cell_type": "code",
   "execution_count": 214,
   "id": "13852455",
   "metadata": {},
   "outputs": [],
   "source": [
    "# Make lists of columns to sum and those to average at a census tract level\n",
    "columns_to_sum = ['ActiveSubsidies', 'TotalInconclusiveSubsidies',\n",
    "       'TotalInactiveSubsidies', 'TotalUnits', ]\n",
    "columns_to_average = ['TotalUnits',\n",
    " 'StudioOneBedroomUnits',\n",
    " 'TwoBedroomUnits',\n",
    " 'ThreePlusBedroomUnits',\n",
    " 'FairMarketRent_2BR']\n",
    "columns_for_mode = ['TargetTenantType','ManagerType', 'OwnerType']\n",
    "\n",
    "#Create a dictionary to pass to agg function \n",
    "agg_dict = dict()\n",
    "\n",
    "for col in columns_to_sum:\n",
    "    agg_dict[col] = \"sum\"\n",
    "for col in columns_to_average:\n",
    "    agg_dict[col] = \"mean\"\n",
    "\n",
    "# Aggregate the dataframe at a census tract level using the aggregate dictionary we just created\n",
    "nhpd_fl_census_tract = nhpd_data.groupby(['CensusTract', 'County', 'CountyCode']).agg(agg_dict).reset_index()\n",
    "\n",
    "nhpd_fl_census_tract_mode = nhpd_data.groupby(['CensusTract', 'County', 'CountyCode'])[columns_for_mode].agg(pd.Series.mode).reset_index()\n"
   ]
  },
  {
   "cell_type": "code",
   "execution_count": 215,
   "id": "5e588f29",
   "metadata": {},
   "outputs": [
    {
     "data": {
      "text/html": [
       "<div>\n",
       "<style scoped>\n",
       "    .dataframe tbody tr th:only-of-type {\n",
       "        vertical-align: middle;\n",
       "    }\n",
       "\n",
       "    .dataframe tbody tr th {\n",
       "        vertical-align: top;\n",
       "    }\n",
       "\n",
       "    .dataframe thead th {\n",
       "        text-align: right;\n",
       "    }\n",
       "</style>\n",
       "<table border=\"1\" class=\"dataframe\">\n",
       "  <thead>\n",
       "    <tr style=\"text-align: right;\">\n",
       "      <th></th>\n",
       "      <th>CensusTract</th>\n",
       "      <th>County</th>\n",
       "      <th>CountyCode</th>\n",
       "      <th>ActiveSubsidies</th>\n",
       "      <th>TotalInconclusiveSubsidies</th>\n",
       "      <th>TotalInactiveSubsidies</th>\n",
       "      <th>TotalUnits</th>\n",
       "      <th>StudioOneBedroomUnits</th>\n",
       "      <th>TwoBedroomUnits</th>\n",
       "      <th>ThreePlusBedroomUnits</th>\n",
       "      <th>FairMarketRent_2BR</th>\n",
       "      <th>TargetTenantType</th>\n",
       "      <th>ManagerType</th>\n",
       "      <th>OwnerType</th>\n",
       "    </tr>\n",
       "  </thead>\n",
       "  <tbody>\n",
       "    <tr>\n",
       "      <th>0</th>\n",
       "      <td>6.059001e+09</td>\n",
       "      <td>Orange</td>\n",
       "      <td>6059.0</td>\n",
       "      <td>1</td>\n",
       "      <td>0</td>\n",
       "      <td>1</td>\n",
       "      <td>56.0</td>\n",
       "      <td>55.0</td>\n",
       "      <td>0.0</td>\n",
       "      <td>0.0</td>\n",
       "      <td>2010.0</td>\n",
       "      <td>Elderly</td>\n",
       "      <td>Profit Motivated</td>\n",
       "      <td>Profit Motivated</td>\n",
       "    </tr>\n",
       "    <tr>\n",
       "      <th>1</th>\n",
       "      <td>6.059001e+09</td>\n",
       "      <td>Orange</td>\n",
       "      <td>6059.0</td>\n",
       "      <td>2</td>\n",
       "      <td>0</td>\n",
       "      <td>4</td>\n",
       "      <td>58.0</td>\n",
       "      <td>14.0</td>\n",
       "      <td>43.0</td>\n",
       "      <td>36.0</td>\n",
       "      <td>2010.0</td>\n",
       "      <td>Family</td>\n",
       "      <td>For Profit</td>\n",
       "      <td>For Profit</td>\n",
       "    </tr>\n",
       "    <tr>\n",
       "      <th>2</th>\n",
       "      <td>6.059001e+09</td>\n",
       "      <td>Orange</td>\n",
       "      <td>6059.0</td>\n",
       "      <td>1</td>\n",
       "      <td>0</td>\n",
       "      <td>0</td>\n",
       "      <td>72.0</td>\n",
       "      <td>20.0</td>\n",
       "      <td>52.0</td>\n",
       "      <td>NaN</td>\n",
       "      <td>2010.0</td>\n",
       "      <td>[]</td>\n",
       "      <td>[]</td>\n",
       "      <td>For Profit</td>\n",
       "    </tr>\n",
       "    <tr>\n",
       "      <th>3</th>\n",
       "      <td>6.059002e+09</td>\n",
       "      <td>Orange</td>\n",
       "      <td>6059.0</td>\n",
       "      <td>2</td>\n",
       "      <td>0</td>\n",
       "      <td>1</td>\n",
       "      <td>69.0</td>\n",
       "      <td>41.0</td>\n",
       "      <td>50.0</td>\n",
       "      <td>1.0</td>\n",
       "      <td>2440.0</td>\n",
       "      <td>Family</td>\n",
       "      <td>[]</td>\n",
       "      <td>For Profit</td>\n",
       "    </tr>\n",
       "    <tr>\n",
       "      <th>4</th>\n",
       "      <td>6.059002e+09</td>\n",
       "      <td>Orange</td>\n",
       "      <td>6059.0</td>\n",
       "      <td>1</td>\n",
       "      <td>0</td>\n",
       "      <td>0</td>\n",
       "      <td>1.0</td>\n",
       "      <td>NaN</td>\n",
       "      <td>NaN</td>\n",
       "      <td>NaN</td>\n",
       "      <td>2440.0</td>\n",
       "      <td>[]</td>\n",
       "      <td>[]</td>\n",
       "      <td>[]</td>\n",
       "    </tr>\n",
       "  </tbody>\n",
       "</table>\n",
       "</div>"
      ],
      "text/plain": [
       "    CensusTract  County  CountyCode  ActiveSubsidies  \\\n",
       "0  6.059001e+09  Orange      6059.0                1   \n",
       "1  6.059001e+09  Orange      6059.0                2   \n",
       "2  6.059001e+09  Orange      6059.0                1   \n",
       "3  6.059002e+09  Orange      6059.0                2   \n",
       "4  6.059002e+09  Orange      6059.0                1   \n",
       "\n",
       "   TotalInconclusiveSubsidies  TotalInactiveSubsidies  TotalUnits  \\\n",
       "0                           0                       1        56.0   \n",
       "1                           0                       4        58.0   \n",
       "2                           0                       0        72.0   \n",
       "3                           0                       1        69.0   \n",
       "4                           0                       0         1.0   \n",
       "\n",
       "   StudioOneBedroomUnits  TwoBedroomUnits  ThreePlusBedroomUnits  \\\n",
       "0                   55.0              0.0                    0.0   \n",
       "1                   14.0             43.0                   36.0   \n",
       "2                   20.0             52.0                    NaN   \n",
       "3                   41.0             50.0                    1.0   \n",
       "4                    NaN              NaN                    NaN   \n",
       "\n",
       "   FairMarketRent_2BR TargetTenantType       ManagerType         OwnerType  \n",
       "0              2010.0          Elderly  Profit Motivated  Profit Motivated  \n",
       "1              2010.0           Family        For Profit        For Profit  \n",
       "2              2010.0               []                []        For Profit  \n",
       "3              2440.0           Family                []        For Profit  \n",
       "4              2440.0               []                []                []  "
      ]
     },
     "execution_count": 215,
     "metadata": {},
     "output_type": "execute_result"
    }
   ],
   "source": [
    "# Join mode grouped df back to sum and avergae data\n",
    "nhpd_fl_census_tract = pd.merge(nhpd_fl_census_tract, nhpd_fl_census_tract_mode, on = ['CensusTract', 'County', 'CountyCode'], how = 'left')\n",
    "nhpd_fl_census_tract.head()"
   ]
  },
  {
   "cell_type": "markdown",
   "id": "fc36850e",
   "metadata": {},
   "source": [
    "### Merging with Housing loss data"
   ]
  },
  {
   "cell_type": "code",
   "execution_count": 202,
   "id": "eab6af14",
   "metadata": {},
   "outputs": [
    {
     "name": "stderr",
     "output_type": "stream",
     "text": [
      "Downloading...\n",
      "From: https://drive.google.com/uc?id=1abt4fLPO__KxBLz9SXue5VKeZN3cUcCF&export=download\n",
      "To: /Users/netinupur/Desktop/sep21-housing-insecurity/code/netinupur/data/hills_loss.csv\n",
      "100%|██████████| 207k/207k [00:00<00:00, 3.23MB/s]\n",
      "Downloading...\n",
      "From: https://drive.google.com/uc?id=1gLojTGS6HQ1s60gmIxFCq2xObB1634BU&export=download\n",
      "To: /Users/netinupur/Desktop/sep21-housing-insecurity/code/netinupur/data/miami_loss.csv\n",
      "100%|██████████| 321k/321k [00:00<00:00, 4.54MB/s]\n",
      "Downloading...\n",
      "From: https://drive.google.com/uc?id=15ee2QrH8a_yuIfptGwAsVF-tWGTEYXCy&export=download\n",
      "To: /Users/netinupur/Desktop/sep21-housing-insecurity/code/netinupur/data/orange_loss.csv\n",
      "100%|██████████| 143k/143k [00:00<00:00, 3.02MB/s]\n"
     ]
    },
    {
     "data": {
      "text/plain": [
       "'./data/orange_loss.csv'"
      ]
     },
     "execution_count": 202,
     "metadata": {},
     "output_type": "execute_result"
    }
   ],
   "source": [
    "#Read housing loss data\n",
    "#Hillsborough\n",
    "url = 'https://drive.google.com/uc?id=1abt4fLPO__KxBLz9SXue5VKeZN3cUcCF&export=download'\n",
    "output = './data/hills_loss.csv'\n",
    "gdown.download(url, output, quiet=False)\n",
    "#Miami-Dade\n",
    "url = 'https://drive.google.com/uc?id=1gLojTGS6HQ1s60gmIxFCq2xObB1634BU&export=download'\n",
    "output = './data/miami_loss.csv'\n",
    "gdown.download(url, output, quiet=False)\n",
    "#Orange\n",
    "url = 'https://drive.google.com/uc?id=15ee2QrH8a_yuIfptGwAsVF-tWGTEYXCy&export=download'\n",
    "output = './data/orange_loss.csv'\n",
    "gdown.download(url, output, quiet=False)"
   ]
  },
  {
   "cell_type": "code",
   "execution_count": 203,
   "id": "4c91abd6",
   "metadata": {},
   "outputs": [],
   "source": [
    "housing_loss=pd.concat([pd.read_csv('./data/hills_loss.csv'),\n",
    "                       pd.read_csv('./data/miami_loss.csv'),\n",
    "                       pd.read_csv('./data/orange_loss.csv')])"
   ]
  },
  {
   "cell_type": "code",
   "execution_count": 204,
   "id": "38f1e012",
   "metadata": {},
   "outputs": [],
   "source": [
    "#Get census tracts, compare with those in NHPD data\n",
    "housing_loss.rename(columns={'census_tract_GEOID':'CensusTract'},inplace=True)"
   ]
  },
  {
   "cell_type": "code",
   "execution_count": 216,
   "id": "6c3a9422",
   "metadata": {},
   "outputs": [],
   "source": [
    "nhpd_fl_census_tract=nhpd_fl_census_tract.merge(housing_loss,how=\"inner\",on=['CensusTract'])"
   ]
  },
  {
   "cell_type": "code",
   "execution_count": 217,
   "id": "d5aaabe0",
   "metadata": {},
   "outputs": [
    {
     "data": {
      "text/html": [
       "<div>\n",
       "<style scoped>\n",
       "    .dataframe tbody tr th:only-of-type {\n",
       "        vertical-align: middle;\n",
       "    }\n",
       "\n",
       "    .dataframe tbody tr th {\n",
       "        vertical-align: top;\n",
       "    }\n",
       "\n",
       "    .dataframe thead th {\n",
       "        text-align: right;\n",
       "    }\n",
       "</style>\n",
       "<table border=\"1\" class=\"dataframe\">\n",
       "  <thead>\n",
       "    <tr style=\"text-align: right;\">\n",
       "      <th></th>\n",
       "      <th>CensusTract</th>\n",
       "      <th>County</th>\n",
       "      <th>CountyCode</th>\n",
       "      <th>ActiveSubsidies</th>\n",
       "      <th>TotalInconclusiveSubsidies</th>\n",
       "      <th>TotalInactiveSubsidies</th>\n",
       "      <th>TotalUnits</th>\n",
       "      <th>StudioOneBedroomUnits</th>\n",
       "      <th>TwoBedroomUnits</th>\n",
       "      <th>ThreePlusBedroomUnits</th>\n",
       "      <th>...</th>\n",
       "      <th>lien-foreclosure-rate-2019</th>\n",
       "      <th>avg-eviction-rate</th>\n",
       "      <th>ratio-to-mean-foreclosure-rate</th>\n",
       "      <th>ratio-to-mean-eviction-rate</th>\n",
       "      <th>avg-housing-loss-rate</th>\n",
       "      <th>evictions-pct-total-housing-loss</th>\n",
       "      <th>housing-loss-index</th>\n",
       "      <th>county_GEOID</th>\n",
       "      <th>county</th>\n",
       "      <th>state</th>\n",
       "    </tr>\n",
       "  </thead>\n",
       "  <tbody>\n",
       "    <tr>\n",
       "      <th>0</th>\n",
       "      <td>1.205700e+10</td>\n",
       "      <td>Hillsborough</td>\n",
       "      <td>12057.0</td>\n",
       "      <td>8</td>\n",
       "      <td>0</td>\n",
       "      <td>1</td>\n",
       "      <td>55.571429</td>\n",
       "      <td>69.5</td>\n",
       "      <td>5.600000</td>\n",
       "      <td>0.0</td>\n",
       "      <td>...</td>\n",
       "      <td>0.000000</td>\n",
       "      <td>2.860353</td>\n",
       "      <td>1.311987</td>\n",
       "      <td>1.262704</td>\n",
       "      <td>2.448286</td>\n",
       "      <td>0.919438</td>\n",
       "      <td>1.613917</td>\n",
       "      <td>12057</td>\n",
       "      <td>Hillsborough County</td>\n",
       "      <td>Florida</td>\n",
       "    </tr>\n",
       "    <tr>\n",
       "      <th>1</th>\n",
       "      <td>1.205700e+10</td>\n",
       "      <td>Hillsborough</td>\n",
       "      <td>12057.0</td>\n",
       "      <td>4</td>\n",
       "      <td>0</td>\n",
       "      <td>3</td>\n",
       "      <td>63.000000</td>\n",
       "      <td>92.0</td>\n",
       "      <td>1.333333</td>\n",
       "      <td>0.0</td>\n",
       "      <td>...</td>\n",
       "      <td>0.613497</td>\n",
       "      <td>3.600563</td>\n",
       "      <td>1.947692</td>\n",
       "      <td>1.589470</td>\n",
       "      <td>3.444325</td>\n",
       "      <td>0.971989</td>\n",
       "      <td>2.270508</td>\n",
       "      <td>12057</td>\n",
       "      <td>Hillsborough County</td>\n",
       "      <td>Florida</td>\n",
       "    </tr>\n",
       "    <tr>\n",
       "      <th>2</th>\n",
       "      <td>1.205700e+10</td>\n",
       "      <td>Hillsborough</td>\n",
       "      <td>12057.0</td>\n",
       "      <td>1</td>\n",
       "      <td>0</td>\n",
       "      <td>0</td>\n",
       "      <td>84.000000</td>\n",
       "      <td>NaN</td>\n",
       "      <td>NaN</td>\n",
       "      <td>NaN</td>\n",
       "      <td>...</td>\n",
       "      <td>NaN</td>\n",
       "      <td>4.615454</td>\n",
       "      <td>1.983724</td>\n",
       "      <td>2.037495</td>\n",
       "      <td>3.711221</td>\n",
       "      <td>0.893916</td>\n",
       "      <td>2.446447</td>\n",
       "      <td>12057</td>\n",
       "      <td>Hillsborough County</td>\n",
       "      <td>Florida</td>\n",
       "    </tr>\n",
       "    <tr>\n",
       "      <th>3</th>\n",
       "      <td>1.205700e+10</td>\n",
       "      <td>Hillsborough</td>\n",
       "      <td>12057.0</td>\n",
       "      <td>1</td>\n",
       "      <td>0</td>\n",
       "      <td>0</td>\n",
       "      <td>2.000000</td>\n",
       "      <td>NaN</td>\n",
       "      <td>1.000000</td>\n",
       "      <td>1.0</td>\n",
       "      <td>...</td>\n",
       "      <td>0.111235</td>\n",
       "      <td>3.730073</td>\n",
       "      <td>2.862517</td>\n",
       "      <td>1.646643</td>\n",
       "      <td>3.314329</td>\n",
       "      <td>0.851795</td>\n",
       "      <td>2.184815</td>\n",
       "      <td>12057</td>\n",
       "      <td>Hillsborough County</td>\n",
       "      <td>Florida</td>\n",
       "    </tr>\n",
       "    <tr>\n",
       "      <th>4</th>\n",
       "      <td>1.205700e+10</td>\n",
       "      <td>Hillsborough</td>\n",
       "      <td>12057.0</td>\n",
       "      <td>1</td>\n",
       "      <td>0</td>\n",
       "      <td>0</td>\n",
       "      <td>96.000000</td>\n",
       "      <td>72.0</td>\n",
       "      <td>24.000000</td>\n",
       "      <td>0.0</td>\n",
       "      <td>...</td>\n",
       "      <td>0.437637</td>\n",
       "      <td>5.487367</td>\n",
       "      <td>1.628673</td>\n",
       "      <td>2.422401</td>\n",
       "      <td>3.914863</td>\n",
       "      <td>0.893568</td>\n",
       "      <td>2.580689</td>\n",
       "      <td>12057</td>\n",
       "      <td>Hillsborough County</td>\n",
       "      <td>Florida</td>\n",
       "    </tr>\n",
       "  </tbody>\n",
       "</table>\n",
       "<p>5 rows × 86 columns</p>\n",
       "</div>"
      ],
      "text/plain": [
       "    CensusTract        County  CountyCode  ActiveSubsidies  \\\n",
       "0  1.205700e+10  Hillsborough     12057.0                8   \n",
       "1  1.205700e+10  Hillsborough     12057.0                4   \n",
       "2  1.205700e+10  Hillsborough     12057.0                1   \n",
       "3  1.205700e+10  Hillsborough     12057.0                1   \n",
       "4  1.205700e+10  Hillsborough     12057.0                1   \n",
       "\n",
       "   TotalInconclusiveSubsidies  TotalInactiveSubsidies  TotalUnits  \\\n",
       "0                           0                       1   55.571429   \n",
       "1                           0                       3   63.000000   \n",
       "2                           0                       0   84.000000   \n",
       "3                           0                       0    2.000000   \n",
       "4                           0                       0   96.000000   \n",
       "\n",
       "   StudioOneBedroomUnits  TwoBedroomUnits  ThreePlusBedroomUnits  ...  \\\n",
       "0                   69.5         5.600000                    0.0  ...   \n",
       "1                   92.0         1.333333                    0.0  ...   \n",
       "2                    NaN              NaN                    NaN  ...   \n",
       "3                    NaN         1.000000                    1.0  ...   \n",
       "4                   72.0        24.000000                    0.0  ...   \n",
       "\n",
       "   lien-foreclosure-rate-2019 avg-eviction-rate  \\\n",
       "0                    0.000000          2.860353   \n",
       "1                    0.613497          3.600563   \n",
       "2                         NaN          4.615454   \n",
       "3                    0.111235          3.730073   \n",
       "4                    0.437637          5.487367   \n",
       "\n",
       "  ratio-to-mean-foreclosure-rate ratio-to-mean-eviction-rate  \\\n",
       "0                       1.311987                    1.262704   \n",
       "1                       1.947692                    1.589470   \n",
       "2                       1.983724                    2.037495   \n",
       "3                       2.862517                    1.646643   \n",
       "4                       1.628673                    2.422401   \n",
       "\n",
       "   avg-housing-loss-rate  evictions-pct-total-housing-loss  \\\n",
       "0               2.448286                          0.919438   \n",
       "1               3.444325                          0.971989   \n",
       "2               3.711221                          0.893916   \n",
       "3               3.314329                          0.851795   \n",
       "4               3.914863                          0.893568   \n",
       "\n",
       "   housing-loss-index  county_GEOID               county    state  \n",
       "0            1.613917         12057  Hillsborough County  Florida  \n",
       "1            2.270508         12057  Hillsborough County  Florida  \n",
       "2            2.446447         12057  Hillsborough County  Florida  \n",
       "3            2.184815         12057  Hillsborough County  Florida  \n",
       "4            2.580689         12057  Hillsborough County  Florida  \n",
       "\n",
       "[5 rows x 86 columns]"
      ]
     },
     "execution_count": 217,
     "metadata": {},
     "output_type": "execute_result"
    }
   ],
   "source": [
    "nhpd_fl_census_tract.head()"
   ]
  },
  {
   "cell_type": "code",
   "execution_count": 218,
   "id": "544e3163",
   "metadata": {},
   "outputs": [
    {
     "data": {
      "text/plain": [
       "(354, 86)"
      ]
     },
     "execution_count": 218,
     "metadata": {},
     "output_type": "execute_result"
    }
   ],
   "source": [
    "nhpd_fl_census_tract.shape"
   ]
  },
  {
   "cell_type": "markdown",
   "id": "35ad0730",
   "metadata": {},
   "source": [
    "#### Column selection in merge data"
   ]
  },
  {
   "cell_type": "code",
   "execution_count": 219,
   "id": "cd5ba249",
   "metadata": {},
   "outputs": [],
   "source": [
    "# Subset columns for analysis\n",
    "cols_to_keep = ['ActiveSubsidies',\n",
    "       'TotalInconclusiveSubsidies', 'TotalInactiveSubsidies', 'TotalUnits',\n",
    "       'StudioOneBedroomUnits', 'TwoBedroomUnits', 'ThreePlusBedroomUnits',\n",
    "       'FairMarketRent_2BR', 'total-households',\n",
    "       'total-renter-occupied-households', 'total-owner-occupied-households',\n",
    "       'total-owner-occupied-households-mortgage', 'median-gross-rent',\n",
    "       'median-household-income', 'median-property-value',\n",
    "       'median-monthly-housing-cost', 'pct-white', 'pct-af-am', 'pct-hispanic',\n",
    "       'pct-am-indian', 'pct-asian', 'pct-nh-pi', 'pct-multiple', 'pct-other',\n",
    "       'pct-below-poverty-level', 'households-children',\n",
    "       'single-parent-household', 'older-adult-alone', 'level-of-education',\n",
    "       'immigrant-status', 'english-fluency', 'drive-to-work',\n",
    "       'public-transport-to-work', 'vacant-properties', 'live-in-mobile-home',\n",
    "       'pct-renter-occupied', 'pct-owner-occupied',\n",
    "       'pct-owner-occupied-mortgage', 'pct-owner-occupied-without-mortgage',\n",
    "       'median-house-age', 'pct-non-white', 'pct-without-health-insurance',\n",
    "       'total-evictions', 'avg-evictions', 'total-foreclosure-sales',\n",
    "       'avg-foreclosure-sales', 'total-lien-foreclosures',\n",
    "       'avg-lien-foreclosures', 'total-evictions-2017',\n",
    "       'eviction-filings-2017', 'eviction-rate-2017', 'total-evictions-2018',\n",
    "       'eviction-filings-2018', 'eviction-rate-2018', 'total-evictions-2019',\n",
    "       'eviction-filings-2019', 'eviction-rate-2019', 'foreclosure-sales-2017',\n",
    "       'foreclosure-sales-2018', 'foreclosure-sales-2019',\n",
    "       'lien-foreclosures-2017', 'lien-foreclosures-2018',\n",
    "       'lien-foreclosures-2019', 'avg-foreclosure-rate',\n",
    "       'foreclosure-rate-2017', 'foreclosure-rate-2018',\n",
    "       'foreclosure-rate-2019', 'avg-lien-foreclosure-rate',\n",
    "       'lien-foreclosure-rate-2017', 'lien-foreclosure-rate-2018',\n",
    "       'lien-foreclosure-rate-2019', 'avg-eviction-rate',\n",
    "       'ratio-to-mean-foreclosure-rate', 'ratio-to-mean-eviction-rate',\n",
    "       'avg-housing-loss-rate', 'evictions-pct-total-housing-loss',\n",
    "       'housing-loss-index']\n",
    "\n",
    "nhpd_fl_census_tract=nhpd_fl_census_tract[cols_to_keep]"
   ]
  },
  {
   "cell_type": "code",
   "execution_count": 220,
   "id": "ff44d3bd",
   "metadata": {},
   "outputs": [
    {
     "data": {
      "text/plain": [
       "ActiveSubsidies                             0.000000\n",
       "TotalInconclusiveSubsidies                  0.000000\n",
       "TotalInactiveSubsidies                      0.000000\n",
       "TotalUnits                                  0.000000\n",
       "StudioOneBedroomUnits                       0.220339\n",
       "TwoBedroomUnits                             0.163842\n",
       "ThreePlusBedroomUnits                       0.132768\n",
       "FairMarketRent_2BR                          0.000000\n",
       "total-households                            0.000000\n",
       "total-renter-occupied-households            0.000000\n",
       "total-owner-occupied-households             0.000000\n",
       "total-owner-occupied-households-mortgage    0.000000\n",
       "median-gross-rent                           0.000000\n",
       "median-household-income                     0.000000\n",
       "median-property-value                       0.000000\n",
       "median-monthly-housing-cost                 0.000000\n",
       "pct-white                                   0.000000\n",
       "pct-af-am                                   0.000000\n",
       "pct-hispanic                                0.000000\n",
       "pct-am-indian                               0.000000\n",
       "pct-asian                                   0.000000\n",
       "pct-nh-pi                                   0.000000\n",
       "pct-multiple                                0.000000\n",
       "pct-other                                   0.000000\n",
       "pct-below-poverty-level                     0.000000\n",
       "households-children                         0.000000\n",
       "single-parent-household                     0.000000\n",
       "older-adult-alone                           0.000000\n",
       "level-of-education                          0.000000\n",
       "immigrant-status                            0.000000\n",
       "english-fluency                             0.000000\n",
       "drive-to-work                               0.000000\n",
       "public-transport-to-work                    0.000000\n",
       "vacant-properties                           0.000000\n",
       "live-in-mobile-home                         0.000000\n",
       "pct-renter-occupied                         0.000000\n",
       "pct-owner-occupied                          0.000000\n",
       "pct-owner-occupied-mortgage                 0.000000\n",
       "pct-owner-occupied-without-mortgage         0.000000\n",
       "median-house-age                            0.000000\n",
       "pct-non-white                               0.000000\n",
       "pct-without-health-insurance                0.000000\n",
       "total-evictions                             0.000000\n",
       "avg-evictions                               0.000000\n",
       "total-foreclosure-sales                     0.022599\n",
       "avg-foreclosure-sales                       0.022599\n",
       "total-lien-foreclosures                     0.166667\n",
       "avg-lien-foreclosures                       0.166667\n",
       "total-evictions-2017                        0.000000\n",
       "eviction-filings-2017                       0.000000\n",
       "eviction-rate-2017                          0.000000\n",
       "total-evictions-2018                        0.000000\n",
       "eviction-filings-2018                       0.000000\n",
       "eviction-rate-2018                          0.000000\n",
       "total-evictions-2019                        0.000000\n",
       "eviction-filings-2019                       0.000000\n",
       "eviction-rate-2019                          0.000000\n",
       "foreclosure-sales-2017                      0.022599\n",
       "foreclosure-sales-2018                      0.022599\n",
       "foreclosure-sales-2019                      0.022599\n",
       "lien-foreclosures-2017                      0.166667\n",
       "lien-foreclosures-2018                      0.166667\n",
       "lien-foreclosures-2019                      0.166667\n",
       "avg-foreclosure-rate                        0.022599\n",
       "foreclosure-rate-2017                       0.022599\n",
       "foreclosure-rate-2018                       0.025424\n",
       "foreclosure-rate-2019                       0.025424\n",
       "avg-lien-foreclosure-rate                   0.166667\n",
       "lien-foreclosure-rate-2017                  0.169492\n",
       "lien-foreclosure-rate-2018                  0.166667\n",
       "lien-foreclosure-rate-2019                  0.169492\n",
       "avg-eviction-rate                           0.000000\n",
       "ratio-to-mean-foreclosure-rate              0.022599\n",
       "ratio-to-mean-eviction-rate                 0.000000\n",
       "avg-housing-loss-rate                       0.022599\n",
       "evictions-pct-total-housing-loss            0.022599\n",
       "housing-loss-index                          0.022599\n",
       "dtype: float64"
      ]
     },
     "execution_count": 220,
     "metadata": {},
     "output_type": "execute_result"
    }
   ],
   "source": [
    "# See percentage of NAs in joined data\n",
    "nhpd_fl_census_tract.isnull().sum()/nhpd_fl_census_tract.shape[0]"
   ]
  },
  {
   "cell_type": "code",
   "execution_count": 221,
   "id": "7bc51cbc",
   "metadata": {},
   "outputs": [],
   "source": [
    "# Drop rows with NAs since columns that has NAs are <25% NAs\n",
    "nhpd_fl_census_tract.dropna(inplace = True)"
   ]
  },
  {
   "cell_type": "code",
   "execution_count": 222,
   "id": "9c1c14af",
   "metadata": {},
   "outputs": [
    {
     "data": {
      "text/plain": [
       "(225, 77)"
      ]
     },
     "execution_count": 222,
     "metadata": {},
     "output_type": "execute_result"
    }
   ],
   "source": [
    "nhpd_fl_census_tract.shape"
   ]
  },
  {
   "cell_type": "markdown",
   "id": "30d9ee8e",
   "metadata": {},
   "source": [
    "### Finding correlations"
   ]
  },
  {
   "cell_type": "code",
   "execution_count": 212,
   "id": "638ef940",
   "metadata": {},
   "outputs": [
    {
     "name": "stdout",
     "output_type": "stream",
     "text": [
      "Top Absolute Correlations\n",
      "pct-white                        pct-non-white                               1.000000\n",
      "pct-renter-occupied              pct-owner-occupied                          1.000000\n",
      "total-evictions                  avg-evictions                               0.999976\n",
      "total-foreclosure-sales          avg-foreclosure-sales                       0.999742\n",
      "total-lien-foreclosures          avg-lien-foreclosures                       0.998025\n",
      "total-evictions-2019             eviction-filings-2019                       0.986200\n",
      "total-owner-occupied-households  total-owner-occupied-households-mortgage    0.977952\n",
      "total-evictions-2018             eviction-filings-2018                       0.976844\n",
      "total-evictions                  total-evictions-2018                        0.976151\n",
      "avg-evictions                    total-evictions-2018                        0.976095\n",
      "total-evictions                  total-evictions-2017                        0.969518\n",
      "avg-evictions                    total-evictions-2017                        0.969463\n",
      "total-foreclosure-sales          foreclosure-sales-2017                      0.966384\n",
      "avg-foreclosure-sales            foreclosure-sales-2017                      0.966354\n",
      "total-evictions-2017             eviction-filings-2017                       0.965496\n",
      "total-evictions                  eviction-filings-2018                       0.963622\n",
      "avg-evictions                    eviction-filings-2018                       0.963567\n",
      "                                 total-evictions-2019                        0.960287\n",
      "total-evictions                  total-evictions-2019                        0.960254\n",
      "                                 eviction-filings-2017                       0.957492\n",
      "avg-evictions                    eviction-filings-2017                       0.957450\n",
      "avg-housing-loss-rate            housing-loss-index                          0.953636\n",
      "eviction-filings-2017            eviction-filings-2018                       0.952881\n",
      "total-evictions-2017             total-evictions-2018                        0.946887\n",
      "avg-evictions                    eviction-filings-2019                       0.945391\n",
      "total-evictions                  eviction-filings-2019                       0.945385\n",
      "lien-foreclosures-2017           lien-foreclosure-rate-2017                  0.934665\n",
      "pct-owner-occupied               pct-owner-occupied-mortgage                 0.933885\n",
      "pct-renter-occupied              pct-owner-occupied-mortgage                 0.933885\n",
      "total-evictions-2017             eviction-filings-2018                       0.930788\n",
      "dtype: float64\n"
     ]
    }
   ],
   "source": [
    "def get_redundant_pairs(df):\n",
    "    '''Get diagonal and lower triangular pairs of correlation matrix'''\n",
    "    pairs_to_drop = set()\n",
    "    cols = df.columns\n",
    "    for i in range(0, df.shape[1]):\n",
    "        for j in range(0, i+1):\n",
    "            pairs_to_drop.add((cols[i], cols[j]))\n",
    "    return pairs_to_drop\n",
    "\n",
    "def get_top_abs_correlations(df, n=30):\n",
    "    au_corr = df.corr().abs().unstack()\n",
    "    labels_to_drop = get_redundant_pairs(df)\n",
    "    au_corr = au_corr.drop(labels=labels_to_drop).sort_values(ascending=False)\n",
    "    return au_corr[0:n]\n",
    "\n",
    "print(\"Top Absolute Correlations\")\n",
    "print(get_top_abs_correlations(nhpd_fl_census_tract))"
   ]
  },
  {
   "cell_type": "code",
   "execution_count": 223,
   "id": "941b9e2b",
   "metadata": {},
   "outputs": [],
   "source": [
    "### Removing columns which are redundant \n",
    "cols_to_drop = ['pct-white','pct-owner-occupied','total-evictions','total-foreclosure-sales','total-lien-foreclosures',\n",
    "               'total-lien-foreclosures', 'total-evictions-2019','total-owner-occupied-households','total-evictions-2018','total-evictions',\n",
    "               'total-foreclosure-sales', 'total-lien-foreclosures','total-lien-foreclosures','total-evictions-2019',\n",
    "                'total-owner-occupied-households','total-evictions-2018','total-evictions-2018','total-evictions',\n",
    "               'foreclosure-sales-2017','eviction-filings-2017','eviction-filings-2018','total-evictions-2019',\n",
    "               'eviction-filings-2017','eviction-filings-2018','lien-foreclosures-2017','total-evictions-2017', 'eviction-rate-2017', 'eviction-rate-2018',\n",
    "       'eviction-filings-2019', 'eviction-rate-2019', 'foreclosure-sales-2018',\n",
    "       'foreclosure-sales-2019', 'lien-foreclosures-2018',\n",
    "       'lien-foreclosures-2019', \n",
    "       'foreclosure-rate-2017', 'foreclosure-rate-2018',\n",
    "       'foreclosure-rate-2019', \n",
    "       'lien-foreclosure-rate-2017', 'lien-foreclosure-rate-2018',\n",
    "       'lien-foreclosure-rate-2019']\n",
    "\n",
    "nhpd_fl_census_tract = nhpd_fl_census_tract.drop(cols_to_drop, axis = 1)"
   ]
  },
  {
   "cell_type": "code",
   "execution_count": 224,
   "id": "cff3c0a7",
   "metadata": {},
   "outputs": [
    {
     "data": {
      "text/plain": [
       "Index(['ActiveSubsidies', 'TotalInconclusiveSubsidies',\n",
       "       'TotalInactiveSubsidies', 'TotalUnits', 'StudioOneBedroomUnits',\n",
       "       'TwoBedroomUnits', 'ThreePlusBedroomUnits', 'FairMarketRent_2BR',\n",
       "       'total-households', 'total-renter-occupied-households',\n",
       "       'total-owner-occupied-households-mortgage', 'median-gross-rent',\n",
       "       'median-household-income', 'median-property-value',\n",
       "       'median-monthly-housing-cost', 'pct-af-am', 'pct-hispanic',\n",
       "       'pct-am-indian', 'pct-asian', 'pct-nh-pi', 'pct-multiple', 'pct-other',\n",
       "       'pct-below-poverty-level', 'households-children',\n",
       "       'single-parent-household', 'older-adult-alone', 'level-of-education',\n",
       "       'immigrant-status', 'english-fluency', 'drive-to-work',\n",
       "       'public-transport-to-work', 'vacant-properties', 'live-in-mobile-home',\n",
       "       'pct-renter-occupied', 'pct-owner-occupied-mortgage',\n",
       "       'pct-owner-occupied-without-mortgage', 'median-house-age',\n",
       "       'pct-non-white', 'pct-without-health-insurance', 'avg-evictions',\n",
       "       'avg-foreclosure-sales', 'avg-lien-foreclosures',\n",
       "       'avg-foreclosure-rate', 'avg-lien-foreclosure-rate',\n",
       "       'avg-eviction-rate', 'ratio-to-mean-foreclosure-rate',\n",
       "       'ratio-to-mean-eviction-rate', 'avg-housing-loss-rate',\n",
       "       'evictions-pct-total-housing-loss', 'housing-loss-index'],\n",
       "      dtype='object')"
      ]
     },
     "execution_count": 224,
     "metadata": {},
     "output_type": "execute_result"
    }
   ],
   "source": [
    "nhpd_fl_census_tract.columns"
   ]
  },
  {
   "cell_type": "code",
   "execution_count": 225,
   "id": "a17fd680",
   "metadata": {},
   "outputs": [],
   "source": [
    "nhpd_fl_census_tract.to_csv(\"data/nhpd_fl_census_tract_housing_loss.csv\", index=False)"
   ]
  },
  {
   "cell_type": "markdown",
   "id": "7417572b",
   "metadata": {},
   "source": [
    "### Next Steps"
   ]
  },
  {
   "cell_type": "markdown",
   "id": "4546fdd2",
   "metadata": {},
   "source": [
    "For anyone working on this, you could take the output data of this, and build a regression model to predict a target of your choice. Something related to eviction rates or foreclosure and then find the stastistically significant predictors of the target to see which variables affect evictions."
   ]
  }
 ],
 "metadata": {
  "kernelspec": {
   "display_name": "Python 3",
   "language": "python",
   "name": "python3"
  },
  "language_info": {
   "codemirror_mode": {
    "name": "ipython",
    "version": 3
   },
   "file_extension": ".py",
   "mimetype": "text/x-python",
   "name": "python",
   "nbconvert_exporter": "python",
   "pygments_lexer": "ipython3",
   "version": "3.7.7"
  }
 },
 "nbformat": 4,
 "nbformat_minor": 5
}
